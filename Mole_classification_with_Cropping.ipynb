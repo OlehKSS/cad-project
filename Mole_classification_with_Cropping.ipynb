{
  "nbformat": 4,
  "nbformat_minor": 0,
  "metadata": {
    "colab": {
      "name": "Mole_classification_with_Cropping",
      "version": "0.3.2",
      "provenance": [],
      "collapsed_sections": [],
      "include_colab_link": true
    },
    "kernelspec": {
      "name": "python3",
      "display_name": "Python 3"
    },
    "accelerator": "GPU"
  },
  "cells": [
    {
      "cell_type": "markdown",
      "metadata": {
        "id": "view-in-github",
        "colab_type": "text"
      },
      "source": [
        "<a href=\"https://colab.research.google.com/github/OlehKSS/cad-project/blob/master/Mole_classification_with_Cropping.ipynb\" target=\"_parent\"><img src=\"https://colab.research.google.com/assets/colab-badge.svg\" alt=\"Open In Colab\"/></a>"
      ]
    },
    {
      "metadata": {
        "id": "rpPoCdE0Z_u2",
        "colab_type": "text"
      },
      "cell_type": "markdown",
      "source": [
        "# Mole Classification"
      ]
    },
    {
      "metadata": {
        "id": "rgPQgNnScNIx",
        "colab_type": "code",
        "colab": {}
      },
      "cell_type": "code",
      "source": [
        "import io\n",
        "import os\n",
        "\n",
        "\n",
        "import tensorflow as tf\n",
        "import matplotlib.pyplot as plt\n",
        "import numpy as np"
      ],
      "execution_count": 0,
      "outputs": []
    },
    {
      "metadata": {
        "id": "ThmiC6vzd6Ji",
        "colab_type": "code",
        "outputId": "17192269-25dc-450d-e5f0-4cee3a5bcd70",
        "colab": {
          "base_uri": "https://localhost:8080/",
          "height": 34
        }
      },
      "cell_type": "code",
      "source": [
        "tf.test.is_gpu_available()"
      ],
      "execution_count": 0,
      "outputs": [
        {
          "output_type": "execute_result",
          "data": {
            "text/plain": [
              "True"
            ]
          },
          "metadata": {
            "tags": []
          },
          "execution_count": 2
        }
      ]
    },
    {
      "metadata": {
        "id": "6IMswSytBkx-",
        "colab_type": "code",
        "outputId": "fd5be3be-2cfc-4cc3-a903-f579cae2a367",
        "colab": {
          "base_uri": "https://localhost:8080/",
          "height": 34
        }
      },
      "cell_type": "code",
      "source": [
        "tf.__version__"
      ],
      "execution_count": 0,
      "outputs": [
        {
          "output_type": "execute_result",
          "data": {
            "text/plain": [
              "'1.12.0'"
            ]
          },
          "metadata": {
            "tags": []
          },
          "execution_count": 3
        }
      ]
    },
    {
      "metadata": {
        "id": "a4cyr-X4cOoh",
        "colab_type": "text"
      },
      "cell_type": "markdown",
      "source": [
        "## Google Drive"
      ]
    },
    {
      "metadata": {
        "id": "BePmruVsaGLt",
        "colab_type": "code",
        "colab": {}
      },
      "cell_type": "code",
      "source": [
        "# login to drive\n",
        "from google.colab import auth\n",
        "from googleapiclient.http import MediaFileUpload, MediaIoBaseDownload\n",
        "from googleapiclient.discovery import build\n",
        "\n",
        "\n",
        "auth.authenticate_user()\n",
        "\n",
        "drive_service = build('drive', 'v3')"
      ],
      "execution_count": 0,
      "outputs": []
    },
    {
      "metadata": {
        "id": "Gg1QHxtfaN2H",
        "colab_type": "code",
        "colab": {}
      },
      "cell_type": "code",
      "source": [
        "# helper functions\n",
        "def get_file(file_id, file_name):\n",
        "  '''Get a file from GoogleDrive.'''\n",
        "  request = drive_service.files().get_media(fileId=file_id)\n",
        "  #downloaded = io.BytesIO()\n",
        "  downloaded = io.FileIO(file_name, 'wb')\n",
        "  downloader = MediaIoBaseDownload(downloaded, request)\n",
        "  done = False\n",
        "  \n",
        "  while done is False:\n",
        "    # _ is a placeholder for a progress object that we ignore.\n",
        "    # (Our file is small, so we skip reporting progress.)\n",
        "    status, done = downloader.next_chunk()\n",
        "     \n",
        "    perc = int(100 * status.progress())\n",
        "    print('\\r[%s%s]' % ('=' * perc, ' ' * (50 - perc)))\n",
        "  \n",
        "  #downloaded.seek(0)\n",
        "  #print(os.fstat(downloaded.fileno()).st_size)\n",
        "  downloaded.flush()\n",
        "  os.fsync(downloaded)\n",
        "  downloaded.close()\n",
        "  print('File has been downloaded successfully!')\n",
        "  \n",
        "  #return downloaded\n",
        "  \n",
        "  \n",
        "def save_file_to_drive(name, path):\n",
        "  \"\"\"Save a file to GoogleDrive.\"\"\"\n",
        "  file_metadata = {'name': name, 'mimeType': 'application/octet-stream'}\n",
        "\n",
        "  media = MediaFileUpload(path, mimetype='application/octet-stream', resumable=True)\n",
        "\n",
        "  created = drive_service.files().create(body=file_metadata, media_body=media, fields='id').execute()\n",
        "\n",
        "  return created\n",
        "\n",
        "\n",
        "def unzip_tar(file_path, out_path):\n",
        "  \"\"\"\n",
        "  Unzip tar.gz files.\n",
        "  \n",
        "  Args:\n",
        "    file_path (str): path to the file to unzip.\n",
        "    out_path (str): output path.\n",
        "  \"\"\"\n",
        "  import tarfile\n",
        "  \n",
        "  tar = tarfile.open(file_path, \"r:gz\")\n",
        "  tar.extractall(out_path)\n",
        "  tar.close()\n",
        "  \n",
        "\n",
        "def val_test_split(val_path, test_path, split=0.5):\n",
        "  \"\"\"\n",
        "  Split our validation data into validation/test sets.\n",
        "  \n",
        "  Args:\n",
        "    val_path (str): validation data path.\n",
        "    test_path (str): path where test files will be copied.\n",
        "    spit (float): split ratio, e.g. if split=0.3, it means that 30% of images \n",
        "      from validation set  will be moved to test set.\n",
        "  \"\"\"\n",
        "  from shutil import move\n",
        "  from os import listdir\n",
        "  from os.path import isdir, join\n",
        "  from random import sample\n",
        "  \n",
        "  onlydirs = tuple(f for f in listdir(val_path) if isdir(join(val_path, f)))\n",
        "  \n",
        "  os.mkdir(test_path)\n",
        "  \n",
        "  for dir in onlydirs:\n",
        "    os.mkdir(join(test_path, dir))\n",
        "    files = tuple(f for f in listdir(join(val_path, dir)) if not isdir(join(val_path, dir, f)))\n",
        "    # number of files to choose\n",
        "    k = int(split * len(files))\n",
        "    \n",
        "    files_to_move = sample(files, k)\n",
        "    \n",
        "    for file in files_to_move:\n",
        "      move(join(val_path, dir, file), join(test_path, dir))\n",
        "  \n",
        "  \n",
        "def plot_history(history):\n",
        "    \"\"\"Plots training history of the Keras model.\"\"\"\n",
        "    hist = history.history\n",
        "\n",
        "    acc = hist['acc']\n",
        "    val_acc = hist['val_acc']\n",
        "    loss = hist['loss']\n",
        "    val_loss = hist['val_loss']\n",
        "\n",
        "    epochs = range(1, len(acc) + 1)\n",
        "\n",
        "    plt.plot(epochs, acc, '*-', label='Training acc')\n",
        "    plt.plot(epochs, val_acc, 'b', label='Validation acc')\n",
        "    plt.title('Training and validation accuracy')\n",
        "    plt.legend()\n",
        "\n",
        "    plt.figure()\n",
        "    plt.plot(epochs, loss, '*-', label='Training loss')\n",
        "    plt.plot(epochs, val_loss, 'b', label='Validation loss')\n",
        "    plt.title('Training and validation loss')\n",
        "    plt.legend()\n",
        "    plt.show()\n",
        "    \n",
        "    \n",
        "def crop_images(train_path, val_path, y, x):\n",
        "  \"\"\"Crop images to remove black borders\n",
        "  Args: \n",
        "    train_path (string): path to training image folder\n",
        "    val_path (string): path to validation image folder\n",
        "    y (int): cropping on each side in y direction\n",
        "    x (int): croppingon each side in x direction\"\"\"\n",
        "  import cv2\n",
        "\n",
        "  from os import listdir\n",
        "  from os.path import isdir, join\n",
        "  from random import sample\n",
        "  \n",
        "  for top_dir in (train_path, val_path):\n",
        "  \n",
        "    onlydirs = tuple(f for f in listdir(top_dir) if isdir(join(top_dir, f)))\n",
        "  \n",
        "    for dir in onlydirs:\n",
        "      for file in listdir(join(top_dir, dir)):\n",
        "        img = cv2.imread(join(top_dir, dir, file))\n",
        "        h, w, _ = img.shape\n",
        "        crop_img = img[y:h-y, x:w-x]\n",
        "        cv2.imwrite(join(top_dir, dir, file), crop_img)\n",
        "\n",
        "  \n",
        "  \n",
        "  \n",
        "  "
      ],
      "execution_count": 0,
      "outputs": []
    },
    {
      "metadata": {
        "id": "cO2PbwJ5bQnG",
        "colab_type": "text"
      },
      "cell_type": "markdown",
      "source": [
        "## Get Data"
      ]
    },
    {
      "metadata": {
        "id": "om-H9bfPaeie",
        "colab_type": "code",
        "outputId": "4ae39662-cb56-4ee1-9a30-0b474a67eab9",
        "colab": {
          "base_uri": "https://localhost:8080/",
          "height": 340
        }
      },
      "cell_type": "code",
      "source": [
        "# CAD challenge 1, simple classification\n",
        "train_data_id = '1AntSN4wcQ5x48wYXKnXJRzksPZYagQIr'\n",
        "val_data_id = '14WHiW3wfjKKSbqXExzuWzxWwj-mVlA-F'\n",
        "\n",
        "train_file_name = 'train.tar.gz'\n",
        "val_data_name = 'val.tar.gz'\n",
        "\n",
        "get_file(train_data_id, train_file_name)\n",
        "get_file(val_data_id, val_data_name)"
      ],
      "execution_count": 0,
      "outputs": [
        {
          "output_type": "stream",
          "text": [
            "[=======                                           ]\n",
            "[===============                                   ]\n",
            "[=======================                           ]\n",
            "[===============================                   ]\n",
            "[=======================================           ]\n",
            "[===============================================   ]\n",
            "[=======================================================]\n",
            "[==============================================================]\n",
            "[======================================================================]\n",
            "[==============================================================================]\n",
            "[======================================================================================]\n",
            "[==============================================================================================]\n",
            "[====================================================================================================]\n",
            "File has been downloaded successfully!\n",
            "[===============================                   ]\n",
            "[==============================================================]\n",
            "[==============================================================================================]\n",
            "[====================================================================================================]\n",
            "File has been downloaded successfully!\n"
          ],
          "name": "stdout"
        }
      ]
    },
    {
      "metadata": {
        "id": "Dy-12C5hbtzy",
        "colab_type": "code",
        "outputId": "fb1cb669-32ae-475d-ae4a-2c03a9d46ad3",
        "colab": {
          "base_uri": "https://localhost:8080/",
          "height": 317
        }
      },
      "cell_type": "code",
      "source": [
        "# ! rm -rf data\n",
        "# !unzip ./data.zip\n",
        "\n",
        "train_path = './train'\n",
        "val_path = './val'\n",
        "test_path = './test'\n",
        "\n",
        "# since archive contains a folder already\n",
        "unzip_tar(train_file_name, './')\n",
        "unzip_tar(val_data_name, './')\n",
        "crop_images(train_path, val_path, 50, 50)\n",
        "val_test_split(val_path, test_path)"
      ],
      "execution_count": 0,
      "outputs": [
        {
          "output_type": "error",
          "ename": "FileExistsError",
          "evalue": "ignored",
          "traceback": [
            "\u001b[0;31m---------------------------------------------------------------------------\u001b[0m",
            "\u001b[0;31mFileExistsError\u001b[0m                           Traceback (most recent call last)",
            "\u001b[0;32m<ipython-input-11-f1d1e10a4dcb>\u001b[0m in \u001b[0;36m<module>\u001b[0;34m()\u001b[0m\n\u001b[1;32m      8\u001b[0m \u001b[0munzip_tar\u001b[0m\u001b[0;34m(\u001b[0m\u001b[0mval_data_name\u001b[0m\u001b[0;34m,\u001b[0m \u001b[0;34m'./'\u001b[0m\u001b[0;34m)\u001b[0m\u001b[0;34m\u001b[0m\u001b[0;34m\u001b[0m\u001b[0m\n\u001b[1;32m      9\u001b[0m \u001b[0mcrop_images\u001b[0m\u001b[0;34m(\u001b[0m\u001b[0mtrain_path\u001b[0m\u001b[0;34m,\u001b[0m \u001b[0mval_path\u001b[0m\u001b[0;34m,\u001b[0m \u001b[0;36m50\u001b[0m\u001b[0;34m,\u001b[0m \u001b[0;36m50\u001b[0m\u001b[0;34m)\u001b[0m\u001b[0;34m\u001b[0m\u001b[0;34m\u001b[0m\u001b[0m\n\u001b[0;32m---> 10\u001b[0;31m \u001b[0mval_test_split\u001b[0m\u001b[0;34m(\u001b[0m\u001b[0mval_path\u001b[0m\u001b[0;34m,\u001b[0m \u001b[0mtest_path\u001b[0m\u001b[0;34m)\u001b[0m\u001b[0;34m\u001b[0m\u001b[0;34m\u001b[0m\u001b[0m\n\u001b[0m",
            "\u001b[0;32m<ipython-input-9-b84fa76671ab>\u001b[0m in \u001b[0;36mval_test_split\u001b[0;34m(val_path, test_path, split)\u001b[0m\n\u001b[1;32m     68\u001b[0m   \u001b[0monlydirs\u001b[0m \u001b[0;34m=\u001b[0m \u001b[0mtuple\u001b[0m\u001b[0;34m(\u001b[0m\u001b[0mf\u001b[0m \u001b[0;32mfor\u001b[0m \u001b[0mf\u001b[0m \u001b[0;32min\u001b[0m \u001b[0mlistdir\u001b[0m\u001b[0;34m(\u001b[0m\u001b[0mval_path\u001b[0m\u001b[0;34m)\u001b[0m \u001b[0;32mif\u001b[0m \u001b[0misdir\u001b[0m\u001b[0;34m(\u001b[0m\u001b[0mjoin\u001b[0m\u001b[0;34m(\u001b[0m\u001b[0mval_path\u001b[0m\u001b[0;34m,\u001b[0m \u001b[0mf\u001b[0m\u001b[0;34m)\u001b[0m\u001b[0;34m)\u001b[0m\u001b[0;34m)\u001b[0m\u001b[0;34m\u001b[0m\u001b[0;34m\u001b[0m\u001b[0m\n\u001b[1;32m     69\u001b[0m \u001b[0;34m\u001b[0m\u001b[0m\n\u001b[0;32m---> 70\u001b[0;31m   \u001b[0mos\u001b[0m\u001b[0;34m.\u001b[0m\u001b[0mmkdir\u001b[0m\u001b[0;34m(\u001b[0m\u001b[0mtest_path\u001b[0m\u001b[0;34m)\u001b[0m\u001b[0;34m\u001b[0m\u001b[0;34m\u001b[0m\u001b[0m\n\u001b[0m\u001b[1;32m     71\u001b[0m \u001b[0;34m\u001b[0m\u001b[0m\n\u001b[1;32m     72\u001b[0m   \u001b[0;32mfor\u001b[0m \u001b[0mdir\u001b[0m \u001b[0;32min\u001b[0m \u001b[0monlydirs\u001b[0m\u001b[0;34m:\u001b[0m\u001b[0;34m\u001b[0m\u001b[0;34m\u001b[0m\u001b[0m\n",
            "\u001b[0;31mFileExistsError\u001b[0m: [Errno 17] File exists: './test'"
          ]
        }
      ]
    },
    {
      "metadata": {
        "id": "b8eu09EjcKDu",
        "colab_type": "text"
      },
      "cell_type": "markdown",
      "source": [
        "\n",
        "## Prepa Data Generator"
      ]
    },
    {
      "metadata": {
        "id": "4QJQC02eb4mt",
        "colab_type": "code",
        "colab": {}
      },
      "cell_type": "code",
      "source": [
        "import tensorflow.keras as keras\n",
        "from tensorflow.keras import models\n",
        "from tensorflow.keras import layers\n",
        "from tensorflow.keras.preprocessing import image\n",
        "from tensorflow.keras.applications import VGG16, Xception\n",
        "from tensorflow.keras.preprocessing.image import ImageDataGenerator\n",
        "from tensorflow.keras import optimizers\n",
        "\n",
        "from sklearn.metrics import classification_report, confusion_matrix"
      ],
      "execution_count": 0,
      "outputs": []
    },
    {
      "metadata": {
        "id": "L-SnDfwIdOPR",
        "colab_type": "code",
        "colab": {}
      },
      "cell_type": "code",
      "source": [
        "input_img_shape = (250, 175, 3)\n",
        "no_epochs = 40\n",
        "steps_per_epoch = 100\n",
        "validation_steps = 50"
      ],
      "execution_count": 0,
      "outputs": []
    },
    {
      "metadata": {
        "id": "H_3IeVAccFaI",
        "colab_type": "code",
        "outputId": "b5dc7c9a-1084-4340-c3d6-7e2d4c9b3422",
        "colab": {
          "base_uri": "https://localhost:8080/",
          "height": 85
        }
      },
      "cell_type": "code",
      "source": [
        "# with data augentation\n",
        "train_datagen = ImageDataGenerator(rescale=1./255, rotation_range=40,\n",
        "                                   width_shift_range=0.2, height_shift_range=0.2, shear_range=0.2,\n",
        "                                  zoom_range=0.2, horizontal_flip=True, fill_mode='nearest')\n",
        "\n",
        "# without data augmentation\n",
        "# train_datagen = ImageDataGenerator(rescale=1./255)\n",
        "\n",
        "test_datagen = ImageDataGenerator(rescale=1./255)\n",
        "\n",
        "train_gen = train_datagen.flow_from_directory(train_path, target_size=input_img_shape[:2],\n",
        "                                              batch_size=20, class_mode='binary')\n",
        "validation_gen = test_datagen.flow_from_directory(val_path, target_size=input_img_shape[:2],\n",
        "                                              batch_size=20, class_mode='binary')\n",
        "\n",
        "test_gen = test_datagen.flow_from_directory(test_path,\n",
        "                                            target_size=input_img_shape[:2],\n",
        "                                            batch_size=20,\n",
        "                                            #class_mode=None,\n",
        "                                            shuffle=False)\n",
        "\n",
        "train_gen.class_indices"
      ],
      "execution_count": 0,
      "outputs": [
        {
          "output_type": "stream",
          "text": [
            "Found 4800 images belonging to 2 classes.\n",
            "Found 600 images belonging to 2 classes.\n",
            "Found 600 images belonging to 2 classes.\n"
          ],
          "name": "stdout"
        },
        {
          "output_type": "execute_result",
          "data": {
            "text/plain": [
              "{'les': 0, 'nv': 1}"
            ]
          },
          "metadata": {
            "tags": []
          },
          "execution_count": 27
        }
      ]
    },
    {
      "metadata": {
        "id": "kqzhQl5hb2Nj",
        "colab_type": "text"
      },
      "cell_type": "markdown",
      "source": [
        "## Baseline for VGG16"
      ]
    },
    {
      "metadata": {
        "id": "3qhIHq2HcuMp",
        "colab_type": "code",
        "outputId": "ef13f8fb-3265-488b-98b1-3dcf0ab2d88d",
        "colab": {
          "base_uri": "https://localhost:8080/",
          "height": 782
        }
      },
      "cell_type": "code",
      "source": [
        "conv_base_vgg16 = VGG16(weights='imagenet', include_top=False, input_shape=input_img_shape)\n",
        "#conv_base = Xception(weights='imagenet', include_top=False, input_shape=input_img_shape)\n",
        "\n",
        "conv_base_vgg16.summary()"
      ],
      "execution_count": 0,
      "outputs": [
        {
          "output_type": "stream",
          "text": [
            "_________________________________________________________________\n",
            "Layer (type)                 Output Shape              Param #   \n",
            "=================================================================\n",
            "input_2 (InputLayer)         (None, 250, 175, 3)       0         \n",
            "_________________________________________________________________\n",
            "block1_conv1 (Conv2D)        (None, 250, 175, 64)      1792      \n",
            "_________________________________________________________________\n",
            "block1_conv2 (Conv2D)        (None, 250, 175, 64)      36928     \n",
            "_________________________________________________________________\n",
            "block1_pool (MaxPooling2D)   (None, 125, 87, 64)       0         \n",
            "_________________________________________________________________\n",
            "block2_conv1 (Conv2D)        (None, 125, 87, 128)      73856     \n",
            "_________________________________________________________________\n",
            "block2_conv2 (Conv2D)        (None, 125, 87, 128)      147584    \n",
            "_________________________________________________________________\n",
            "block2_pool (MaxPooling2D)   (None, 62, 43, 128)       0         \n",
            "_________________________________________________________________\n",
            "block3_conv1 (Conv2D)        (None, 62, 43, 256)       295168    \n",
            "_________________________________________________________________\n",
            "block3_conv2 (Conv2D)        (None, 62, 43, 256)       590080    \n",
            "_________________________________________________________________\n",
            "block3_conv3 (Conv2D)        (None, 62, 43, 256)       590080    \n",
            "_________________________________________________________________\n",
            "block3_pool (MaxPooling2D)   (None, 31, 21, 256)       0         \n",
            "_________________________________________________________________\n",
            "block4_conv1 (Conv2D)        (None, 31, 21, 512)       1180160   \n",
            "_________________________________________________________________\n",
            "block4_conv2 (Conv2D)        (None, 31, 21, 512)       2359808   \n",
            "_________________________________________________________________\n",
            "block4_conv3 (Conv2D)        (None, 31, 21, 512)       2359808   \n",
            "_________________________________________________________________\n",
            "block4_pool (MaxPooling2D)   (None, 15, 10, 512)       0         \n",
            "_________________________________________________________________\n",
            "block5_conv1 (Conv2D)        (None, 15, 10, 512)       2359808   \n",
            "_________________________________________________________________\n",
            "block5_conv2 (Conv2D)        (None, 15, 10, 512)       2359808   \n",
            "_________________________________________________________________\n",
            "block5_conv3 (Conv2D)        (None, 15, 10, 512)       2359808   \n",
            "_________________________________________________________________\n",
            "block5_pool (MaxPooling2D)   (None, 7, 5, 512)         0         \n",
            "=================================================================\n",
            "Total params: 14,714,688\n",
            "Trainable params: 14,714,688\n",
            "Non-trainable params: 0\n",
            "_________________________________________________________________\n"
          ],
          "name": "stdout"
        }
      ]
    },
    {
      "metadata": {
        "id": "eMVOnRQMcwT3",
        "colab_type": "code",
        "outputId": "faa36a7f-5459-40c1-85ae-f570bf771b69",
        "colab": {
          "base_uri": "https://localhost:8080/",
          "height": 340
        }
      },
      "cell_type": "code",
      "source": [
        "# densely connected classifier on top of the convolutional base\n",
        "model_vgg16 = models.Sequential()\n",
        "model_vgg16.add(conv_base_vgg16)\n",
        "model_vgg16.add(layers.Flatten())\n",
        "model_vgg16.add(layers.BatchNormalization())\n",
        "model_vgg16.add(layers.Dense(256, activation='relu'))\n",
        "model_vgg16.add(layers.BatchNormalization())\n",
        "model_vgg16.add(layers.Dense(1, activation='sigmoid'))\n",
        "\n",
        "# freeze convolutional base\n",
        "conv_base_vgg16.trainable = False\n",
        "\n",
        "model_vgg16.summary()"
      ],
      "execution_count": 0,
      "outputs": [
        {
          "output_type": "stream",
          "text": [
            "_________________________________________________________________\n",
            "Layer (type)                 Output Shape              Param #   \n",
            "=================================================================\n",
            "vgg16 (Model)                (None, 7, 5, 512)         14714688  \n",
            "_________________________________________________________________\n",
            "flatten_1 (Flatten)          (None, 17920)             0         \n",
            "_________________________________________________________________\n",
            "batch_normalization_2 (Batch (None, 17920)             71680     \n",
            "_________________________________________________________________\n",
            "dense_2 (Dense)              (None, 256)               4587776   \n",
            "_________________________________________________________________\n",
            "batch_normalization_3 (Batch (None, 256)               1024      \n",
            "_________________________________________________________________\n",
            "dense_3 (Dense)              (None, 1)                 257       \n",
            "=================================================================\n",
            "Total params: 19,375,425\n",
            "Trainable params: 4,624,385\n",
            "Non-trainable params: 14,751,040\n",
            "_________________________________________________________________\n"
          ],
          "name": "stdout"
        }
      ]
    },
    {
      "metadata": {
        "id": "A1qKXd4UczGk",
        "colab_type": "code",
        "outputId": "0fa1b6cb-e498-4625-de9d-305497c5267b",
        "colab": {
          "base_uri": "https://localhost:8080/",
          "height": 1377
        }
      },
      "cell_type": "code",
      "source": [
        "model_vgg16.compile(loss='binary_crossentropy', optimizer=optimizers.RMSprop(lr=2e-5), metrics=['acc'])\n",
        "\n",
        "history_vgg16 = model_vgg16.fit_generator(train_gen, steps_per_epoch=steps_per_epoch, epochs=no_epochs, validation_data=validation_gen,\n",
        "                              validation_steps=validation_steps)"
      ],
      "execution_count": 0,
      "outputs": [
        {
          "output_type": "stream",
          "text": [
            "Epoch 1/40\n",
            "100/100 [==============================] - 46s 464ms/step - loss: 0.6278 - acc: 0.6990 - val_loss: 0.6147 - val_acc: 0.6360\n",
            "Epoch 2/40\n",
            "100/100 [==============================] - 43s 426ms/step - loss: 0.5318 - acc: 0.7605 - val_loss: 0.5026 - val_acc: 0.7830\n",
            "Epoch 3/40\n",
            "100/100 [==============================] - 43s 428ms/step - loss: 0.5491 - acc: 0.7525 - val_loss: 0.5088 - val_acc: 0.7620\n",
            "Epoch 4/40\n",
            "100/100 [==============================] - 43s 429ms/step - loss: 0.5313 - acc: 0.7640 - val_loss: 0.4760 - val_acc: 0.7860\n",
            "Epoch 5/40\n",
            "100/100 [==============================] - 43s 430ms/step - loss: 0.5341 - acc: 0.7560 - val_loss: 0.4495 - val_acc: 0.7990\n",
            "Epoch 6/40\n",
            "100/100 [==============================] - 43s 426ms/step - loss: 0.5153 - acc: 0.7715 - val_loss: 0.4677 - val_acc: 0.7920\n",
            "Epoch 7/40\n",
            "100/100 [==============================] - 43s 426ms/step - loss: 0.5356 - acc: 0.7550 - val_loss: 0.4774 - val_acc: 0.7820\n",
            "Epoch 8/40\n",
            "100/100 [==============================] - 43s 429ms/step - loss: 0.4946 - acc: 0.7780 - val_loss: 0.4882 - val_acc: 0.7880\n",
            "Epoch 9/40\n",
            "100/100 [==============================] - 43s 425ms/step - loss: 0.4912 - acc: 0.7785 - val_loss: 0.4661 - val_acc: 0.8090\n",
            "Epoch 10/40\n",
            "100/100 [==============================] - 43s 425ms/step - loss: 0.4930 - acc: 0.7780 - val_loss: 0.4682 - val_acc: 0.7910\n",
            "Epoch 11/40\n",
            "100/100 [==============================] - 43s 427ms/step - loss: 0.4499 - acc: 0.7965 - val_loss: 0.4880 - val_acc: 0.8030\n",
            "Epoch 12/40\n",
            "100/100 [==============================] - 43s 427ms/step - loss: 0.4928 - acc: 0.7850 - val_loss: 0.4400 - val_acc: 0.7980\n",
            "Epoch 13/40\n",
            "100/100 [==============================] - 43s 427ms/step - loss: 0.4460 - acc: 0.7985 - val_loss: 0.4614 - val_acc: 0.7940\n",
            "Epoch 14/40\n",
            "100/100 [==============================] - 43s 426ms/step - loss: 0.4775 - acc: 0.7910 - val_loss: 0.4591 - val_acc: 0.8080\n",
            "Epoch 15/40\n",
            "100/100 [==============================] - 43s 425ms/step - loss: 0.4728 - acc: 0.7915 - val_loss: 0.5147 - val_acc: 0.7980\n",
            "Epoch 16/40\n",
            "100/100 [==============================] - 43s 426ms/step - loss: 0.4565 - acc: 0.7980 - val_loss: 0.4732 - val_acc: 0.8030\n",
            "Epoch 17/40\n",
            "100/100 [==============================] - 43s 425ms/step - loss: 0.4625 - acc: 0.7950 - val_loss: 0.4647 - val_acc: 0.8110\n",
            "Epoch 18/40\n",
            "100/100 [==============================] - 43s 426ms/step - loss: 0.4563 - acc: 0.7940 - val_loss: 0.4682 - val_acc: 0.8070\n",
            "Epoch 19/40\n",
            "100/100 [==============================] - 43s 425ms/step - loss: 0.4719 - acc: 0.7835 - val_loss: 0.4773 - val_acc: 0.7920\n",
            "Epoch 20/40\n",
            "100/100 [==============================] - 43s 429ms/step - loss: 0.4505 - acc: 0.7965 - val_loss: 0.4885 - val_acc: 0.7950\n",
            "Epoch 21/40\n",
            "100/100 [==============================] - 43s 426ms/step - loss: 0.4465 - acc: 0.8000 - val_loss: 0.4640 - val_acc: 0.7820\n",
            "Epoch 22/40\n",
            "100/100 [==============================] - 43s 425ms/step - loss: 0.4282 - acc: 0.8135 - val_loss: 0.4828 - val_acc: 0.8080\n",
            "Epoch 23/40\n",
            "100/100 [==============================] - 43s 425ms/step - loss: 0.4493 - acc: 0.8000 - val_loss: 0.4890 - val_acc: 0.7990\n",
            "Epoch 24/40\n",
            "100/100 [==============================] - 43s 426ms/step - loss: 0.4415 - acc: 0.7960 - val_loss: 0.4728 - val_acc: 0.7930\n",
            "Epoch 25/40\n",
            "100/100 [==============================] - 43s 426ms/step - loss: 0.4211 - acc: 0.8215 - val_loss: 0.4815 - val_acc: 0.7910\n",
            "Epoch 26/40\n",
            "100/100 [==============================] - 43s 425ms/step - loss: 0.4353 - acc: 0.8000 - val_loss: 0.4512 - val_acc: 0.7960\n",
            "Epoch 27/40\n",
            "100/100 [==============================] - 43s 429ms/step - loss: 0.4356 - acc: 0.8120 - val_loss: 0.4755 - val_acc: 0.7960\n",
            "Epoch 28/40\n",
            "100/100 [==============================] - 42s 425ms/step - loss: 0.4457 - acc: 0.7960 - val_loss: 0.4739 - val_acc: 0.7990\n",
            "Epoch 29/40\n",
            "100/100 [==============================] - 43s 425ms/step - loss: 0.4179 - acc: 0.8105 - val_loss: 0.4393 - val_acc: 0.8020\n",
            "Epoch 30/40\n",
            "100/100 [==============================] - 43s 427ms/step - loss: 0.4269 - acc: 0.8070 - val_loss: 0.4794 - val_acc: 0.7920\n",
            "Epoch 31/40\n",
            "100/100 [==============================] - 42s 425ms/step - loss: 0.4309 - acc: 0.8085 - val_loss: 0.4783 - val_acc: 0.7940\n",
            "Epoch 32/40\n",
            "100/100 [==============================] - 43s 429ms/step - loss: 0.4349 - acc: 0.8065 - val_loss: 0.4829 - val_acc: 0.8010\n",
            "Epoch 33/40\n",
            "100/100 [==============================] - 42s 424ms/step - loss: 0.4151 - acc: 0.8150 - val_loss: 0.4693 - val_acc: 0.7950\n",
            "Epoch 34/40\n",
            "100/100 [==============================] - 43s 426ms/step - loss: 0.4192 - acc: 0.8145 - val_loss: 0.4422 - val_acc: 0.8120\n",
            "Epoch 35/40\n",
            "100/100 [==============================] - 42s 423ms/step - loss: 0.4242 - acc: 0.8095 - val_loss: 0.4361 - val_acc: 0.8090\n",
            "Epoch 36/40\n",
            "100/100 [==============================] - 42s 424ms/step - loss: 0.4412 - acc: 0.7985 - val_loss: 0.4341 - val_acc: 0.8090\n",
            "Epoch 37/40\n",
            "100/100 [==============================] - 42s 424ms/step - loss: 0.4201 - acc: 0.8130 - val_loss: 0.4364 - val_acc: 0.8020\n",
            "Epoch 38/40\n",
            "100/100 [==============================] - 42s 424ms/step - loss: 0.4142 - acc: 0.8070 - val_loss: 0.4370 - val_acc: 0.8150\n",
            "Epoch 39/40\n",
            "100/100 [==============================] - 42s 425ms/step - loss: 0.4052 - acc: 0.8160 - val_loss: 0.4454 - val_acc: 0.8050\n",
            "Epoch 40/40\n",
            "100/100 [==============================] - 43s 427ms/step - loss: 0.4223 - acc: 0.8030 - val_loss: 0.4716 - val_acc: 0.8040\n"
          ],
          "name": "stdout"
        }
      ]
    },
    {
      "metadata": {
        "id": "1pq5QUlwhl-n",
        "colab_type": "code",
        "outputId": "6698a43a-08e6-42dc-ce0b-9e3166796b6f",
        "colab": {
          "base_uri": "https://localhost:8080/",
          "height": 928
        }
      },
      "cell_type": "code",
      "source": [
        "# test the trained network\n",
        "plot_history(history_vgg16)\n",
        "\n",
        "# test_loss, test_acc = model_vgg16.evaluate_generator(test_gen, steps=50)\n",
        "# print('test acc:', test_acc)\n",
        "\n",
        "\n",
        "Y_pred = model_vgg16.predict_classes(test_gen)\n",
        "y_pred = [p[0] for p in Y_pred]\n",
        "\n",
        "print('Confusion Matrix')\n",
        "print(confusion_matrix(test_gen.classes, y_pred))\n",
        "\n",
        "print('Classification Report')\n",
        "target_names = ['les', 'nv']\n",
        "print(classification_report(test_gen.classes, y_pred, target_names=target_names))"
      ],
      "execution_count": 0,
      "outputs": [
        {
          "output_type": "display_data",
          "data": {
            "image/png": "[encoded data removed]",
            "text/plain": [
              "<matplotlib.figure.Figure at 0x7f914d982c88>"
            ]
          },
          "metadata": {
            "tags": []
          }
        },
        {
          "output_type": "display_data",
          "data": {
            "image/png": "[encoded data removed]",
            "text/plain": [
              "<matplotlib.figure.Figure at 0x7f9160d9ada0>"
            ]
          },
          "metadata": {
            "tags": []
          }
        },
        {
          "output_type": "stream",
          "text": [
            "Confusion Matrix\n",
            "[[255  45]\n",
            " [ 63 237]]\n",
            "Classification Report\n",
            "              precision    recall  f1-score   support\n",
            "\n",
            "         les       0.80      0.85      0.83       300\n",
            "          nv       0.84      0.79      0.81       300\n",
            "\n",
            "   micro avg       0.82      0.82      0.82       600\n",
            "   macro avg       0.82      0.82      0.82       600\n",
            "weighted avg       0.82      0.82      0.82       600\n",
            "\n"
          ],
          "name": "stdout"
        }
      ]
    },
    {
      "metadata": {
        "id": "MMGuK9stc4z9",
        "colab_type": "code",
        "outputId": "d6c8b025-3c5b-4c79-8afd-34dc9e5f3c52",
        "colab": {
          "base_uri": "https://localhost:8080/",
          "height": 35
        }
      },
      "cell_type": "code",
      "source": [
        "path_model = 'vgg16_baseline_e40.h5'\n",
        "drive_name = 'vgg16_baseline_e40.h5'\n",
        "#models.save_model(model, path_model)\n",
        "# Save entire model to a HDF5 file\n",
        "model.save(path_model)\n",
        "\n",
        "save_file_to_drive(drive_name, path_model)"
      ],
      "execution_count": 0,
      "outputs": [
        {
          "output_type": "execute_result",
          "data": {
            "text/plain": [
              "{'id': '10LDLWpsIgTQprqzHNWm07enqtk3hReZj'}"
            ]
          },
          "metadata": {
            "tags": []
          },
          "execution_count": 94
        }
      ]
    },
    {
      "metadata": {
        "id": "VS5yX9hgjRDa",
        "colab_type": "text"
      },
      "cell_type": "markdown",
      "source": [
        "## Xception with Data Augmentation"
      ]
    },
    {
      "metadata": {
        "id": "1OXdL6bniCJc",
        "colab_type": "code",
        "outputId": "4587d2e6-3994-466e-de34-619d87d0467a",
        "colab": {
          "base_uri": "https://localhost:8080/",
          "height": 4882
        }
      },
      "cell_type": "code",
      "source": [
        "conv_base_xc = Xception(weights='imagenet', include_top=False, input_shape=input_img_shape)\n",
        "\n",
        "conv_base_xc.summary()"
      ],
      "execution_count": 0,
      "outputs": [
        {
          "output_type": "stream",
          "text": [
            "Downloading data from https://github.com/fchollet/deep-learning-models/releases/download/v0.4/xception_weights_tf_dim_ordering_tf_kernels_notop.h5\n",
            "83689472/83683744 [==============================] - 1s 0us/step\n",
            "__________________________________________________________________________________________________\n",
            "Layer (type)                    Output Shape         Param #     Connected to                     \n",
            "==================================================================================================\n",
            "input_1 (InputLayer)            (None, 200, 150, 3)  0                                            \n",
            "__________________________________________________________________________________________________\n",
            "block1_conv1 (Conv2D)           (None, 99, 74, 32)   864         input_1[0][0]                    \n",
            "__________________________________________________________________________________________________\n",
            "block1_conv1_bn (BatchNormaliza (None, 99, 74, 32)   128         block1_conv1[0][0]               \n",
            "__________________________________________________________________________________________________\n",
            "block1_conv1_act (Activation)   (None, 99, 74, 32)   0           block1_conv1_bn[0][0]            \n",
            "__________________________________________________________________________________________________\n",
            "block1_conv2 (Conv2D)           (None, 97, 72, 64)   18432       block1_conv1_act[0][0]           \n",
            "__________________________________________________________________________________________________\n",
            "block1_conv2_bn (BatchNormaliza (None, 97, 72, 64)   256         block1_conv2[0][0]               \n",
            "__________________________________________________________________________________________________\n",
            "block1_conv2_act (Activation)   (None, 97, 72, 64)   0           block1_conv2_bn[0][0]            \n",
            "__________________________________________________________________________________________________\n",
            "block2_sepconv1 (SeparableConv2 (None, 97, 72, 128)  8768        block1_conv2_act[0][0]           \n",
            "__________________________________________________________________________________________________\n",
            "block2_sepconv1_bn (BatchNormal (None, 97, 72, 128)  512         block2_sepconv1[0][0]            \n",
            "__________________________________________________________________________________________________\n",
            "block2_sepconv2_act (Activation (None, 97, 72, 128)  0           block2_sepconv1_bn[0][0]         \n",
            "__________________________________________________________________________________________________\n",
            "block2_sepconv2 (SeparableConv2 (None, 97, 72, 128)  17536       block2_sepconv2_act[0][0]        \n",
            "__________________________________________________________________________________________________\n",
            "block2_sepconv2_bn (BatchNormal (None, 97, 72, 128)  512         block2_sepconv2[0][0]            \n",
            "__________________________________________________________________________________________________\n",
            "conv2d (Conv2D)                 (None, 49, 36, 128)  8192        block1_conv2_act[0][0]           \n",
            "__________________________________________________________________________________________________\n",
            "block2_pool (MaxPooling2D)      (None, 49, 36, 128)  0           block2_sepconv2_bn[0][0]         \n",
            "__________________________________________________________________________________________________\n",
            "batch_normalization (BatchNorma (None, 49, 36, 128)  512         conv2d[0][0]                     \n",
            "__________________________________________________________________________________________________\n",
            "add (Add)                       (None, 49, 36, 128)  0           block2_pool[0][0]                \n",
            "                                                                 batch_normalization[0][0]        \n",
            "__________________________________________________________________________________________________\n",
            "block3_sepconv1_act (Activation (None, 49, 36, 128)  0           add[0][0]                        \n",
            "__________________________________________________________________________________________________\n",
            "block3_sepconv1 (SeparableConv2 (None, 49, 36, 256)  33920       block3_sepconv1_act[0][0]        \n",
            "__________________________________________________________________________________________________\n",
            "block3_sepconv1_bn (BatchNormal (None, 49, 36, 256)  1024        block3_sepconv1[0][0]            \n",
            "__________________________________________________________________________________________________\n",
            "block3_sepconv2_act (Activation (None, 49, 36, 256)  0           block3_sepconv1_bn[0][0]         \n",
            "__________________________________________________________________________________________________\n",
            "block3_sepconv2 (SeparableConv2 (None, 49, 36, 256)  67840       block3_sepconv2_act[0][0]        \n",
            "__________________________________________________________________________________________________\n",
            "block3_sepconv2_bn (BatchNormal (None, 49, 36, 256)  1024        block3_sepconv2[0][0]            \n",
            "__________________________________________________________________________________________________\n",
            "conv2d_1 (Conv2D)               (None, 25, 18, 256)  32768       add[0][0]                        \n",
            "__________________________________________________________________________________________________\n",
            "block3_pool (MaxPooling2D)      (None, 25, 18, 256)  0           block3_sepconv2_bn[0][0]         \n",
            "__________________________________________________________________________________________________\n",
            "batch_normalization_1 (BatchNor (None, 25, 18, 256)  1024        conv2d_1[0][0]                   \n",
            "__________________________________________________________________________________________________\n",
            "add_1 (Add)                     (None, 25, 18, 256)  0           block3_pool[0][0]                \n",
            "                                                                 batch_normalization_1[0][0]      \n",
            "__________________________________________________________________________________________________\n",
            "block4_sepconv1_act (Activation (None, 25, 18, 256)  0           add_1[0][0]                      \n",
            "__________________________________________________________________________________________________\n",
            "block4_sepconv1 (SeparableConv2 (None, 25, 18, 728)  188672      block4_sepconv1_act[0][0]        \n",
            "__________________________________________________________________________________________________\n",
            "block4_sepconv1_bn (BatchNormal (None, 25, 18, 728)  2912        block4_sepconv1[0][0]            \n",
            "__________________________________________________________________________________________________\n",
            "block4_sepconv2_act (Activation (None, 25, 18, 728)  0           block4_sepconv1_bn[0][0]         \n",
            "__________________________________________________________________________________________________\n",
            "block4_sepconv2 (SeparableConv2 (None, 25, 18, 728)  536536      block4_sepconv2_act[0][0]        \n",
            "__________________________________________________________________________________________________\n",
            "block4_sepconv2_bn (BatchNormal (None, 25, 18, 728)  2912        block4_sepconv2[0][0]            \n",
            "__________________________________________________________________________________________________\n",
            "conv2d_2 (Conv2D)               (None, 13, 9, 728)   186368      add_1[0][0]                      \n",
            "__________________________________________________________________________________________________\n",
            "block4_pool (MaxPooling2D)      (None, 13, 9, 728)   0           block4_sepconv2_bn[0][0]         \n",
            "__________________________________________________________________________________________________\n",
            "batch_normalization_2 (BatchNor (None, 13, 9, 728)   2912        conv2d_2[0][0]                   \n",
            "__________________________________________________________________________________________________\n",
            "add_2 (Add)                     (None, 13, 9, 728)   0           block4_pool[0][0]                \n",
            "                                                                 batch_normalization_2[0][0]      \n",
            "__________________________________________________________________________________________________\n",
            "block5_sepconv1_act (Activation (None, 13, 9, 728)   0           add_2[0][0]                      \n",
            "__________________________________________________________________________________________________\n",
            "block5_sepconv1 (SeparableConv2 (None, 13, 9, 728)   536536      block5_sepconv1_act[0][0]        \n",
            "__________________________________________________________________________________________________\n",
            "block5_sepconv1_bn (BatchNormal (None, 13, 9, 728)   2912        block5_sepconv1[0][0]            \n",
            "__________________________________________________________________________________________________\n",
            "block5_sepconv2_act (Activation (None, 13, 9, 728)   0           block5_sepconv1_bn[0][0]         \n",
            "__________________________________________________________________________________________________\n",
            "block5_sepconv2 (SeparableConv2 (None, 13, 9, 728)   536536      block5_sepconv2_act[0][0]        \n",
            "__________________________________________________________________________________________________\n",
            "block5_sepconv2_bn (BatchNormal (None, 13, 9, 728)   2912        block5_sepconv2[0][0]            \n",
            "__________________________________________________________________________________________________\n",
            "block5_sepconv3_act (Activation (None, 13, 9, 728)   0           block5_sepconv2_bn[0][0]         \n",
            "__________________________________________________________________________________________________\n",
            "block5_sepconv3 (SeparableConv2 (None, 13, 9, 728)   536536      block5_sepconv3_act[0][0]        \n",
            "__________________________________________________________________________________________________\n",
            "block5_sepconv3_bn (BatchNormal (None, 13, 9, 728)   2912        block5_sepconv3[0][0]            \n",
            "__________________________________________________________________________________________________\n",
            "add_3 (Add)                     (None, 13, 9, 728)   0           block5_sepconv3_bn[0][0]         \n",
            "                                                                 add_2[0][0]                      \n",
            "__________________________________________________________________________________________________\n",
            "block6_sepconv1_act (Activation (None, 13, 9, 728)   0           add_3[0][0]                      \n",
            "__________________________________________________________________________________________________\n",
            "block6_sepconv1 (SeparableConv2 (None, 13, 9, 728)   536536      block6_sepconv1_act[0][0]        \n",
            "__________________________________________________________________________________________________\n",
            "block6_sepconv1_bn (BatchNormal (None, 13, 9, 728)   2912        block6_sepconv1[0][0]            \n",
            "__________________________________________________________________________________________________\n",
            "block6_sepconv2_act (Activation (None, 13, 9, 728)   0           block6_sepconv1_bn[0][0]         \n",
            "__________________________________________________________________________________________________\n",
            "block6_sepconv2 (SeparableConv2 (None, 13, 9, 728)   536536      block6_sepconv2_act[0][0]        \n",
            "__________________________________________________________________________________________________\n",
            "block6_sepconv2_bn (BatchNormal (None, 13, 9, 728)   2912        block6_sepconv2[0][0]            \n",
            "__________________________________________________________________________________________________\n",
            "block6_sepconv3_act (Activation (None, 13, 9, 728)   0           block6_sepconv2_bn[0][0]         \n",
            "__________________________________________________________________________________________________\n",
            "block6_sepconv3 (SeparableConv2 (None, 13, 9, 728)   536536      block6_sepconv3_act[0][0]        \n",
            "__________________________________________________________________________________________________\n",
            "block6_sepconv3_bn (BatchNormal (None, 13, 9, 728)   2912        block6_sepconv3[0][0]            \n",
            "__________________________________________________________________________________________________\n",
            "add_4 (Add)                     (None, 13, 9, 728)   0           block6_sepconv3_bn[0][0]         \n",
            "                                                                 add_3[0][0]                      \n",
            "__________________________________________________________________________________________________\n",
            "block7_sepconv1_act (Activation (None, 13, 9, 728)   0           add_4[0][0]                      \n",
            "__________________________________________________________________________________________________\n",
            "block7_sepconv1 (SeparableConv2 (None, 13, 9, 728)   536536      block7_sepconv1_act[0][0]        \n",
            "__________________________________________________________________________________________________\n",
            "block7_sepconv1_bn (BatchNormal (None, 13, 9, 728)   2912        block7_sepconv1[0][0]            \n",
            "__________________________________________________________________________________________________\n",
            "block7_sepconv2_act (Activation (None, 13, 9, 728)   0           block7_sepconv1_bn[0][0]         \n",
            "__________________________________________________________________________________________________\n",
            "block7_sepconv2 (SeparableConv2 (None, 13, 9, 728)   536536      block7_sepconv2_act[0][0]        \n",
            "__________________________________________________________________________________________________\n",
            "block7_sepconv2_bn (BatchNormal (None, 13, 9, 728)   2912        block7_sepconv2[0][0]            \n",
            "__________________________________________________________________________________________________\n",
            "block7_sepconv3_act (Activation (None, 13, 9, 728)   0           block7_sepconv2_bn[0][0]         \n",
            "__________________________________________________________________________________________________\n",
            "block7_sepconv3 (SeparableConv2 (None, 13, 9, 728)   536536      block7_sepconv3_act[0][0]        \n",
            "__________________________________________________________________________________________________\n",
            "block7_sepconv3_bn (BatchNormal (None, 13, 9, 728)   2912        block7_sepconv3[0][0]            \n",
            "__________________________________________________________________________________________________\n",
            "add_5 (Add)                     (None, 13, 9, 728)   0           block7_sepconv3_bn[0][0]         \n",
            "                                                                 add_4[0][0]                      \n",
            "__________________________________________________________________________________________________\n",
            "block8_sepconv1_act (Activation (None, 13, 9, 728)   0           add_5[0][0]                      \n",
            "__________________________________________________________________________________________________\n",
            "block8_sepconv1 (SeparableConv2 (None, 13, 9, 728)   536536      block8_sepconv1_act[0][0]        \n",
            "__________________________________________________________________________________________________\n",
            "block8_sepconv1_bn (BatchNormal (None, 13, 9, 728)   2912        block8_sepconv1[0][0]            \n",
            "__________________________________________________________________________________________________\n",
            "block8_sepconv2_act (Activation (None, 13, 9, 728)   0           block8_sepconv1_bn[0][0]         \n",
            "__________________________________________________________________________________________________\n",
            "block8_sepconv2 (SeparableConv2 (None, 13, 9, 728)   536536      block8_sepconv2_act[0][0]        \n",
            "__________________________________________________________________________________________________\n",
            "block8_sepconv2_bn (BatchNormal (None, 13, 9, 728)   2912        block8_sepconv2[0][0]            \n",
            "__________________________________________________________________________________________________\n",
            "block8_sepconv3_act (Activation (None, 13, 9, 728)   0           block8_sepconv2_bn[0][0]         \n",
            "__________________________________________________________________________________________________\n",
            "block8_sepconv3 (SeparableConv2 (None, 13, 9, 728)   536536      block8_sepconv3_act[0][0]        \n",
            "__________________________________________________________________________________________________\n",
            "block8_sepconv3_bn (BatchNormal (None, 13, 9, 728)   2912        block8_sepconv3[0][0]            \n",
            "__________________________________________________________________________________________________\n",
            "add_6 (Add)                     (None, 13, 9, 728)   0           block8_sepconv3_bn[0][0]         \n",
            "                                                                 add_5[0][0]                      \n",
            "__________________________________________________________________________________________________\n",
            "block9_sepconv1_act (Activation (None, 13, 9, 728)   0           add_6[0][0]                      \n",
            "__________________________________________________________________________________________________\n",
            "block9_sepconv1 (SeparableConv2 (None, 13, 9, 728)   536536      block9_sepconv1_act[0][0]        \n",
            "__________________________________________________________________________________________________\n",
            "block9_sepconv1_bn (BatchNormal (None, 13, 9, 728)   2912        block9_sepconv1[0][0]            \n",
            "__________________________________________________________________________________________________\n",
            "block9_sepconv2_act (Activation (None, 13, 9, 728)   0           block9_sepconv1_bn[0][0]         \n",
            "__________________________________________________________________________________________________\n",
            "block9_sepconv2 (SeparableConv2 (None, 13, 9, 728)   536536      block9_sepconv2_act[0][0]        \n",
            "__________________________________________________________________________________________________\n",
            "block9_sepconv2_bn (BatchNormal (None, 13, 9, 728)   2912        block9_sepconv2[0][0]            \n",
            "__________________________________________________________________________________________________\n",
            "block9_sepconv3_act (Activation (None, 13, 9, 728)   0           block9_sepconv2_bn[0][0]         \n",
            "__________________________________________________________________________________________________\n",
            "block9_sepconv3 (SeparableConv2 (None, 13, 9, 728)   536536      block9_sepconv3_act[0][0]        \n",
            "__________________________________________________________________________________________________\n",
            "block9_sepconv3_bn (BatchNormal (None, 13, 9, 728)   2912        block9_sepconv3[0][0]            \n",
            "__________________________________________________________________________________________________\n",
            "add_7 (Add)                     (None, 13, 9, 728)   0           block9_sepconv3_bn[0][0]         \n",
            "                                                                 add_6[0][0]                      \n",
            "__________________________________________________________________________________________________\n",
            "block10_sepconv1_act (Activatio (None, 13, 9, 728)   0           add_7[0][0]                      \n",
            "__________________________________________________________________________________________________\n",
            "block10_sepconv1 (SeparableConv (None, 13, 9, 728)   536536      block10_sepconv1_act[0][0]       \n",
            "__________________________________________________________________________________________________\n",
            "block10_sepconv1_bn (BatchNorma (None, 13, 9, 728)   2912        block10_sepconv1[0][0]           \n",
            "__________________________________________________________________________________________________\n",
            "block10_sepconv2_act (Activatio (None, 13, 9, 728)   0           block10_sepconv1_bn[0][0]        \n",
            "__________________________________________________________________________________________________\n",
            "block10_sepconv2 (SeparableConv (None, 13, 9, 728)   536536      block10_sepconv2_act[0][0]       \n",
            "__________________________________________________________________________________________________\n",
            "block10_sepconv2_bn (BatchNorma (None, 13, 9, 728)   2912        block10_sepconv2[0][0]           \n",
            "__________________________________________________________________________________________________\n",
            "block10_sepconv3_act (Activatio (None, 13, 9, 728)   0           block10_sepconv2_bn[0][0]        \n",
            "__________________________________________________________________________________________________\n",
            "block10_sepconv3 (SeparableConv (None, 13, 9, 728)   536536      block10_sepconv3_act[0][0]       \n",
            "__________________________________________________________________________________________________\n",
            "block10_sepconv3_bn (BatchNorma (None, 13, 9, 728)   2912        block10_sepconv3[0][0]           \n",
            "__________________________________________________________________________________________________\n",
            "add_8 (Add)                     (None, 13, 9, 728)   0           block10_sepconv3_bn[0][0]        \n",
            "                                                                 add_7[0][0]                      \n",
            "__________________________________________________________________________________________________\n",
            "block11_sepconv1_act (Activatio (None, 13, 9, 728)   0           add_8[0][0]                      \n",
            "__________________________________________________________________________________________________\n",
            "block11_sepconv1 (SeparableConv (None, 13, 9, 728)   536536      block11_sepconv1_act[0][0]       \n",
            "__________________________________________________________________________________________________\n",
            "block11_sepconv1_bn (BatchNorma (None, 13, 9, 728)   2912        block11_sepconv1[0][0]           \n",
            "__________________________________________________________________________________________________\n",
            "block11_sepconv2_act (Activatio (None, 13, 9, 728)   0           block11_sepconv1_bn[0][0]        \n",
            "__________________________________________________________________________________________________\n",
            "block11_sepconv2 (SeparableConv (None, 13, 9, 728)   536536      block11_sepconv2_act[0][0]       \n",
            "__________________________________________________________________________________________________\n",
            "block11_sepconv2_bn (BatchNorma (None, 13, 9, 728)   2912        block11_sepconv2[0][0]           \n",
            "__________________________________________________________________________________________________\n",
            "block11_sepconv3_act (Activatio (None, 13, 9, 728)   0           block11_sepconv2_bn[0][0]        \n",
            "__________________________________________________________________________________________________\n",
            "block11_sepconv3 (SeparableConv (None, 13, 9, 728)   536536      block11_sepconv3_act[0][0]       \n",
            "__________________________________________________________________________________________________\n",
            "block11_sepconv3_bn (BatchNorma (None, 13, 9, 728)   2912        block11_sepconv3[0][0]           \n",
            "__________________________________________________________________________________________________\n",
            "add_9 (Add)                     (None, 13, 9, 728)   0           block11_sepconv3_bn[0][0]        \n",
            "                                                                 add_8[0][0]                      \n",
            "__________________________________________________________________________________________________\n",
            "block12_sepconv1_act (Activatio (None, 13, 9, 728)   0           add_9[0][0]                      \n",
            "__________________________________________________________________________________________________\n",
            "block12_sepconv1 (SeparableConv (None, 13, 9, 728)   536536      block12_sepconv1_act[0][0]       \n",
            "__________________________________________________________________________________________________\n",
            "block12_sepconv1_bn (BatchNorma (None, 13, 9, 728)   2912        block12_sepconv1[0][0]           \n",
            "__________________________________________________________________________________________________\n",
            "block12_sepconv2_act (Activatio (None, 13, 9, 728)   0           block12_sepconv1_bn[0][0]        \n",
            "__________________________________________________________________________________________________\n",
            "block12_sepconv2 (SeparableConv (None, 13, 9, 728)   536536      block12_sepconv2_act[0][0]       \n",
            "__________________________________________________________________________________________________\n",
            "block12_sepconv2_bn (BatchNorma (None, 13, 9, 728)   2912        block12_sepconv2[0][0]           \n",
            "__________________________________________________________________________________________________\n",
            "block12_sepconv3_act (Activatio (None, 13, 9, 728)   0           block12_sepconv2_bn[0][0]        \n",
            "__________________________________________________________________________________________________\n",
            "block12_sepconv3 (SeparableConv (None, 13, 9, 728)   536536      block12_sepconv3_act[0][0]       \n",
            "__________________________________________________________________________________________________\n",
            "block12_sepconv3_bn (BatchNorma (None, 13, 9, 728)   2912        block12_sepconv3[0][0]           \n",
            "__________________________________________________________________________________________________\n",
            "add_10 (Add)                    (None, 13, 9, 728)   0           block12_sepconv3_bn[0][0]        \n",
            "                                                                 add_9[0][0]                      \n",
            "__________________________________________________________________________________________________\n",
            "block13_sepconv1_act (Activatio (None, 13, 9, 728)   0           add_10[0][0]                     \n",
            "__________________________________________________________________________________________________\n",
            "block13_sepconv1 (SeparableConv (None, 13, 9, 728)   536536      block13_sepconv1_act[0][0]       \n",
            "__________________________________________________________________________________________________\n",
            "block13_sepconv1_bn (BatchNorma (None, 13, 9, 728)   2912        block13_sepconv1[0][0]           \n",
            "__________________________________________________________________________________________________\n",
            "block13_sepconv2_act (Activatio (None, 13, 9, 728)   0           block13_sepconv1_bn[0][0]        \n",
            "__________________________________________________________________________________________________\n",
            "block13_sepconv2 (SeparableConv (None, 13, 9, 1024)  752024      block13_sepconv2_act[0][0]       \n",
            "__________________________________________________________________________________________________\n",
            "block13_sepconv2_bn (BatchNorma (None, 13, 9, 1024)  4096        block13_sepconv2[0][0]           \n",
            "__________________________________________________________________________________________________\n",
            "conv2d_3 (Conv2D)               (None, 7, 5, 1024)   745472      add_10[0][0]                     \n",
            "__________________________________________________________________________________________________\n",
            "block13_pool (MaxPooling2D)     (None, 7, 5, 1024)   0           block13_sepconv2_bn[0][0]        \n",
            "__________________________________________________________________________________________________\n",
            "batch_normalization_3 (BatchNor (None, 7, 5, 1024)   4096        conv2d_3[0][0]                   \n",
            "__________________________________________________________________________________________________\n",
            "add_11 (Add)                    (None, 7, 5, 1024)   0           block13_pool[0][0]               \n",
            "                                                                 batch_normalization_3[0][0]      \n",
            "__________________________________________________________________________________________________\n",
            "block14_sepconv1 (SeparableConv (None, 7, 5, 1536)   1582080     add_11[0][0]                     \n",
            "__________________________________________________________________________________________________\n",
            "block14_sepconv1_bn (BatchNorma (None, 7, 5, 1536)   6144        block14_sepconv1[0][0]           \n",
            "__________________________________________________________________________________________________\n",
            "block14_sepconv1_act (Activatio (None, 7, 5, 1536)   0           block14_sepconv1_bn[0][0]        \n",
            "__________________________________________________________________________________________________\n",
            "block14_sepconv2 (SeparableConv (None, 7, 5, 2048)   3159552     block14_sepconv1_act[0][0]       \n",
            "__________________________________________________________________________________________________\n",
            "block14_sepconv2_bn (BatchNorma (None, 7, 5, 2048)   8192        block14_sepconv2[0][0]           \n",
            "__________________________________________________________________________________________________\n",
            "block14_sepconv2_act (Activatio (None, 7, 5, 2048)   0           block14_sepconv2_bn[0][0]        \n",
            "==================================================================================================\n",
            "Total params: 20,861,480\n",
            "Trainable params: 20,806,952\n",
            "Non-trainable params: 54,528\n",
            "__________________________________________________________________________________________________\n"
          ],
          "name": "stdout"
        }
      ]
    },
    {
      "metadata": {
        "id": "-6f55_I8mMkO",
        "colab_type": "code",
        "outputId": "37789b57-a393-40c1-e115-44089cd9d43e",
        "colab": {
          "base_uri": "https://localhost:8080/",
          "height": 272
        }
      },
      "cell_type": "code",
      "source": [
        "# densely connected classifier on top of the convolutional base\n",
        "model_xc = models.Sequential()\n",
        "model_xc.add(conv_base_xc)\n",
        "model_xc.add(layers.Flatten())\n",
        "model_xc.add(layers.Dense(256, activation='relu'))\n",
        "model_xc.add(layers.Dense(1, activation='sigmoid'))\n",
        "\n",
        "# freeze convolutional base\n",
        "conv_base_xc.trainable = False\n",
        "\n",
        "model_xc.summary()"
      ],
      "execution_count": 0,
      "outputs": [
        {
          "output_type": "stream",
          "text": [
            "_________________________________________________________________\n",
            "Layer (type)                 Output Shape              Param #   \n",
            "=================================================================\n",
            "xception (Model)             (None, 7, 5, 2048)        20861480  \n",
            "_________________________________________________________________\n",
            "flatten (Flatten)            (None, 71680)             0         \n",
            "_________________________________________________________________\n",
            "dense (Dense)                (None, 256)               18350336  \n",
            "_________________________________________________________________\n",
            "dense_1 (Dense)              (None, 1)                 257       \n",
            "=================================================================\n",
            "Total params: 39,212,073\n",
            "Trainable params: 18,350,593\n",
            "Non-trainable params: 20,861,480\n",
            "_________________________________________________________________\n"
          ],
          "name": "stdout"
        }
      ]
    },
    {
      "metadata": {
        "id": "dfUflNEbjrYG",
        "colab_type": "code",
        "outputId": "d911d9b4-2cb0-4bf4-da5c-590d0f3479d1",
        "colab": {
          "base_uri": "https://localhost:8080/",
          "height": 51
        }
      },
      "cell_type": "code",
      "source": [
        "model_xc.compile(loss='binary_crossentropy', optimizer=optimizers.RMSprop(lr=2e-5), metrics=['acc'])\n",
        "\n",
        "history_xc = model_xc.fit_generator(train_gen, steps_per_epoch=steps_per_epoch, epochs=no_epochs, validation_data=validation_gen,\n",
        "                              validation_steps=validation_steps)"
      ],
      "execution_count": 0,
      "outputs": [
        {
          "output_type": "stream",
          "text": [
            "Epoch 1/40\n",
            " 33/100 [========>.....................] - ETA: 31s - loss: 0.6570 - acc: 0.6879"
          ],
          "name": "stdout"
        }
      ]
    },
    {
      "metadata": {
        "id": "QGFS5-Uxj0tW",
        "colab_type": "code",
        "outputId": "b6609164-21fb-4d21-a553-204d052a48cd",
        "colab": {
          "base_uri": "https://localhost:8080/",
          "height": 933
        }
      },
      "cell_type": "code",
      "source": [
        "# test the trained network\n",
        "plot_history(history_xc)\n",
        "\n",
        "# test_loss, test_acc = model_vgg16.evaluate_generator(test_gen, steps=50)\n",
        "# print('test acc:', test_acc)\n",
        "\n",
        "\n",
        "Y_pred = model_xc.predict_classes(test_gen)\n",
        "y_pred = [p[0] for p in Y_pred]\n",
        "\n",
        "print('Confusion Matrix')\n",
        "print(confusion_matrix(test_gen.classes, y_pred))\n",
        "\n",
        "print('Classification Report')\n",
        "target_names = ['les', 'nv']\n",
        "print(classification_report(test_gen.classes, y_pred, target_names=target_names))"
      ],
      "execution_count": 0,
      "outputs": [
        {
          "output_type": "display_data",
          "data": {
            "image/png": "[encoded data removed]",
            "text/plain": [
              "<matplotlib.figure.Figure at 0x7fe3a3c52ef0>"
            ]
          },
          "metadata": {
            "tags": []
          }
        },
        {
          "output_type": "display_data",
          "data": {
            "image/png": "[encoded data removed]",
            "text/plain": [
              "<matplotlib.figure.Figure at 0x7fe3a65037b8>"
            ]
          },
          "metadata": {
            "tags": []
          }
        },
        {
          "output_type": "stream",
          "text": [
            "Confusion Matrix\n",
            "[[250  50]\n",
            " [ 61 239]]\n",
            "Classification Report\n",
            "              precision    recall  f1-score   support\n",
            "\n",
            "         les       0.80      0.83      0.82       300\n",
            "          nv       0.83      0.80      0.81       300\n",
            "\n",
            "   micro avg       0.81      0.81      0.81       600\n",
            "   macro avg       0.82      0.81      0.81       600\n",
            "weighted avg       0.82      0.81      0.81       600\n",
            "\n"
          ],
          "name": "stdout"
        }
      ]
    },
    {
      "metadata": {
        "id": "MGzO3L2oj54E",
        "colab_type": "code",
        "outputId": "468de0c9-bb3e-443b-8f34-8286af245858",
        "colab": {
          "base_uri": "https://localhost:8080/",
          "height": 35
        }
      },
      "cell_type": "code",
      "source": [
        "path_model = 'xception_baseline_e40.h5'\n",
        "drive_name = 'xception_baseline_e40.h5'\n",
        "#models.save_model(model, path_model)\n",
        "# Save entire model to a HDF5 file\n",
        "model.save(path_model)\n",
        "\n",
        "save_file_to_drive(drive_name, path_model)"
      ],
      "execution_count": 0,
      "outputs": [
        {
          "output_type": "execute_result",
          "data": {
            "text/plain": [
              "{'id': '1CsNcyRxdhSlkBAPNJ9HQfR3BhMIBVl0m'}"
            ]
          },
          "metadata": {
            "tags": []
          },
          "execution_count": 99
        }
      ]
    },
    {
      "metadata": {
        "id": "NRbZOx7SznFv",
        "colab_type": "code",
        "colab": {}
      },
      "cell_type": "code",
      "source": [
        "# import tarfile\n",
        "# tar = tarfile.open(\"test_300.tar.gz\", \"w:gz\")\n",
        "# tar.add(test_path, arcname=\"test_300\")\n",
        "# tar.close()\n",
        "\n",
        "# save_file_to_drive(\"val_300.tar.gz\", \"val_300.tar.gz\")\n",
        "# save_file_to_drive(\"test_300.tar.gz\", \"test_300.tar.gz\")"
      ],
      "execution_count": 0,
      "outputs": []
    },
    {
      "metadata": {
        "id": "PGM730tfjYXk",
        "colab_type": "code",
        "colab": {}
      },
      "cell_type": "code",
      "source": [
        "# test prediction of an image\n",
        "# malignant\n",
        "#img_path = './data/test/malignant/ISIC_0000030.jpg'\n",
        "# benign\n",
        "# img_path = './data/test/benign/ISIC_0000179.jpg'\n",
        "\n",
        "# # fix naming!!!\n",
        "\n",
        "\n",
        "# img = image.load_img(img_path, target_size=(150, 150))\n",
        "# img_tensor = image.img_to_array(img)\n",
        "# img_tensor = np.expand_dims(img_tensor, axis=0)\n",
        "# img_tensor /= 255.\n",
        "\n",
        "# pred = model.predict_classes(img_tensor)\n",
        "\n",
        "# print(pred)"
      ],
      "execution_count": 0,
      "outputs": []
    }
  ]
}