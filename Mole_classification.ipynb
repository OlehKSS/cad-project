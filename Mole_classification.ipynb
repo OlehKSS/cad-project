{
  "nbformat": 4,
  "nbformat_minor": 0,
  "metadata": {
    "colab": {
      "name": "Mole_classification",
      "version": "0.3.2",
      "provenance": [],
      "collapsed_sections": [
        "cO2PbwJ5bQnG",
        "b8eu09EjcKDu",
        "dc3uT9scPI-Z"
      ],
      "include_colab_link": true
    },
    "kernelspec": {
      "name": "python3",
      "display_name": "Python 3"
    },
    "accelerator": "GPU"
  },
  "cells": [
    {
      "cell_type": "markdown",
      "metadata": {
        "id": "view-in-github",
        "colab_type": "text"
      },
      "source": [
        "<a href=\"https://colab.research.google.com/github/OlehKSS/cad-project/blob/master/Mole_classification.ipynb\" target=\"_parent\"><img src=\"https://colab.research.google.com/assets/colab-badge.svg\" alt=\"Open In Colab\"/></a>"
      ]
    },
    {
      "metadata": {
        "id": "rpPoCdE0Z_u2",
        "colab_type": "text"
      },
      "cell_type": "markdown",
      "source": [
        "# Mole Classification"
      ]
    },
    {
      "metadata": {
        "id": "rgPQgNnScNIx",
        "colab_type": "code",
        "colab": {}
      },
      "cell_type": "code",
      "source": [
        "import io\n",
        "import os\n",
        "\n",
        "\n",
        "import tensorflow as tf\n",
        "import matplotlib.pyplot as plt\n",
        "import numpy as np"
      ],
      "execution_count": 0,
      "outputs": []
    },
    {
      "metadata": {
        "id": "ThmiC6vzd6Ji",
        "colab_type": "code",
        "outputId": "748317d6-7a2a-4bb1-f6f8-550149796d6b",
        "colab": {
          "base_uri": "https://localhost:8080/",
          "height": 35
        }
      },
      "cell_type": "code",
      "source": [
        "tf.test.is_gpu_available()"
      ],
      "execution_count": 2,
      "outputs": [
        {
          "output_type": "execute_result",
          "data": {
            "text/plain": [
              "True"
            ]
          },
          "metadata": {
            "tags": []
          },
          "execution_count": 2
        }
      ]
    },
    {
      "metadata": {
        "id": "6IMswSytBkx-",
        "colab_type": "code",
        "outputId": "1460576d-d0c3-4d8d-99aa-480296b3e60d",
        "colab": {
          "base_uri": "https://localhost:8080/",
          "height": 35
        }
      },
      "cell_type": "code",
      "source": [
        "tf.__version__"
      ],
      "execution_count": 3,
      "outputs": [
        {
          "output_type": "execute_result",
          "data": {
            "text/plain": [
              "'1.12.0'"
            ]
          },
          "metadata": {
            "tags": []
          },
          "execution_count": 3
        }
      ]
    },
    {
      "metadata": {
        "id": "a4cyr-X4cOoh",
        "colab_type": "text"
      },
      "cell_type": "markdown",
      "source": [
        "## Google Drive"
      ]
    },
    {
      "metadata": {
        "id": "BePmruVsaGLt",
        "colab_type": "code",
        "colab": {}
      },
      "cell_type": "code",
      "source": [
        "# login to drive\n",
        "from google.colab import auth\n",
        "from googleapiclient.http import MediaFileUpload, MediaIoBaseDownload\n",
        "from googleapiclient.discovery import build\n",
        "\n",
        "\n",
        "auth.authenticate_user()\n",
        "\n",
        "drive_service = build('drive', 'v3')"
      ],
      "execution_count": 0,
      "outputs": []
    },
    {
      "metadata": {
        "id": "Gg1QHxtfaN2H",
        "colab_type": "code",
        "colab": {}
      },
      "cell_type": "code",
      "source": [
        "# helper functions\n",
        "def get_file(file_id, file_name):\n",
        "  '''Get a file from GoogleDrive.'''\n",
        "  request = drive_service.files().get_media(fileId=file_id)\n",
        "  #downloaded = io.BytesIO()\n",
        "  downloaded = io.FileIO(file_name, 'wb')\n",
        "  downloader = MediaIoBaseDownload(downloaded, request)\n",
        "  done = False\n",
        "  \n",
        "  while done is False:\n",
        "    # _ is a placeholder for a progress object that we ignore.\n",
        "    # (Our file is small, so we skip reporting progress.)\n",
        "    status, done = downloader.next_chunk()\n",
        "     \n",
        "    perc = int(100 * status.progress())\n",
        "    print('\\r[%s%s]' % ('=' * perc, ' ' * (50 - perc)))\n",
        "  \n",
        "  #downloaded.seek(0)\n",
        "  #print(os.fstat(downloaded.fileno()).st_size)\n",
        "  downloaded.flush()\n",
        "  os.fsync(downloaded)\n",
        "  downloaded.close()\n",
        "  print('File has been downloaded successfully!')\n",
        "  \n",
        "  #return downloaded\n",
        "  \n",
        "  \n",
        "def save_file_to_drive(name, path):\n",
        "  \"\"\"Save a file to GoogleDrive.\"\"\"\n",
        "  file_metadata = {'name': name, 'mimeType': 'application/octet-stream'}\n",
        "\n",
        "  media = MediaFileUpload(path, mimetype='application/octet-stream', resumable=True)\n",
        "\n",
        "  created = drive_service.files().create(body=file_metadata, media_body=media, fields='id').execute()\n",
        "\n",
        "  return created\n",
        "\n",
        "\n",
        "def unzip_tar(file_path, out_path):\n",
        "  \"\"\"\n",
        "  Unzip tar.gz files.\n",
        "  \n",
        "  Args:\n",
        "    file_path (str): path to the file to unzip.\n",
        "    out_path (str): output path.\n",
        "  \"\"\"\n",
        "  import tarfile\n",
        "  \n",
        "  tar = tarfile.open(file_path, \"r:gz\")\n",
        "  tar.extractall(out_path)\n",
        "  tar.close()\n",
        "  \n",
        "\n",
        "def val_test_split(val_path, test_path, split=0.5):\n",
        "  \"\"\"\n",
        "  Split our validation data into validation/test sets.\n",
        "  \n",
        "  Args:\n",
        "    val_path (str): validation data path.\n",
        "    test_path (str): path where test files will be copied.\n",
        "    spit (float): split ratio, e.g. if split=0.3, it means that 30% of images \n",
        "      from validation set  will be moved to test set.\n",
        "  \"\"\"\n",
        "  from shutil import move\n",
        "  from os import listdir\n",
        "  from os.path import isdir, join\n",
        "  from random import sample\n",
        "  \n",
        "  onlydirs = tuple(f for f in listdir(val_path) if isdir(join(val_path, f)))\n",
        "  \n",
        "  os.mkdir(test_path)\n",
        "  \n",
        "  for dir in onlydirs:\n",
        "    os.mkdir(join(test_path, dir))\n",
        "    files = tuple(f for f in listdir(join(val_path, dir)) if not isdir(join(val_path, dir, f)))\n",
        "    # number of files to choose\n",
        "    k = int(split * len(files))\n",
        "    \n",
        "    files_to_move = sample(files, k)\n",
        "    \n",
        "    for file in files_to_move:\n",
        "      move(join(val_path, dir, file), join(test_path, dir))\n",
        "  \n",
        "  \n",
        "def plot_history(history):\n",
        "    \"\"\"Plots training history of the Keras model.\"\"\"\n",
        "    hist = history.history\n",
        "\n",
        "    acc = hist['acc']\n",
        "    val_acc = hist['val_acc']\n",
        "    loss = hist['loss']\n",
        "    val_loss = hist['val_loss']\n",
        "\n",
        "    epochs = range(1, len(acc) + 1)\n",
        "\n",
        "    plt.plot(epochs, acc, '*-', label='Training acc')\n",
        "    plt.plot(epochs, val_acc, 'b', label='Validation acc')\n",
        "    plt.title('Training and validation accuracy')\n",
        "    plt.legend()\n",
        "\n",
        "    plt.figure()\n",
        "    plt.plot(epochs, loss, '*-', label='Training loss')\n",
        "    plt.plot(epochs, val_loss, 'b', label='Validation loss')\n",
        "    plt.title('Training and validation loss')\n",
        "    plt.legend()\n",
        "    plt.show()"
      ],
      "execution_count": 0,
      "outputs": []
    },
    {
      "metadata": {
        "id": "CT9bueIHKv6D",
        "colab_type": "text"
      },
      "cell_type": "markdown",
      "source": [
        "# Baseline for Challenge 1"
      ]
    },
    {
      "metadata": {
        "id": "cO2PbwJ5bQnG",
        "colab_type": "text"
      },
      "cell_type": "markdown",
      "source": [
        "## Get Data"
      ]
    },
    {
      "metadata": {
        "id": "om-H9bfPaeie",
        "colab_type": "code",
        "outputId": "714174cb-4747-4a31-8637-a21b09d6f975",
        "colab": {
          "base_uri": "https://localhost:8080/",
          "height": 347
        }
      },
      "cell_type": "code",
      "source": [
        "# CAD challenge 1, simple classification\n",
        "train_data_id = '1AntSN4wcQ5x48wYXKnXJRzksPZYagQIr'\n",
        "val_data_id = '14WHiW3wfjKKSbqXExzuWzxWwj-mVlA-F'\n",
        "\n",
        "train_file_name = 'train.tar.gz'\n",
        "val_data_name = 'val.tar.gz'\n",
        "\n",
        "get_file(train_data_id, train_file_name)\n",
        "get_file(val_data_id, val_data_name)"
      ],
      "execution_count": 0,
      "outputs": [
        {
          "output_type": "stream",
          "text": [
            "[=======                                           ]\n",
            "[===============                                   ]\n",
            "[=======================                           ]\n",
            "[===============================                   ]\n",
            "[=======================================           ]\n",
            "[===============================================   ]\n",
            "[=======================================================]\n",
            "[==============================================================]\n",
            "[======================================================================]\n",
            "[==============================================================================]\n",
            "[======================================================================================]\n",
            "[==============================================================================================]\n",
            "[====================================================================================================]\n",
            "File has been downloaded successfully!\n",
            "[===============================                   ]\n",
            "[==============================================================]\n",
            "[==============================================================================================]\n",
            "[====================================================================================================]\n",
            "File has been downloaded successfully!\n"
          ],
          "name": "stdout"
        }
      ]
    },
    {
      "metadata": {
        "id": "Dy-12C5hbtzy",
        "colab_type": "code",
        "outputId": "072b29f2-66a0-46f6-9dc4-fe9df02a1364",
        "colab": {
          "base_uri": "https://localhost:8080/",
          "height": 87
        }
      },
      "cell_type": "code",
      "source": [
        "#! rm -rf data\n",
        "# !unzip ./data.zip\n",
        "\n",
        "train_path = './train'\n",
        "val_path = './val'\n",
        "test_path = './test'\n",
        "\n",
        "# since archive contains a folder already\n",
        "unzip_tar(train_file_name, './')\n",
        "unzip_tar(val_data_name, './')\n",
        "val_test_split(val_path, test_path)"
      ],
      "execution_count": 0,
      "outputs": [
        {
          "output_type": "stream",
          "text": [
            "600\n",
            "300\n",
            "600\n",
            "300\n"
          ],
          "name": "stdout"
        }
      ]
    },
    {
      "metadata": {
        "id": "b8eu09EjcKDu",
        "colab_type": "text"
      },
      "cell_type": "markdown",
      "source": [
        "\n",
        "## Prepa Data Generator"
      ]
    },
    {
      "metadata": {
        "id": "4QJQC02eb4mt",
        "colab_type": "code",
        "colab": {}
      },
      "cell_type": "code",
      "source": [
        "import tensorflow.keras as keras\n",
        "from tensorflow.keras import models\n",
        "from tensorflow.keras import layers\n",
        "from tensorflow.keras.preprocessing import image\n",
        "from tensorflow.keras.applications import VGG16, Xception\n",
        "from tensorflow.keras.preprocessing.image import ImageDataGenerator\n",
        "from tensorflow.keras import optimizers\n",
        "\n",
        "from sklearn.metrics import classification_report, confusion_matrix"
      ],
      "execution_count": 0,
      "outputs": []
    },
    {
      "metadata": {
        "id": "L-SnDfwIdOPR",
        "colab_type": "code",
        "colab": {}
      },
      "cell_type": "code",
      "source": [
        "input_img_shape = (200, 150, 3)\n",
        "no_epochs = 40\n",
        "steps_per_epoch = 100\n",
        "validation_steps = 50"
      ],
      "execution_count": 0,
      "outputs": []
    },
    {
      "metadata": {
        "id": "H_3IeVAccFaI",
        "colab_type": "code",
        "outputId": "5772eea3-c4d9-4b76-acb5-3c4d39ec8238",
        "colab": {
          "base_uri": "https://localhost:8080/",
          "height": 87
        }
      },
      "cell_type": "code",
      "source": [
        "# with data augentation\n",
        "# train_datagen = ImageDataGenerator(rescale=1./255, rotation_range=40,\n",
        "#                                    width_shift_range=0.2, height_shift_range=0.2, shear_range=0.2,\n",
        "#                                   zoom_range=0.2, horizontal_flip=True, fill_mode='nearest')\n",
        "\n",
        "train_datagen = ImageDataGenerator(rescale=1./255)\n",
        "test_datagen = ImageDataGenerator(rescale=1./255)\n",
        "\n",
        "\n",
        "train_gen = train_datagen.flow_from_directory(train_path, target_size=input_img_shape[:2],\n",
        "                                              batch_size=20, class_mode='binary')\n",
        "validation_gen = test_datagen.flow_from_directory(val_path, target_size=input_img_shape[:2],\n",
        "                                              batch_size=20, class_mode='binary')\n",
        "\n",
        "test_gen = test_datagen.flow_from_directory(test_path,\n",
        "                                            target_size=input_img_shape[:2],\n",
        "                                            batch_size=20,\n",
        "                                            #class_mode=None,\n",
        "                                            shuffle=False)\n",
        "\n",
        "train_gen.class_indices"
      ],
      "execution_count": 0,
      "outputs": [
        {
          "output_type": "stream",
          "text": [
            "Found 4800 images belonging to 2 classes.\n",
            "Found 600 images belonging to 2 classes.\n",
            "Found 600 images belonging to 2 classes.\n"
          ],
          "name": "stdout"
        },
        {
          "output_type": "execute_result",
          "data": {
            "text/plain": [
              "{'les': 0, 'nv': 1}"
            ]
          },
          "metadata": {
            "tags": []
          },
          "execution_count": 90
        }
      ]
    },
    {
      "metadata": {
        "id": "kqzhQl5hb2Nj",
        "colab_type": "text"
      },
      "cell_type": "markdown",
      "source": [
        "## Baseline for VGG16"
      ]
    },
    {
      "metadata": {
        "id": "3qhIHq2HcuMp",
        "colab_type": "code",
        "outputId": "f5cf3b81-47cd-4bd9-a060-28463237b21d",
        "colab": {
          "base_uri": "https://localhost:8080/",
          "height": 797
        }
      },
      "cell_type": "code",
      "source": [
        "conv_base_vgg16 = VGG16(weights='imagenet', include_top=False, input_shape=input_img_shape)\n",
        "#conv_base = Xception(weights='imagenet', include_top=False, input_shape=input_img_shape)\n",
        "\n",
        "conv_base_vgg16.summary()"
      ],
      "execution_count": 0,
      "outputs": [
        {
          "output_type": "stream",
          "text": [
            "_________________________________________________________________\n",
            "Layer (type)                 Output Shape              Param #   \n",
            "=================================================================\n",
            "input_4 (InputLayer)         (None, 200, 150, 3)       0         \n",
            "_________________________________________________________________\n",
            "block1_conv1 (Conv2D)        (None, 200, 150, 64)      1792      \n",
            "_________________________________________________________________\n",
            "block1_conv2 (Conv2D)        (None, 200, 150, 64)      36928     \n",
            "_________________________________________________________________\n",
            "block1_pool (MaxPooling2D)   (None, 100, 75, 64)       0         \n",
            "_________________________________________________________________\n",
            "block2_conv1 (Conv2D)        (None, 100, 75, 128)      73856     \n",
            "_________________________________________________________________\n",
            "block2_conv2 (Conv2D)        (None, 100, 75, 128)      147584    \n",
            "_________________________________________________________________\n",
            "block2_pool (MaxPooling2D)   (None, 50, 37, 128)       0         \n",
            "_________________________________________________________________\n",
            "block3_conv1 (Conv2D)        (None, 50, 37, 256)       295168    \n",
            "_________________________________________________________________\n",
            "block3_conv2 (Conv2D)        (None, 50, 37, 256)       590080    \n",
            "_________________________________________________________________\n",
            "block3_conv3 (Conv2D)        (None, 50, 37, 256)       590080    \n",
            "_________________________________________________________________\n",
            "block3_pool (MaxPooling2D)   (None, 25, 18, 256)       0         \n",
            "_________________________________________________________________\n",
            "block4_conv1 (Conv2D)        (None, 25, 18, 512)       1180160   \n",
            "_________________________________________________________________\n",
            "block4_conv2 (Conv2D)        (None, 25, 18, 512)       2359808   \n",
            "_________________________________________________________________\n",
            "block4_conv3 (Conv2D)        (None, 25, 18, 512)       2359808   \n",
            "_________________________________________________________________\n",
            "block4_pool (MaxPooling2D)   (None, 12, 9, 512)        0         \n",
            "_________________________________________________________________\n",
            "block5_conv1 (Conv2D)        (None, 12, 9, 512)        2359808   \n",
            "_________________________________________________________________\n",
            "block5_conv2 (Conv2D)        (None, 12, 9, 512)        2359808   \n",
            "_________________________________________________________________\n",
            "block5_conv3 (Conv2D)        (None, 12, 9, 512)        2359808   \n",
            "_________________________________________________________________\n",
            "block5_pool (MaxPooling2D)   (None, 6, 4, 512)         0         \n",
            "=================================================================\n",
            "Total params: 14,714,688\n",
            "Trainable params: 14,714,688\n",
            "Non-trainable params: 0\n",
            "_________________________________________________________________\n"
          ],
          "name": "stdout"
        }
      ]
    },
    {
      "metadata": {
        "id": "eMVOnRQMcwT3",
        "colab_type": "code",
        "outputId": "f341f328-e7f7-473f-ae77-65be97c04a11",
        "colab": {
          "base_uri": "https://localhost:8080/",
          "height": 277
        }
      },
      "cell_type": "code",
      "source": [
        "# densely connected classifier on top of the convolutional base\n",
        "model_vgg16 = models.Sequential()\n",
        "model_vgg16.add(conv_base_vgg16)\n",
        "model_vgg16.add(layers.Flatten())\n",
        "model_vgg16.add(layers.Dense(256, activation='relu'))\n",
        "model_vgg16.add(layers.Dense(1, activation='sigmoid'))\n",
        "\n",
        "# freeze convolutional base\n",
        "conv_base_vgg16.trainable = False\n",
        "\n",
        "model_vgg16.summary()"
      ],
      "execution_count": 0,
      "outputs": [
        {
          "output_type": "stream",
          "text": [
            "_________________________________________________________________\n",
            "Layer (type)                 Output Shape              Param #   \n",
            "=================================================================\n",
            "vgg16 (Model)                (None, 6, 4, 512)         14714688  \n",
            "_________________________________________________________________\n",
            "flatten_2 (Flatten)          (None, 12288)             0         \n",
            "_________________________________________________________________\n",
            "dense_4 (Dense)              (None, 256)               3145984   \n",
            "_________________________________________________________________\n",
            "dense_5 (Dense)              (None, 1)                 257       \n",
            "=================================================================\n",
            "Total params: 17,860,929\n",
            "Trainable params: 3,146,241\n",
            "Non-trainable params: 14,714,688\n",
            "_________________________________________________________________\n"
          ],
          "name": "stdout"
        }
      ]
    },
    {
      "metadata": {
        "id": "A1qKXd4UczGk",
        "colab_type": "code",
        "outputId": "6be9a9c2-b95d-4673-e4b6-64c99ecc6cf1",
        "colab": {
          "base_uri": "https://localhost:8080/",
          "height": 1404
        }
      },
      "cell_type": "code",
      "source": [
        "model_vgg16.compile(loss='binary_crossentropy', optimizer=optimizers.RMSprop(lr=2e-5), metrics=['acc'])\n",
        "\n",
        "history_vgg16 = model_vgg16.fit_generator(train_gen, steps_per_epoch=steps_per_epoch, epochs=no_epochs, validation_data=validation_gen,\n",
        "                              validation_steps=validation_steps)"
      ],
      "execution_count": 0,
      "outputs": [
        {
          "output_type": "stream",
          "text": [
            "Epoch 1/40\n",
            "100/100 [==============================] - 40s 403ms/step - loss: 0.5943 - acc: 0.6990 - val_loss: 0.5199 - val_acc: 0.7660\n",
            "Epoch 2/40\n",
            "100/100 [==============================] - 38s 379ms/step - loss: 0.5166 - acc: 0.7625 - val_loss: 0.4783 - val_acc: 0.8050\n",
            "Epoch 3/40\n",
            "100/100 [==============================] - 38s 382ms/step - loss: 0.4997 - acc: 0.7735 - val_loss: 0.4633 - val_acc: 0.8140\n",
            "Epoch 4/40\n",
            "100/100 [==============================] - 38s 381ms/step - loss: 0.4691 - acc: 0.7820 - val_loss: 0.4557 - val_acc: 0.8080\n",
            "Epoch 5/40\n",
            "100/100 [==============================] - 38s 382ms/step - loss: 0.4789 - acc: 0.7755 - val_loss: 0.4299 - val_acc: 0.8290\n",
            "Epoch 6/40\n",
            "100/100 [==============================] - 38s 381ms/step - loss: 0.4611 - acc: 0.7875 - val_loss: 0.4361 - val_acc: 0.8190\n",
            "Epoch 7/40\n",
            "100/100 [==============================] - 38s 382ms/step - loss: 0.4502 - acc: 0.8075 - val_loss: 0.4238 - val_acc: 0.8230\n",
            "Epoch 8/40\n",
            "100/100 [==============================] - 38s 383ms/step - loss: 0.4530 - acc: 0.7970 - val_loss: 0.4261 - val_acc: 0.8140\n",
            "Epoch 9/40\n",
            "100/100 [==============================] - 38s 379ms/step - loss: 0.4344 - acc: 0.8085 - val_loss: 0.4120 - val_acc: 0.8350\n",
            "Epoch 10/40\n",
            "100/100 [==============================] - 38s 380ms/step - loss: 0.4404 - acc: 0.7990 - val_loss: 0.4118 - val_acc: 0.8190\n",
            "Epoch 11/40\n",
            "100/100 [==============================] - 38s 378ms/step - loss: 0.4303 - acc: 0.8105 - val_loss: 0.4125 - val_acc: 0.8210\n",
            "Epoch 12/40\n",
            "100/100 [==============================] - 38s 380ms/step - loss: 0.4289 - acc: 0.8155 - val_loss: 0.3968 - val_acc: 0.8260\n",
            "Epoch 13/40\n",
            "100/100 [==============================] - 38s 381ms/step - loss: 0.4252 - acc: 0.8200 - val_loss: 0.4016 - val_acc: 0.8290\n",
            "Epoch 14/40\n",
            "100/100 [==============================] - 38s 381ms/step - loss: 0.4186 - acc: 0.8155 - val_loss: 0.4168 - val_acc: 0.8270\n",
            "Epoch 15/40\n",
            "100/100 [==============================] - 38s 380ms/step - loss: 0.3976 - acc: 0.8300 - val_loss: 0.3858 - val_acc: 0.8300\n",
            "Epoch 16/40\n",
            "100/100 [==============================] - 38s 380ms/step - loss: 0.4073 - acc: 0.8225 - val_loss: 0.3776 - val_acc: 0.8440\n",
            "Epoch 17/40\n",
            "100/100 [==============================] - 38s 380ms/step - loss: 0.4064 - acc: 0.8260 - val_loss: 0.4024 - val_acc: 0.8360\n",
            "Epoch 18/40\n",
            "100/100 [==============================] - 38s 380ms/step - loss: 0.3935 - acc: 0.8320 - val_loss: 0.3914 - val_acc: 0.8300\n",
            "Epoch 19/40\n",
            "100/100 [==============================] - 38s 379ms/step - loss: 0.4032 - acc: 0.8265 - val_loss: 0.3940 - val_acc: 0.8250\n",
            "Epoch 20/40\n",
            "100/100 [==============================] - 38s 384ms/step - loss: 0.4019 - acc: 0.8205 - val_loss: 0.3687 - val_acc: 0.8460\n",
            "Epoch 21/40\n",
            "100/100 [==============================] - 38s 380ms/step - loss: 0.3785 - acc: 0.8430 - val_loss: 0.3755 - val_acc: 0.8390\n",
            "Epoch 22/40\n",
            "100/100 [==============================] - 38s 381ms/step - loss: 0.3900 - acc: 0.8435 - val_loss: 0.3947 - val_acc: 0.8240\n",
            "Epoch 23/40\n",
            "100/100 [==============================] - 38s 379ms/step - loss: 0.3859 - acc: 0.8310 - val_loss: 0.3877 - val_acc: 0.8280\n",
            "Epoch 24/40\n",
            "100/100 [==============================] - 38s 376ms/step - loss: 0.3765 - acc: 0.8360 - val_loss: 0.3780 - val_acc: 0.8390\n",
            "Epoch 25/40\n",
            "100/100 [==============================] - 37s 375ms/step - loss: 0.3720 - acc: 0.8395 - val_loss: 0.3602 - val_acc: 0.8420\n",
            "Epoch 26/40\n",
            "100/100 [==============================] - 38s 376ms/step - loss: 0.3768 - acc: 0.8365 - val_loss: 0.3738 - val_acc: 0.8420\n",
            "Epoch 27/40\n",
            "100/100 [==============================] - 37s 375ms/step - loss: 0.3712 - acc: 0.8445 - val_loss: 0.3688 - val_acc: 0.8420\n",
            "Epoch 28/40\n",
            "100/100 [==============================] - 38s 379ms/step - loss: 0.3836 - acc: 0.8340 - val_loss: 0.3722 - val_acc: 0.8320\n",
            "Epoch 29/40\n",
            "100/100 [==============================] - 38s 381ms/step - loss: 0.3585 - acc: 0.8520 - val_loss: 0.3639 - val_acc: 0.8340\n",
            "Epoch 30/40\n",
            "100/100 [==============================] - 38s 377ms/step - loss: 0.3663 - acc: 0.8440 - val_loss: 0.3655 - val_acc: 0.8360\n",
            "Epoch 31/40\n",
            "100/100 [==============================] - 38s 379ms/step - loss: 0.3525 - acc: 0.8540 - val_loss: 0.3677 - val_acc: 0.8270\n",
            "Epoch 32/40\n",
            "100/100 [==============================] - 38s 382ms/step - loss: 0.3521 - acc: 0.8470 - val_loss: 0.3718 - val_acc: 0.8440\n",
            "Epoch 33/40\n",
            "100/100 [==============================] - 38s 380ms/step - loss: 0.3619 - acc: 0.8430 - val_loss: 0.3645 - val_acc: 0.8410\n",
            "Epoch 34/40\n",
            "100/100 [==============================] - 38s 378ms/step - loss: 0.3675 - acc: 0.8435 - val_loss: 0.3715 - val_acc: 0.8430\n",
            "Epoch 35/40\n",
            "100/100 [==============================] - 38s 379ms/step - loss: 0.3507 - acc: 0.8540 - val_loss: 0.3776 - val_acc: 0.8380\n",
            "Epoch 36/40\n",
            "100/100 [==============================] - 38s 380ms/step - loss: 0.3425 - acc: 0.8560 - val_loss: 0.3702 - val_acc: 0.8470\n",
            "Epoch 37/40\n",
            "100/100 [==============================] - 38s 379ms/step - loss: 0.3599 - acc: 0.8430 - val_loss: 0.3657 - val_acc: 0.8390\n",
            "Epoch 38/40\n",
            "100/100 [==============================] - 38s 377ms/step - loss: 0.3294 - acc: 0.8680 - val_loss: 0.3511 - val_acc: 0.8380\n",
            "Epoch 39/40\n",
            "100/100 [==============================] - 38s 380ms/step - loss: 0.3513 - acc: 0.8525 - val_loss: 0.3672 - val_acc: 0.8450\n",
            "Epoch 40/40\n",
            "100/100 [==============================] - 38s 378ms/step - loss: 0.3238 - acc: 0.8690 - val_loss: 0.3801 - val_acc: 0.8420\n"
          ],
          "name": "stdout"
        }
      ]
    },
    {
      "metadata": {
        "id": "1pq5QUlwhl-n",
        "colab_type": "code",
        "outputId": "0b6793ed-0c8f-4dbc-82a9-c09c4da2b33e",
        "colab": {
          "base_uri": "https://localhost:8080/",
          "height": 933
        }
      },
      "cell_type": "code",
      "source": [
        "# test the trained network\n",
        "plot_history(history_vgg16)\n",
        "\n",
        "# test_loss, test_acc = model_vgg16.evaluate_generator(test_gen, steps=50)\n",
        "# print('test acc:', test_acc)\n",
        "\n",
        "\n",
        "Y_pred = model_vgg16.predict_classes(test_gen)\n",
        "y_pred = [p[0] for p in Y_pred]\n",
        "\n",
        "print('Confusion Matrix')\n",
        "print(confusion_matrix(test_gen.classes, y_pred))\n",
        "\n",
        "print('Classification Report')\n",
        "target_names = ['les', 'nv']\n",
        "print(classification_report(test_gen.classes, y_pred, target_names=target_names))"
      ],
      "execution_count": 0,
      "outputs": [
        {
          "output_type": "display_data",
          "data": {
            "image/png": "[encoded data removed]",
            "text/plain": [
              "<matplotlib.figure.Figure at 0x7fe3c0930320>"
            ]
          },
          "metadata": {
            "tags": []
          }
        },
        {
          "output_type": "display_data",
          "data": {
            "image/png": "[encoded data removed]",
            "text/plain": [
              "<matplotlib.figure.Figure at 0x7fe3c07ff470>"
            ]
          },
          "metadata": {
            "tags": []
          }
        },
        {
          "output_type": "stream",
          "text": [
            "Confusion Matrix\n",
            "[[265  35]\n",
            " [ 85 215]]\n",
            "Classification Report\n",
            "              precision    recall  f1-score   support\n",
            "\n",
            "         les       0.76      0.88      0.82       300\n",
            "          nv       0.86      0.72      0.78       300\n",
            "\n",
            "   micro avg       0.80      0.80      0.80       600\n",
            "   macro avg       0.81      0.80      0.80       600\n",
            "weighted avg       0.81      0.80      0.80       600\n",
            "\n"
          ],
          "name": "stdout"
        }
      ]
    },
    {
      "metadata": {
        "id": "MMGuK9stc4z9",
        "colab_type": "code",
        "outputId": "d6c8b025-3c5b-4c79-8afd-34dc9e5f3c52",
        "colab": {
          "base_uri": "https://localhost:8080/",
          "height": 35
        }
      },
      "cell_type": "code",
      "source": [
        "# path_model = 'vgg16_baseline_e40.h5'\n",
        "# drive_name = 'vgg16_baseline_e40.h5'\n",
        "# #models.save_model(model, path_model)\n",
        "# # Save entire model to a HDF5 file\n",
        "# model.save(path_model)\n",
        "\n",
        "# save_file_to_drive(drive_name, path_model)"
      ],
      "execution_count": 0,
      "outputs": [
        {
          "output_type": "execute_result",
          "data": {
            "text/plain": [
              "{'id': '10LDLWpsIgTQprqzHNWm07enqtk3hReZj'}"
            ]
          },
          "metadata": {
            "tags": []
          },
          "execution_count": 94
        }
      ]
    },
    {
      "metadata": {
        "id": "VS5yX9hgjRDa",
        "colab_type": "text"
      },
      "cell_type": "markdown",
      "source": [
        "## Baseline for Xception"
      ]
    },
    {
      "metadata": {
        "id": "1OXdL6bniCJc",
        "colab_type": "code",
        "outputId": "b1d10257-62d3-4bf0-eabe-58cfd669c6fa",
        "colab": {
          "base_uri": "https://localhost:8080/",
          "height": 4923
        }
      },
      "cell_type": "code",
      "source": [
        "conv_base_xc = Xception(weights='imagenet', include_top=False, input_shape=input_img_shape)\n",
        "\n",
        "conv_base_xc.summary()"
      ],
      "execution_count": 0,
      "outputs": [
        {
          "output_type": "stream",
          "text": [
            "__________________________________________________________________________________________________\n",
            "Layer (type)                    Output Shape         Param #     Connected to                     \n",
            "==================================================================================================\n",
            "input_5 (InputLayer)            (None, 200, 150, 3)  0                                            \n",
            "__________________________________________________________________________________________________\n",
            "block1_conv1 (Conv2D)           (None, 99, 74, 32)   864         input_5[0][0]                    \n",
            "__________________________________________________________________________________________________\n",
            "block1_conv1_bn (BatchNormaliza (None, 99, 74, 32)   128         block1_conv1[0][0]               \n",
            "__________________________________________________________________________________________________\n",
            "block1_conv1_act (Activation)   (None, 99, 74, 32)   0           block1_conv1_bn[0][0]            \n",
            "__________________________________________________________________________________________________\n",
            "block1_conv2 (Conv2D)           (None, 97, 72, 64)   18432       block1_conv1_act[0][0]           \n",
            "__________________________________________________________________________________________________\n",
            "block1_conv2_bn (BatchNormaliza (None, 97, 72, 64)   256         block1_conv2[0][0]               \n",
            "__________________________________________________________________________________________________\n",
            "block1_conv2_act (Activation)   (None, 97, 72, 64)   0           block1_conv2_bn[0][0]            \n",
            "__________________________________________________________________________________________________\n",
            "block2_sepconv1 (SeparableConv2 (None, 97, 72, 128)  8768        block1_conv2_act[0][0]           \n",
            "__________________________________________________________________________________________________\n",
            "block2_sepconv1_bn (BatchNormal (None, 97, 72, 128)  512         block2_sepconv1[0][0]            \n",
            "__________________________________________________________________________________________________\n",
            "block2_sepconv2_act (Activation (None, 97, 72, 128)  0           block2_sepconv1_bn[0][0]         \n",
            "__________________________________________________________________________________________________\n",
            "block2_sepconv2 (SeparableConv2 (None, 97, 72, 128)  17536       block2_sepconv2_act[0][0]        \n",
            "__________________________________________________________________________________________________\n",
            "block2_sepconv2_bn (BatchNormal (None, 97, 72, 128)  512         block2_sepconv2[0][0]            \n",
            "__________________________________________________________________________________________________\n",
            "conv2d_4 (Conv2D)               (None, 49, 36, 128)  8192        block1_conv2_act[0][0]           \n",
            "__________________________________________________________________________________________________\n",
            "block2_pool (MaxPooling2D)      (None, 49, 36, 128)  0           block2_sepconv2_bn[0][0]         \n",
            "__________________________________________________________________________________________________\n",
            "batch_normalization_4 (BatchNor (None, 49, 36, 128)  512         conv2d_4[0][0]                   \n",
            "__________________________________________________________________________________________________\n",
            "add_12 (Add)                    (None, 49, 36, 128)  0           block2_pool[0][0]                \n",
            "                                                                 batch_normalization_4[0][0]      \n",
            "__________________________________________________________________________________________________\n",
            "block3_sepconv1_act (Activation (None, 49, 36, 128)  0           add_12[0][0]                     \n",
            "__________________________________________________________________________________________________\n",
            "block3_sepconv1 (SeparableConv2 (None, 49, 36, 256)  33920       block3_sepconv1_act[0][0]        \n",
            "__________________________________________________________________________________________________\n",
            "block3_sepconv1_bn (BatchNormal (None, 49, 36, 256)  1024        block3_sepconv1[0][0]            \n",
            "__________________________________________________________________________________________________\n",
            "block3_sepconv2_act (Activation (None, 49, 36, 256)  0           block3_sepconv1_bn[0][0]         \n",
            "__________________________________________________________________________________________________\n",
            "block3_sepconv2 (SeparableConv2 (None, 49, 36, 256)  67840       block3_sepconv2_act[0][0]        \n",
            "__________________________________________________________________________________________________\n",
            "block3_sepconv2_bn (BatchNormal (None, 49, 36, 256)  1024        block3_sepconv2[0][0]            \n",
            "__________________________________________________________________________________________________\n",
            "conv2d_5 (Conv2D)               (None, 25, 18, 256)  32768       add_12[0][0]                     \n",
            "__________________________________________________________________________________________________\n",
            "block3_pool (MaxPooling2D)      (None, 25, 18, 256)  0           block3_sepconv2_bn[0][0]         \n",
            "__________________________________________________________________________________________________\n",
            "batch_normalization_5 (BatchNor (None, 25, 18, 256)  1024        conv2d_5[0][0]                   \n",
            "__________________________________________________________________________________________________\n",
            "add_13 (Add)                    (None, 25, 18, 256)  0           block3_pool[0][0]                \n",
            "                                                                 batch_normalization_5[0][0]      \n",
            "__________________________________________________________________________________________________\n",
            "block4_sepconv1_act (Activation (None, 25, 18, 256)  0           add_13[0][0]                     \n",
            "__________________________________________________________________________________________________\n",
            "block4_sepconv1 (SeparableConv2 (None, 25, 18, 728)  188672      block4_sepconv1_act[0][0]        \n",
            "__________________________________________________________________________________________________\n",
            "block4_sepconv1_bn (BatchNormal (None, 25, 18, 728)  2912        block4_sepconv1[0][0]            \n",
            "__________________________________________________________________________________________________\n",
            "block4_sepconv2_act (Activation (None, 25, 18, 728)  0           block4_sepconv1_bn[0][0]         \n",
            "__________________________________________________________________________________________________\n",
            "block4_sepconv2 (SeparableConv2 (None, 25, 18, 728)  536536      block4_sepconv2_act[0][0]        \n",
            "__________________________________________________________________________________________________\n",
            "block4_sepconv2_bn (BatchNormal (None, 25, 18, 728)  2912        block4_sepconv2[0][0]            \n",
            "__________________________________________________________________________________________________\n",
            "conv2d_6 (Conv2D)               (None, 13, 9, 728)   186368      add_13[0][0]                     \n",
            "__________________________________________________________________________________________________\n",
            "block4_pool (MaxPooling2D)      (None, 13, 9, 728)   0           block4_sepconv2_bn[0][0]         \n",
            "__________________________________________________________________________________________________\n",
            "batch_normalization_6 (BatchNor (None, 13, 9, 728)   2912        conv2d_6[0][0]                   \n",
            "__________________________________________________________________________________________________\n",
            "add_14 (Add)                    (None, 13, 9, 728)   0           block4_pool[0][0]                \n",
            "                                                                 batch_normalization_6[0][0]      \n",
            "__________________________________________________________________________________________________\n",
            "block5_sepconv1_act (Activation (None, 13, 9, 728)   0           add_14[0][0]                     \n",
            "__________________________________________________________________________________________________\n",
            "block5_sepconv1 (SeparableConv2 (None, 13, 9, 728)   536536      block5_sepconv1_act[0][0]        \n",
            "__________________________________________________________________________________________________\n",
            "block5_sepconv1_bn (BatchNormal (None, 13, 9, 728)   2912        block5_sepconv1[0][0]            \n",
            "__________________________________________________________________________________________________\n",
            "block5_sepconv2_act (Activation (None, 13, 9, 728)   0           block5_sepconv1_bn[0][0]         \n",
            "__________________________________________________________________________________________________\n",
            "block5_sepconv2 (SeparableConv2 (None, 13, 9, 728)   536536      block5_sepconv2_act[0][0]        \n",
            "__________________________________________________________________________________________________\n",
            "block5_sepconv2_bn (BatchNormal (None, 13, 9, 728)   2912        block5_sepconv2[0][0]            \n",
            "__________________________________________________________________________________________________\n",
            "block5_sepconv3_act (Activation (None, 13, 9, 728)   0           block5_sepconv2_bn[0][0]         \n",
            "__________________________________________________________________________________________________\n",
            "block5_sepconv3 (SeparableConv2 (None, 13, 9, 728)   536536      block5_sepconv3_act[0][0]        \n",
            "__________________________________________________________________________________________________\n",
            "block5_sepconv3_bn (BatchNormal (None, 13, 9, 728)   2912        block5_sepconv3[0][0]            \n",
            "__________________________________________________________________________________________________\n",
            "add_15 (Add)                    (None, 13, 9, 728)   0           block5_sepconv3_bn[0][0]         \n",
            "                                                                 add_14[0][0]                     \n",
            "__________________________________________________________________________________________________\n",
            "block6_sepconv1_act (Activation (None, 13, 9, 728)   0           add_15[0][0]                     \n",
            "__________________________________________________________________________________________________\n",
            "block6_sepconv1 (SeparableConv2 (None, 13, 9, 728)   536536      block6_sepconv1_act[0][0]        \n",
            "__________________________________________________________________________________________________\n",
            "block6_sepconv1_bn (BatchNormal (None, 13, 9, 728)   2912        block6_sepconv1[0][0]            \n",
            "__________________________________________________________________________________________________\n",
            "block6_sepconv2_act (Activation (None, 13, 9, 728)   0           block6_sepconv1_bn[0][0]         \n",
            "__________________________________________________________________________________________________\n",
            "block6_sepconv2 (SeparableConv2 (None, 13, 9, 728)   536536      block6_sepconv2_act[0][0]        \n",
            "__________________________________________________________________________________________________\n",
            "block6_sepconv2_bn (BatchNormal (None, 13, 9, 728)   2912        block6_sepconv2[0][0]            \n",
            "__________________________________________________________________________________________________\n",
            "block6_sepconv3_act (Activation (None, 13, 9, 728)   0           block6_sepconv2_bn[0][0]         \n",
            "__________________________________________________________________________________________________\n",
            "block6_sepconv3 (SeparableConv2 (None, 13, 9, 728)   536536      block6_sepconv3_act[0][0]        \n",
            "__________________________________________________________________________________________________\n",
            "block6_sepconv3_bn (BatchNormal (None, 13, 9, 728)   2912        block6_sepconv3[0][0]            \n",
            "__________________________________________________________________________________________________\n",
            "add_16 (Add)                    (None, 13, 9, 728)   0           block6_sepconv3_bn[0][0]         \n",
            "                                                                 add_15[0][0]                     \n",
            "__________________________________________________________________________________________________\n",
            "block7_sepconv1_act (Activation (None, 13, 9, 728)   0           add_16[0][0]                     \n",
            "__________________________________________________________________________________________________\n",
            "block7_sepconv1 (SeparableConv2 (None, 13, 9, 728)   536536      block7_sepconv1_act[0][0]        \n",
            "__________________________________________________________________________________________________\n",
            "block7_sepconv1_bn (BatchNormal (None, 13, 9, 728)   2912        block7_sepconv1[0][0]            \n",
            "__________________________________________________________________________________________________\n",
            "block7_sepconv2_act (Activation (None, 13, 9, 728)   0           block7_sepconv1_bn[0][0]         \n",
            "__________________________________________________________________________________________________\n",
            "block7_sepconv2 (SeparableConv2 (None, 13, 9, 728)   536536      block7_sepconv2_act[0][0]        \n",
            "__________________________________________________________________________________________________\n",
            "block7_sepconv2_bn (BatchNormal (None, 13, 9, 728)   2912        block7_sepconv2[0][0]            \n",
            "__________________________________________________________________________________________________\n",
            "block7_sepconv3_act (Activation (None, 13, 9, 728)   0           block7_sepconv2_bn[0][0]         \n",
            "__________________________________________________________________________________________________\n",
            "block7_sepconv3 (SeparableConv2 (None, 13, 9, 728)   536536      block7_sepconv3_act[0][0]        \n",
            "__________________________________________________________________________________________________\n",
            "block7_sepconv3_bn (BatchNormal (None, 13, 9, 728)   2912        block7_sepconv3[0][0]            \n",
            "__________________________________________________________________________________________________\n",
            "add_17 (Add)                    (None, 13, 9, 728)   0           block7_sepconv3_bn[0][0]         \n",
            "                                                                 add_16[0][0]                     \n",
            "__________________________________________________________________________________________________\n",
            "block8_sepconv1_act (Activation (None, 13, 9, 728)   0           add_17[0][0]                     \n",
            "__________________________________________________________________________________________________\n",
            "block8_sepconv1 (SeparableConv2 (None, 13, 9, 728)   536536      block8_sepconv1_act[0][0]        \n",
            "__________________________________________________________________________________________________\n",
            "block8_sepconv1_bn (BatchNormal (None, 13, 9, 728)   2912        block8_sepconv1[0][0]            \n",
            "__________________________________________________________________________________________________\n",
            "block8_sepconv2_act (Activation (None, 13, 9, 728)   0           block8_sepconv1_bn[0][0]         \n",
            "__________________________________________________________________________________________________\n",
            "block8_sepconv2 (SeparableConv2 (None, 13, 9, 728)   536536      block8_sepconv2_act[0][0]        \n",
            "__________________________________________________________________________________________________\n",
            "block8_sepconv2_bn (BatchNormal (None, 13, 9, 728)   2912        block8_sepconv2[0][0]            \n",
            "__________________________________________________________________________________________________\n",
            "block8_sepconv3_act (Activation (None, 13, 9, 728)   0           block8_sepconv2_bn[0][0]         \n",
            "__________________________________________________________________________________________________\n",
            "block8_sepconv3 (SeparableConv2 (None, 13, 9, 728)   536536      block8_sepconv3_act[0][0]        \n",
            "__________________________________________________________________________________________________\n",
            "block8_sepconv3_bn (BatchNormal (None, 13, 9, 728)   2912        block8_sepconv3[0][0]            \n",
            "__________________________________________________________________________________________________\n",
            "add_18 (Add)                    (None, 13, 9, 728)   0           block8_sepconv3_bn[0][0]         \n",
            "                                                                 add_17[0][0]                     \n",
            "__________________________________________________________________________________________________\n",
            "block9_sepconv1_act (Activation (None, 13, 9, 728)   0           add_18[0][0]                     \n",
            "__________________________________________________________________________________________________\n",
            "block9_sepconv1 (SeparableConv2 (None, 13, 9, 728)   536536      block9_sepconv1_act[0][0]        \n",
            "__________________________________________________________________________________________________\n",
            "block9_sepconv1_bn (BatchNormal (None, 13, 9, 728)   2912        block9_sepconv1[0][0]            \n",
            "__________________________________________________________________________________________________\n",
            "block9_sepconv2_act (Activation (None, 13, 9, 728)   0           block9_sepconv1_bn[0][0]         \n",
            "__________________________________________________________________________________________________\n",
            "block9_sepconv2 (SeparableConv2 (None, 13, 9, 728)   536536      block9_sepconv2_act[0][0]        \n",
            "__________________________________________________________________________________________________\n",
            "block9_sepconv2_bn (BatchNormal (None, 13, 9, 728)   2912        block9_sepconv2[0][0]            \n",
            "__________________________________________________________________________________________________\n",
            "block9_sepconv3_act (Activation (None, 13, 9, 728)   0           block9_sepconv2_bn[0][0]         \n",
            "__________________________________________________________________________________________________\n",
            "block9_sepconv3 (SeparableConv2 (None, 13, 9, 728)   536536      block9_sepconv3_act[0][0]        \n",
            "__________________________________________________________________________________________________\n",
            "block9_sepconv3_bn (BatchNormal (None, 13, 9, 728)   2912        block9_sepconv3[0][0]            \n",
            "__________________________________________________________________________________________________\n",
            "add_19 (Add)                    (None, 13, 9, 728)   0           block9_sepconv3_bn[0][0]         \n",
            "                                                                 add_18[0][0]                     \n",
            "__________________________________________________________________________________________________\n",
            "block10_sepconv1_act (Activatio (None, 13, 9, 728)   0           add_19[0][0]                     \n",
            "__________________________________________________________________________________________________\n",
            "block10_sepconv1 (SeparableConv (None, 13, 9, 728)   536536      block10_sepconv1_act[0][0]       \n",
            "__________________________________________________________________________________________________\n",
            "block10_sepconv1_bn (BatchNorma (None, 13, 9, 728)   2912        block10_sepconv1[0][0]           \n",
            "__________________________________________________________________________________________________\n",
            "block10_sepconv2_act (Activatio (None, 13, 9, 728)   0           block10_sepconv1_bn[0][0]        \n",
            "__________________________________________________________________________________________________\n",
            "block10_sepconv2 (SeparableConv (None, 13, 9, 728)   536536      block10_sepconv2_act[0][0]       \n",
            "__________________________________________________________________________________________________\n",
            "block10_sepconv2_bn (BatchNorma (None, 13, 9, 728)   2912        block10_sepconv2[0][0]           \n",
            "__________________________________________________________________________________________________\n",
            "block10_sepconv3_act (Activatio (None, 13, 9, 728)   0           block10_sepconv2_bn[0][0]        \n",
            "__________________________________________________________________________________________________\n",
            "block10_sepconv3 (SeparableConv (None, 13, 9, 728)   536536      block10_sepconv3_act[0][0]       \n",
            "__________________________________________________________________________________________________\n",
            "block10_sepconv3_bn (BatchNorma (None, 13, 9, 728)   2912        block10_sepconv3[0][0]           \n",
            "__________________________________________________________________________________________________\n",
            "add_20 (Add)                    (None, 13, 9, 728)   0           block10_sepconv3_bn[0][0]        \n",
            "                                                                 add_19[0][0]                     \n",
            "__________________________________________________________________________________________________\n",
            "block11_sepconv1_act (Activatio (None, 13, 9, 728)   0           add_20[0][0]                     \n",
            "__________________________________________________________________________________________________\n",
            "block11_sepconv1 (SeparableConv (None, 13, 9, 728)   536536      block11_sepconv1_act[0][0]       \n",
            "__________________________________________________________________________________________________\n",
            "block11_sepconv1_bn (BatchNorma (None, 13, 9, 728)   2912        block11_sepconv1[0][0]           \n",
            "__________________________________________________________________________________________________\n",
            "block11_sepconv2_act (Activatio (None, 13, 9, 728)   0           block11_sepconv1_bn[0][0]        \n",
            "__________________________________________________________________________________________________\n",
            "block11_sepconv2 (SeparableConv (None, 13, 9, 728)   536536      block11_sepconv2_act[0][0]       \n",
            "__________________________________________________________________________________________________\n",
            "block11_sepconv2_bn (BatchNorma (None, 13, 9, 728)   2912        block11_sepconv2[0][0]           \n",
            "__________________________________________________________________________________________________\n",
            "block11_sepconv3_act (Activatio (None, 13, 9, 728)   0           block11_sepconv2_bn[0][0]        \n",
            "__________________________________________________________________________________________________\n",
            "block11_sepconv3 (SeparableConv (None, 13, 9, 728)   536536      block11_sepconv3_act[0][0]       \n",
            "__________________________________________________________________________________________________\n",
            "block11_sepconv3_bn (BatchNorma (None, 13, 9, 728)   2912        block11_sepconv3[0][0]           \n",
            "__________________________________________________________________________________________________\n",
            "add_21 (Add)                    (None, 13, 9, 728)   0           block11_sepconv3_bn[0][0]        \n",
            "                                                                 add_20[0][0]                     \n",
            "__________________________________________________________________________________________________\n",
            "block12_sepconv1_act (Activatio (None, 13, 9, 728)   0           add_21[0][0]                     \n",
            "__________________________________________________________________________________________________\n",
            "block12_sepconv1 (SeparableConv (None, 13, 9, 728)   536536      block12_sepconv1_act[0][0]       \n",
            "__________________________________________________________________________________________________\n",
            "block12_sepconv1_bn (BatchNorma (None, 13, 9, 728)   2912        block12_sepconv1[0][0]           \n",
            "__________________________________________________________________________________________________\n",
            "block12_sepconv2_act (Activatio (None, 13, 9, 728)   0           block12_sepconv1_bn[0][0]        \n",
            "__________________________________________________________________________________________________\n",
            "block12_sepconv2 (SeparableConv (None, 13, 9, 728)   536536      block12_sepconv2_act[0][0]       \n",
            "__________________________________________________________________________________________________\n",
            "block12_sepconv2_bn (BatchNorma (None, 13, 9, 728)   2912        block12_sepconv2[0][0]           \n",
            "__________________________________________________________________________________________________\n",
            "block12_sepconv3_act (Activatio (None, 13, 9, 728)   0           block12_sepconv2_bn[0][0]        \n",
            "__________________________________________________________________________________________________\n",
            "block12_sepconv3 (SeparableConv (None, 13, 9, 728)   536536      block12_sepconv3_act[0][0]       \n",
            "__________________________________________________________________________________________________\n",
            "block12_sepconv3_bn (BatchNorma (None, 13, 9, 728)   2912        block12_sepconv3[0][0]           \n",
            "__________________________________________________________________________________________________\n",
            "add_22 (Add)                    (None, 13, 9, 728)   0           block12_sepconv3_bn[0][0]        \n",
            "                                                                 add_21[0][0]                     \n",
            "__________________________________________________________________________________________________\n",
            "block13_sepconv1_act (Activatio (None, 13, 9, 728)   0           add_22[0][0]                     \n",
            "__________________________________________________________________________________________________\n",
            "block13_sepconv1 (SeparableConv (None, 13, 9, 728)   536536      block13_sepconv1_act[0][0]       \n",
            "__________________________________________________________________________________________________\n",
            "block13_sepconv1_bn (BatchNorma (None, 13, 9, 728)   2912        block13_sepconv1[0][0]           \n",
            "__________________________________________________________________________________________________\n",
            "block13_sepconv2_act (Activatio (None, 13, 9, 728)   0           block13_sepconv1_bn[0][0]        \n",
            "__________________________________________________________________________________________________\n",
            "block13_sepconv2 (SeparableConv (None, 13, 9, 1024)  752024      block13_sepconv2_act[0][0]       \n",
            "__________________________________________________________________________________________________\n",
            "block13_sepconv2_bn (BatchNorma (None, 13, 9, 1024)  4096        block13_sepconv2[0][0]           \n",
            "__________________________________________________________________________________________________\n",
            "conv2d_7 (Conv2D)               (None, 7, 5, 1024)   745472      add_22[0][0]                     \n",
            "__________________________________________________________________________________________________\n",
            "block13_pool (MaxPooling2D)     (None, 7, 5, 1024)   0           block13_sepconv2_bn[0][0]        \n",
            "__________________________________________________________________________________________________\n",
            "batch_normalization_7 (BatchNor (None, 7, 5, 1024)   4096        conv2d_7[0][0]                   \n",
            "__________________________________________________________________________________________________\n",
            "add_23 (Add)                    (None, 7, 5, 1024)   0           block13_pool[0][0]               \n",
            "                                                                 batch_normalization_7[0][0]      \n",
            "__________________________________________________________________________________________________\n",
            "block14_sepconv1 (SeparableConv (None, 7, 5, 1536)   1582080     add_23[0][0]                     \n",
            "__________________________________________________________________________________________________\n",
            "block14_sepconv1_bn (BatchNorma (None, 7, 5, 1536)   6144        block14_sepconv1[0][0]           \n",
            "__________________________________________________________________________________________________\n",
            "block14_sepconv1_act (Activatio (None, 7, 5, 1536)   0           block14_sepconv1_bn[0][0]        \n",
            "__________________________________________________________________________________________________\n",
            "block14_sepconv2 (SeparableConv (None, 7, 5, 2048)   3159552     block14_sepconv1_act[0][0]       \n",
            "__________________________________________________________________________________________________\n",
            "block14_sepconv2_bn (BatchNorma (None, 7, 5, 2048)   8192        block14_sepconv2[0][0]           \n",
            "__________________________________________________________________________________________________\n",
            "block14_sepconv2_act (Activatio (None, 7, 5, 2048)   0           block14_sepconv2_bn[0][0]        \n",
            "==================================================================================================\n",
            "Total params: 20,861,480\n",
            "Trainable params: 20,806,952\n",
            "Non-trainable params: 54,528\n",
            "__________________________________________________________________________________________________\n"
          ],
          "name": "stdout"
        }
      ]
    },
    {
      "metadata": {
        "id": "-6f55_I8mMkO",
        "colab_type": "code",
        "outputId": "71b1a658-9de2-4fb5-cf9a-14b3be393f1b",
        "colab": {
          "base_uri": "https://localhost:8080/",
          "height": 277
        }
      },
      "cell_type": "code",
      "source": [
        "# densely connected classifier on top of the convolutional base\n",
        "model_xc = models.Sequential()\n",
        "model_xc.add(conv_base_xc)\n",
        "model_xc.add(layers.Flatten())\n",
        "model_xc.add(layers.Dense(256, activation='relu'))\n",
        "model_xc.add(layers.Dense(1, activation='sigmoid'))\n",
        "\n",
        "# freeze convolutional base\n",
        "conv_base_xc.trainable = False\n",
        "\n",
        "model_xc.summary()"
      ],
      "execution_count": 0,
      "outputs": [
        {
          "output_type": "stream",
          "text": [
            "_________________________________________________________________\n",
            "Layer (type)                 Output Shape              Param #   \n",
            "=================================================================\n",
            "xception (Model)             (None, 7, 5, 2048)        20861480  \n",
            "_________________________________________________________________\n",
            "flatten_3 (Flatten)          (None, 71680)             0         \n",
            "_________________________________________________________________\n",
            "dense_6 (Dense)              (None, 256)               18350336  \n",
            "_________________________________________________________________\n",
            "dense_7 (Dense)              (None, 1)                 257       \n",
            "=================================================================\n",
            "Total params: 39,212,073\n",
            "Trainable params: 18,350,593\n",
            "Non-trainable params: 20,861,480\n",
            "_________________________________________________________________\n"
          ],
          "name": "stdout"
        }
      ]
    },
    {
      "metadata": {
        "id": "dfUflNEbjrYG",
        "colab_type": "code",
        "outputId": "ece7c251-2952-4faf-8d48-dc407e65e4bc",
        "colab": {
          "base_uri": "https://localhost:8080/",
          "height": 1404
        }
      },
      "cell_type": "code",
      "source": [
        "model_xc.compile(loss='binary_crossentropy', optimizer=optimizers.RMSprop(lr=2e-5), metrics=['acc'])\n",
        "\n",
        "history_xc = model_xc.fit_generator(train_gen, steps_per_epoch=steps_per_epoch, epochs=no_epochs, validation_data=validation_gen,\n",
        "                              validation_steps=validation_steps)"
      ],
      "execution_count": 0,
      "outputs": [
        {
          "output_type": "stream",
          "text": [
            "Epoch 1/40\n",
            "100/100 [==============================] - 42s 424ms/step - loss: 0.5596 - acc: 0.7305 - val_loss: 0.5353 - val_acc: 0.7680\n",
            "Epoch 2/40\n",
            "100/100 [==============================] - 37s 371ms/step - loss: 0.4924 - acc: 0.7730 - val_loss: 0.4528 - val_acc: 0.8080\n",
            "Epoch 3/40\n",
            "100/100 [==============================] - 37s 372ms/step - loss: 0.4407 - acc: 0.8055 - val_loss: 0.4772 - val_acc: 0.7750\n",
            "Epoch 4/40\n",
            "100/100 [==============================] - 37s 372ms/step - loss: 0.4339 - acc: 0.8085 - val_loss: 0.4709 - val_acc: 0.7860\n",
            "Epoch 5/40\n",
            "100/100 [==============================] - 37s 373ms/step - loss: 0.4310 - acc: 0.8180 - val_loss: 0.3660 - val_acc: 0.8410\n",
            "Epoch 6/40\n",
            "100/100 [==============================] - 37s 372ms/step - loss: 0.3969 - acc: 0.8270 - val_loss: 0.4631 - val_acc: 0.8000\n",
            "Epoch 7/40\n",
            "100/100 [==============================] - 37s 372ms/step - loss: 0.4088 - acc: 0.8160 - val_loss: 0.3833 - val_acc: 0.8260\n",
            "Epoch 8/40\n",
            "100/100 [==============================] - 38s 377ms/step - loss: 0.3528 - acc: 0.8555 - val_loss: 0.4002 - val_acc: 0.8330\n",
            "Epoch 9/40\n",
            "100/100 [==============================] - 37s 374ms/step - loss: 0.3783 - acc: 0.8350 - val_loss: 0.4439 - val_acc: 0.8130\n",
            "Epoch 10/40\n",
            "100/100 [==============================] - 37s 372ms/step - loss: 0.3755 - acc: 0.8410 - val_loss: 0.4164 - val_acc: 0.8180\n",
            "Epoch 11/40\n",
            "100/100 [==============================] - 37s 372ms/step - loss: 0.3431 - acc: 0.8565 - val_loss: 0.4219 - val_acc: 0.8200\n",
            "Epoch 12/40\n",
            "100/100 [==============================] - 37s 372ms/step - loss: 0.3336 - acc: 0.8565 - val_loss: 0.4403 - val_acc: 0.8180\n",
            "Epoch 13/40\n",
            "100/100 [==============================] - 37s 375ms/step - loss: 0.3193 - acc: 0.8690 - val_loss: 0.3682 - val_acc: 0.8510\n",
            "Epoch 14/40\n",
            "100/100 [==============================] - 37s 373ms/step - loss: 0.3105 - acc: 0.8660 - val_loss: 0.3799 - val_acc: 0.8430\n",
            "Epoch 15/40\n",
            "100/100 [==============================] - 37s 373ms/step - loss: 0.2999 - acc: 0.8720 - val_loss: 0.4005 - val_acc: 0.8550\n",
            "Epoch 16/40\n",
            "100/100 [==============================] - 37s 373ms/step - loss: 0.3054 - acc: 0.8745 - val_loss: 0.4254 - val_acc: 0.8250\n",
            "Epoch 17/40\n",
            "100/100 [==============================] - 37s 375ms/step - loss: 0.2942 - acc: 0.8860 - val_loss: 0.4274 - val_acc: 0.8260\n",
            "Epoch 18/40\n",
            "100/100 [==============================] - 37s 373ms/step - loss: 0.2772 - acc: 0.8850 - val_loss: 0.4132 - val_acc: 0.8300\n",
            "Epoch 19/40\n",
            "100/100 [==============================] - 37s 370ms/step - loss: 0.2829 - acc: 0.8840 - val_loss: 0.4151 - val_acc: 0.8310\n",
            "Epoch 20/40\n",
            "100/100 [==============================] - 38s 376ms/step - loss: 0.2585 - acc: 0.8960 - val_loss: 0.3956 - val_acc: 0.8400\n",
            "Epoch 21/40\n",
            "100/100 [==============================] - 37s 374ms/step - loss: 0.2514 - acc: 0.8995 - val_loss: 0.4139 - val_acc: 0.8380\n",
            "Epoch 22/40\n",
            "100/100 [==============================] - 37s 370ms/step - loss: 0.2637 - acc: 0.8910 - val_loss: 0.4201 - val_acc: 0.8240\n",
            "Epoch 23/40\n",
            "100/100 [==============================] - 37s 370ms/step - loss: 0.2494 - acc: 0.8965 - val_loss: 0.3923 - val_acc: 0.8550\n",
            "Epoch 24/40\n",
            "100/100 [==============================] - 37s 372ms/step - loss: 0.2494 - acc: 0.8990 - val_loss: 0.4188 - val_acc: 0.8430\n",
            "Epoch 25/40\n",
            "100/100 [==============================] - 37s 370ms/step - loss: 0.2308 - acc: 0.9085 - val_loss: 0.3757 - val_acc: 0.8500\n",
            "Epoch 26/40\n",
            "100/100 [==============================] - 37s 371ms/step - loss: 0.2265 - acc: 0.9155 - val_loss: 0.4528 - val_acc: 0.8250\n",
            "Epoch 27/40\n",
            "100/100 [==============================] - 37s 372ms/step - loss: 0.2268 - acc: 0.9105 - val_loss: 0.3988 - val_acc: 0.8400\n",
            "Epoch 28/40\n",
            "100/100 [==============================] - 37s 373ms/step - loss: 0.2168 - acc: 0.9170 - val_loss: 0.4047 - val_acc: 0.8450\n",
            "Epoch 29/40\n",
            "100/100 [==============================] - 37s 372ms/step - loss: 0.2089 - acc: 0.9170 - val_loss: 0.3848 - val_acc: 0.8510\n",
            "Epoch 30/40\n",
            "100/100 [==============================] - 37s 369ms/step - loss: 0.2048 - acc: 0.9225 - val_loss: 0.7708 - val_acc: 0.7500\n",
            "Epoch 31/40\n",
            "100/100 [==============================] - 37s 371ms/step - loss: 0.2177 - acc: 0.9135 - val_loss: 0.4325 - val_acc: 0.8360\n",
            "Epoch 32/40\n",
            "100/100 [==============================] - 37s 374ms/step - loss: 0.2025 - acc: 0.9225 - val_loss: 0.4107 - val_acc: 0.8240\n",
            "Epoch 33/40\n",
            "100/100 [==============================] - 37s 373ms/step - loss: 0.1945 - acc: 0.9255 - val_loss: 0.4606 - val_acc: 0.8220\n",
            "Epoch 34/40\n",
            "100/100 [==============================] - 37s 372ms/step - loss: 0.1973 - acc: 0.9255 - val_loss: 0.4179 - val_acc: 0.8350\n",
            "Epoch 35/40\n",
            "100/100 [==============================] - 37s 372ms/step - loss: 0.1816 - acc: 0.9320 - val_loss: 0.4162 - val_acc: 0.8430\n",
            "Epoch 36/40\n",
            "100/100 [==============================] - 37s 372ms/step - loss: 0.1804 - acc: 0.9330 - val_loss: 0.4976 - val_acc: 0.8100\n",
            "Epoch 37/40\n",
            "100/100 [==============================] - 37s 370ms/step - loss: 0.1650 - acc: 0.9395 - val_loss: 0.5031 - val_acc: 0.8120\n",
            "Epoch 38/40\n",
            "100/100 [==============================] - 37s 374ms/step - loss: 0.1684 - acc: 0.9395 - val_loss: 0.4630 - val_acc: 0.8420\n",
            "Epoch 39/40\n",
            "100/100 [==============================] - 37s 374ms/step - loss: 0.1712 - acc: 0.9330 - val_loss: 0.7916 - val_acc: 0.7600\n",
            "Epoch 40/40\n",
            "100/100 [==============================] - 37s 373ms/step - loss: 0.1574 - acc: 0.9410 - val_loss: 0.4638 - val_acc: 0.8330\n"
          ],
          "name": "stdout"
        }
      ]
    },
    {
      "metadata": {
        "id": "QGFS5-Uxj0tW",
        "colab_type": "code",
        "outputId": "b6609164-21fb-4d21-a553-204d052a48cd",
        "colab": {
          "base_uri": "https://localhost:8080/",
          "height": 933
        }
      },
      "cell_type": "code",
      "source": [
        "# test the trained network\n",
        "plot_history(history_xc)\n",
        "\n",
        "# test_loss, test_acc = model_vgg16.evaluate_generator(test_gen, steps=50)\n",
        "# print('test acc:', test_acc)\n",
        "\n",
        "\n",
        "Y_pred = model_xc.predict_classes(test_gen)\n",
        "y_pred = [p[0] for p in Y_pred]\n",
        "\n",
        "print('Confusion Matrix')\n",
        "print(confusion_matrix(test_gen.classes, y_pred))\n",
        "\n",
        "print('Classification Report')\n",
        "target_names = ['les', 'nv']\n",
        "print(classification_report(test_gen.classes, y_pred, target_names=target_names))"
      ],
      "execution_count": 0,
      "outputs": [
        {
          "output_type": "display_data",
          "data": {
            "image/png": "[encoded data removed]",
            "text/plain": [
              "<matplotlib.figure.Figure at 0x7fe3a3c52ef0>"
            ]
          },
          "metadata": {
            "tags": []
          }
        },
        {
          "output_type": "display_data",
          "data": {
            "image/png": "[encoded data removed]",
            "text/plain": [
              "<matplotlib.figure.Figure at 0x7fe3a65037b8>"
            ]
          },
          "metadata": {
            "tags": []
          }
        },
        {
          "output_type": "stream",
          "text": [
            "Confusion Matrix\n",
            "[[250  50]\n",
            " [ 61 239]]\n",
            "Classification Report\n",
            "              precision    recall  f1-score   support\n",
            "\n",
            "         les       0.80      0.83      0.82       300\n",
            "          nv       0.83      0.80      0.81       300\n",
            "\n",
            "   micro avg       0.81      0.81      0.81       600\n",
            "   macro avg       0.82      0.81      0.81       600\n",
            "weighted avg       0.82      0.81      0.81       600\n",
            "\n"
          ],
          "name": "stdout"
        }
      ]
    },
    {
      "metadata": {
        "id": "MGzO3L2oj54E",
        "colab_type": "code",
        "outputId": "468de0c9-bb3e-443b-8f34-8286af245858",
        "colab": {
          "base_uri": "https://localhost:8080/",
          "height": 35
        }
      },
      "cell_type": "code",
      "source": [
        "# path_model = 'xception_baseline_e40.h5'\n",
        "# drive_name = 'xception_baseline_e40.h5'\n",
        "# #models.save_model(model, path_model)\n",
        "# # Save entire model to a HDF5 file\n",
        "# model.save(path_model)\n",
        "\n",
        "# save_file_to_drive(drive_name, path_model)"
      ],
      "execution_count": 0,
      "outputs": [
        {
          "output_type": "execute_result",
          "data": {
            "text/plain": [
              "{'id': '1CsNcyRxdhSlkBAPNJ9HQfR3BhMIBVl0m'}"
            ]
          },
          "metadata": {
            "tags": []
          },
          "execution_count": 99
        }
      ]
    },
    {
      "metadata": {
        "id": "NRbZOx7SznFv",
        "colab_type": "code",
        "colab": {}
      },
      "cell_type": "code",
      "source": [
        "# import tarfile\n",
        "# tar = tarfile.open(\"test_300.tar.gz\", \"w:gz\")\n",
        "# tar.add(test_path, arcname=\"test_300\")\n",
        "# tar.close()\n",
        "\n",
        "# save_file_to_drive(\"val_300.tar.gz\", \"val_300.tar.gz\")\n",
        "# save_file_to_drive(\"test_300.tar.gz\", \"test_300.tar.gz\")"
      ],
      "execution_count": 0,
      "outputs": []
    },
    {
      "metadata": {
        "id": "PGM730tfjYXk",
        "colab_type": "code",
        "colab": {}
      },
      "cell_type": "code",
      "source": [
        "# test prediction of an image\n",
        "# malignant\n",
        "#img_path = './data/test/malignant/ISIC_0000030.jpg'\n",
        "# benign\n",
        "# img_path = './data/test/benign/ISIC_0000179.jpg'\n",
        "\n",
        "# # fix naming!!!\n",
        "\n",
        "\n",
        "# img = image.load_img(img_path, target_size=(150, 150))\n",
        "# img_tensor = image.img_to_array(img)\n",
        "# img_tensor = np.expand_dims(img_tensor, axis=0)\n",
        "# img_tensor /= 255.\n",
        "\n",
        "# pred = model.predict_classes(img_tensor)\n",
        "\n",
        "# print(pred)"
      ],
      "execution_count": 0,
      "outputs": []
    },
    {
      "metadata": {
        "id": "iha8z-o9LCGO",
        "colab_type": "text"
      },
      "cell_type": "markdown",
      "source": [
        "# Baseline for Challenge 2"
      ]
    },
    {
      "metadata": {
        "id": "MpIDv6FuNJTU",
        "colab_type": "text"
      },
      "cell_type": "markdown",
      "source": [
        "## Prepare Data"
      ]
    },
    {
      "metadata": {
        "id": "FiSRkn8rMys6",
        "colab_type": "code",
        "colab": {}
      },
      "cell_type": "code",
      "source": [
        "import tensorflow.keras as keras\n",
        "from tensorflow.keras import models\n",
        "from tensorflow.keras import layers\n",
        "from tensorflow.keras.preprocessing import image\n",
        "from tensorflow.keras.applications import VGG16, Xception\n",
        "from tensorflow.keras.preprocessing.image import ImageDataGenerator\n",
        "from tensorflow.keras import optimizers\n",
        "\n",
        "from sklearn.metrics import classification_report, confusion_matrix"
      ],
      "execution_count": 0,
      "outputs": []
    },
    {
      "metadata": {
        "id": "wg_USgGILFM7",
        "colab_type": "code",
        "colab": {
          "base_uri": "https://localhost:8080/",
          "height": 191
        },
        "outputId": "cc31baa7-0caa-4ee6-a68d-39a8fd4de8c9"
      },
      "cell_type": "code",
      "source": [
        "# CAD challenge 1, simple classification\n",
        "train_data_id = '1X8c_Xar0TSFdJmbDCcFSgFhUepn-M5wT'\n",
        "val_data_id = '189Efrthti8rBw2aAIp7StSps4K9TrGUq'\n",
        "\n",
        "train_file_name = 'train.tar.gz'\n",
        "val_data_name = 'val.tar.gz'\n",
        "\n",
        "get_file(train_data_id, train_file_name)\n",
        "get_file(val_data_id, val_data_name)"
      ],
      "execution_count": 7,
      "outputs": [
        {
          "output_type": "stream",
          "text": [
            "[==================                                ]\n",
            "[=====================================             ]\n",
            "[=======================================================]\n",
            "[==========================================================================]\n",
            "[=============================================================================================]\n",
            "[====================================================================================================]\n",
            "File has been downloaded successfully!\n",
            "[===========================================================================]\n",
            "[====================================================================================================]\n",
            "File has been downloaded successfully!\n"
          ],
          "name": "stdout"
        }
      ]
    },
    {
      "metadata": {
        "id": "X-0HdnzDLmuK",
        "colab_type": "code",
        "colab": {}
      },
      "cell_type": "code",
      "source": [
        "#! rm -rf data\n",
        "# !unzip ./data.zip\n",
        "\n",
        "train_path = './train'\n",
        "val_path = './val'\n",
        "test_path = './test'\n",
        "\n",
        "# since archive contains a folder already\n",
        "unzip_tar(train_file_name, './')\n",
        "unzip_tar(val_data_name, './')\n",
        "val_test_split(val_path, test_path)"
      ],
      "execution_count": 0,
      "outputs": []
    },
    {
      "metadata": {
        "id": "jwqK47YrNWC2",
        "colab_type": "code",
        "colab": {}
      },
      "cell_type": "code",
      "source": [
        "input_img_shape = (200, 150, 3)\n",
        "no_epochs = 40\n",
        "steps_per_epoch = 100\n",
        "validation_steps = 50"
      ],
      "execution_count": 0,
      "outputs": []
    },
    {
      "metadata": {
        "id": "gqE62EKqNY88",
        "colab_type": "code",
        "colab": {
          "base_uri": "https://localhost:8080/",
          "height": 87
        },
        "outputId": "13d41666-c0ff-4132-e2d5-9344a9a6deec"
      },
      "cell_type": "code",
      "source": [
        "train_datagen = ImageDataGenerator(rescale=1./255)\n",
        "test_datagen = ImageDataGenerator(rescale=1./255)\n",
        "\n",
        "# class mode categorical\n",
        "train_gen = train_datagen.flow_from_directory(train_path, target_size=input_img_shape[:2],\n",
        "                                              batch_size=20, class_mode='categorical')\n",
        "validation_gen = test_datagen.flow_from_directory(val_path, target_size=input_img_shape[:2],\n",
        "                                              batch_size=20, class_mode='categorical')\n",
        "\n",
        "test_gen = test_datagen.flow_from_directory(test_path,\n",
        "                                            target_size=input_img_shape[:2],\n",
        "                                            batch_size=20,\n",
        "                                            #class_mode=None,\n",
        "                                            shuffle=False)\n",
        "\n",
        "train_gen.class_indices"
      ],
      "execution_count": 19,
      "outputs": [
        {
          "output_type": "stream",
          "text": [
            "Found 2000 images belonging to 3 classes.\n",
            "Found 250 images belonging to 3 classes.\n",
            "Found 250 images belonging to 3 classes.\n"
          ],
          "name": "stdout"
        },
        {
          "output_type": "execute_result",
          "data": {
            "text/plain": [
              "{'bcc': 0, 'bkl': 1, 'mel': 2}"
            ]
          },
          "metadata": {
            "tags": []
          },
          "execution_count": 19
        }
      ]
    },
    {
      "metadata": {
        "id": "dc3uT9scPI-Z",
        "colab_type": "text"
      },
      "cell_type": "markdown",
      "source": [
        "## VGG16"
      ]
    },
    {
      "metadata": {
        "id": "w9QtjhYsNlYn",
        "colab_type": "code",
        "colab": {
          "base_uri": "https://localhost:8080/",
          "height": 832
        },
        "outputId": "f84c53a4-9c8d-45a2-b417-a5c3c99b5757"
      },
      "cell_type": "code",
      "source": [
        "conv_base_vgg16 = VGG16(weights='imagenet', include_top=False, input_shape=input_img_shape)\n",
        "\n",
        "conv_base_vgg16.summary()"
      ],
      "execution_count": 13,
      "outputs": [
        {
          "output_type": "stream",
          "text": [
            "Downloading data from https://github.com/fchollet/deep-learning-models/releases/download/v0.1/vgg16_weights_tf_dim_ordering_tf_kernels_notop.h5\n",
            "58892288/58889256 [==============================] - 1s 0us/step\n",
            "_________________________________________________________________\n",
            "Layer (type)                 Output Shape              Param #   \n",
            "=================================================================\n",
            "input_1 (InputLayer)         (None, 200, 150, 3)       0         \n",
            "_________________________________________________________________\n",
            "block1_conv1 (Conv2D)        (None, 200, 150, 64)      1792      \n",
            "_________________________________________________________________\n",
            "block1_conv2 (Conv2D)        (None, 200, 150, 64)      36928     \n",
            "_________________________________________________________________\n",
            "block1_pool (MaxPooling2D)   (None, 100, 75, 64)       0         \n",
            "_________________________________________________________________\n",
            "block2_conv1 (Conv2D)        (None, 100, 75, 128)      73856     \n",
            "_________________________________________________________________\n",
            "block2_conv2 (Conv2D)        (None, 100, 75, 128)      147584    \n",
            "_________________________________________________________________\n",
            "block2_pool (MaxPooling2D)   (None, 50, 37, 128)       0         \n",
            "_________________________________________________________________\n",
            "block3_conv1 (Conv2D)        (None, 50, 37, 256)       295168    \n",
            "_________________________________________________________________\n",
            "block3_conv2 (Conv2D)        (None, 50, 37, 256)       590080    \n",
            "_________________________________________________________________\n",
            "block3_conv3 (Conv2D)        (None, 50, 37, 256)       590080    \n",
            "_________________________________________________________________\n",
            "block3_pool (MaxPooling2D)   (None, 25, 18, 256)       0         \n",
            "_________________________________________________________________\n",
            "block4_conv1 (Conv2D)        (None, 25, 18, 512)       1180160   \n",
            "_________________________________________________________________\n",
            "block4_conv2 (Conv2D)        (None, 25, 18, 512)       2359808   \n",
            "_________________________________________________________________\n",
            "block4_conv3 (Conv2D)        (None, 25, 18, 512)       2359808   \n",
            "_________________________________________________________________\n",
            "block4_pool (MaxPooling2D)   (None, 12, 9, 512)        0         \n",
            "_________________________________________________________________\n",
            "block5_conv1 (Conv2D)        (None, 12, 9, 512)        2359808   \n",
            "_________________________________________________________________\n",
            "block5_conv2 (Conv2D)        (None, 12, 9, 512)        2359808   \n",
            "_________________________________________________________________\n",
            "block5_conv3 (Conv2D)        (None, 12, 9, 512)        2359808   \n",
            "_________________________________________________________________\n",
            "block5_pool (MaxPooling2D)   (None, 6, 4, 512)         0         \n",
            "=================================================================\n",
            "Total params: 14,714,688\n",
            "Trainable params: 14,714,688\n",
            "Non-trainable params: 0\n",
            "_________________________________________________________________\n"
          ],
          "name": "stdout"
        }
      ]
    },
    {
      "metadata": {
        "id": "o_l8PXh4Nx_p",
        "colab_type": "code",
        "colab": {
          "base_uri": "https://localhost:8080/",
          "height": 277
        },
        "outputId": "98a414a9-5fb0-478c-9604-41d9a128df65"
      },
      "cell_type": "code",
      "source": [
        "# densely connected classifier on top of the convolutional base\n",
        "model_vgg16 = models.Sequential()\n",
        "model_vgg16.add(conv_base_vgg16)\n",
        "model_vgg16.add(layers.Flatten())\n",
        "model_vgg16.add(layers.Dense(256, activation='relu'))\n",
        "# we change the last layer to output probabilities\n",
        "model_vgg16.add(layers.Dense(3, activation='softmax'))\n",
        "\n",
        "# freeze convolutional base\n",
        "conv_base_vgg16.trainable = False\n",
        "\n",
        "model_vgg16.summary()"
      ],
      "execution_count": 20,
      "outputs": [
        {
          "output_type": "stream",
          "text": [
            "_________________________________________________________________\n",
            "Layer (type)                 Output Shape              Param #   \n",
            "=================================================================\n",
            "vgg16 (Model)                (None, 6, 4, 512)         14714688  \n",
            "_________________________________________________________________\n",
            "flatten_3 (Flatten)          (None, 12288)             0         \n",
            "_________________________________________________________________\n",
            "dense_6 (Dense)              (None, 256)               3145984   \n",
            "_________________________________________________________________\n",
            "dense_7 (Dense)              (None, 3)                 771       \n",
            "=================================================================\n",
            "Total params: 17,861,443\n",
            "Trainable params: 3,146,755\n",
            "Non-trainable params: 14,714,688\n",
            "_________________________________________________________________\n"
          ],
          "name": "stdout"
        }
      ]
    },
    {
      "metadata": {
        "id": "R6vLiF5qN2AK",
        "colab_type": "code",
        "colab": {
          "base_uri": "https://localhost:8080/",
          "height": 1404
        },
        "outputId": "332c0153-ef81-4233-bcdb-82c6ec5520f2"
      },
      "cell_type": "code",
      "source": [
        "# we use here categorical_crossentropy instead of binary\n",
        "model_vgg16.compile(loss='categorical_crossentropy', optimizer=optimizers.RMSprop(lr=2e-5), metrics=['acc'])\n",
        "\n",
        "history_vgg16 = model_vgg16.fit_generator(train_gen, steps_per_epoch=steps_per_epoch, epochs=no_epochs, validation_data=validation_gen,\n",
        "                              validation_steps=validation_steps)"
      ],
      "execution_count": 21,
      "outputs": [
        {
          "output_type": "stream",
          "text": [
            "Epoch 1/40\n",
            "100/100 [==============================] - 43s 431ms/step - loss: 0.9860 - acc: 0.5105 - val_loss: 0.9441 - val_acc: 0.4794\n",
            "Epoch 2/40\n",
            "100/100 [==============================] - 38s 376ms/step - loss: 0.8982 - acc: 0.5815 - val_loss: 0.9087 - val_acc: 0.5856\n",
            "Epoch 3/40\n",
            "100/100 [==============================] - 37s 373ms/step - loss: 0.8473 - acc: 0.6290 - val_loss: 0.8906 - val_acc: 0.5206\n",
            "Epoch 4/40\n",
            "100/100 [==============================] - 37s 371ms/step - loss: 0.8113 - acc: 0.6365 - val_loss: 0.8827 - val_acc: 0.5856\n",
            "Epoch 5/40\n",
            "100/100 [==============================] - 37s 369ms/step - loss: 0.7828 - acc: 0.6615 - val_loss: 0.8605 - val_acc: 0.5485\n",
            "Epoch 6/40\n",
            "100/100 [==============================] - 37s 369ms/step - loss: 0.7598 - acc: 0.6725 - val_loss: 0.8425 - val_acc: 0.5784\n",
            "Epoch 7/40\n",
            "100/100 [==============================] - 37s 370ms/step - loss: 0.7344 - acc: 0.6930 - val_loss: 0.8399 - val_acc: 0.5505\n",
            "Epoch 8/40\n",
            "100/100 [==============================] - 37s 370ms/step - loss: 0.7154 - acc: 0.6960 - val_loss: 0.8384 - val_acc: 0.5649\n",
            "Epoch 9/40\n",
            "100/100 [==============================] - 37s 369ms/step - loss: 0.6981 - acc: 0.7005 - val_loss: 0.8329 - val_acc: 0.5588\n",
            "Epoch 10/40\n",
            "100/100 [==============================] - 37s 373ms/step - loss: 0.6774 - acc: 0.7175 - val_loss: 0.8143 - val_acc: 0.5753\n",
            "Epoch 11/40\n",
            "100/100 [==============================] - 37s 371ms/step - loss: 0.6668 - acc: 0.7265 - val_loss: 0.8064 - val_acc: 0.5536\n",
            "Epoch 12/40\n",
            "100/100 [==============================] - 37s 373ms/step - loss: 0.6493 - acc: 0.7385 - val_loss: 0.8087 - val_acc: 0.5722\n",
            "Epoch 13/40\n",
            "100/100 [==============================] - 37s 371ms/step - loss: 0.6385 - acc: 0.7465 - val_loss: 0.7956 - val_acc: 0.5876\n",
            "Epoch 14/40\n",
            "100/100 [==============================] - 37s 373ms/step - loss: 0.6203 - acc: 0.7480 - val_loss: 0.7951 - val_acc: 0.6103\n",
            "Epoch 15/40\n",
            "100/100 [==============================] - 38s 376ms/step - loss: 0.6088 - acc: 0.7555 - val_loss: 0.8196 - val_acc: 0.6186\n",
            "Epoch 16/40\n",
            "100/100 [==============================] - 38s 376ms/step - loss: 0.5915 - acc: 0.7700 - val_loss: 0.7821 - val_acc: 0.6124\n",
            "Epoch 17/40\n",
            "100/100 [==============================] - 38s 378ms/step - loss: 0.5861 - acc: 0.7660 - val_loss: 0.8447 - val_acc: 0.6144\n",
            "Epoch 18/40\n",
            "100/100 [==============================] - 38s 375ms/step - loss: 0.5720 - acc: 0.7775 - val_loss: 0.8034 - val_acc: 0.6113\n",
            "Epoch 19/40\n",
            "100/100 [==============================] - 38s 377ms/step - loss: 0.5660 - acc: 0.7720 - val_loss: 0.7876 - val_acc: 0.5959\n",
            "Epoch 20/40\n",
            "100/100 [==============================] - 38s 376ms/step - loss: 0.5547 - acc: 0.7840 - val_loss: 0.7878 - val_acc: 0.5948\n",
            "Epoch 21/40\n",
            "100/100 [==============================] - 37s 375ms/step - loss: 0.5426 - acc: 0.7960 - val_loss: 0.8726 - val_acc: 0.6196\n",
            "Epoch 22/40\n",
            "100/100 [==============================] - 37s 375ms/step - loss: 0.5362 - acc: 0.7950 - val_loss: 0.8036 - val_acc: 0.6196\n",
            "Epoch 23/40\n",
            "100/100 [==============================] - 37s 374ms/step - loss: 0.5256 - acc: 0.7995 - val_loss: 0.7907 - val_acc: 0.6144\n",
            "Epoch 24/40\n",
            "100/100 [==============================] - 37s 375ms/step - loss: 0.5181 - acc: 0.8040 - val_loss: 0.8158 - val_acc: 0.6258\n",
            "Epoch 25/40\n",
            "100/100 [==============================] - 37s 372ms/step - loss: 0.5118 - acc: 0.8110 - val_loss: 0.7968 - val_acc: 0.6175\n",
            "Epoch 26/40\n",
            "100/100 [==============================] - 37s 371ms/step - loss: 0.5013 - acc: 0.8110 - val_loss: 0.8145 - val_acc: 0.6103\n",
            "Epoch 27/40\n",
            "100/100 [==============================] - 38s 375ms/step - loss: 0.4976 - acc: 0.8115 - val_loss: 0.7999 - val_acc: 0.6052\n",
            "Epoch 28/40\n",
            "100/100 [==============================] - 37s 374ms/step - loss: 0.4860 - acc: 0.8220 - val_loss: 0.7806 - val_acc: 0.6216\n",
            "Epoch 29/40\n",
            "100/100 [==============================] - 37s 372ms/step - loss: 0.4760 - acc: 0.8270 - val_loss: 0.7842 - val_acc: 0.6103\n",
            "Epoch 30/40\n",
            "100/100 [==============================] - 37s 375ms/step - loss: 0.4713 - acc: 0.8345 - val_loss: 0.7890 - val_acc: 0.6041\n",
            "Epoch 31/40\n",
            "100/100 [==============================] - 38s 375ms/step - loss: 0.4648 - acc: 0.8305 - val_loss: 0.7796 - val_acc: 0.6330\n",
            "Epoch 32/40\n",
            "100/100 [==============================] - 38s 376ms/step - loss: 0.4538 - acc: 0.8380 - val_loss: 0.7938 - val_acc: 0.6155\n",
            "Epoch 33/40\n",
            "100/100 [==============================] - 37s 375ms/step - loss: 0.4489 - acc: 0.8375 - val_loss: 0.7948 - val_acc: 0.5959\n",
            "Epoch 34/40\n",
            "100/100 [==============================] - 37s 375ms/step - loss: 0.4429 - acc: 0.8410 - val_loss: 0.8184 - val_acc: 0.6247\n",
            "Epoch 35/40\n",
            "100/100 [==============================] - 38s 376ms/step - loss: 0.4363 - acc: 0.8435 - val_loss: 0.7779 - val_acc: 0.6052\n",
            "Epoch 36/40\n",
            "100/100 [==============================] - 38s 377ms/step - loss: 0.4296 - acc: 0.8455 - val_loss: 0.8170 - val_acc: 0.6093\n",
            "Epoch 37/40\n",
            "100/100 [==============================] - 37s 373ms/step - loss: 0.4280 - acc: 0.8410 - val_loss: 0.7822 - val_acc: 0.6237\n",
            "Epoch 38/40\n",
            "100/100 [==============================] - 37s 374ms/step - loss: 0.4175 - acc: 0.8610 - val_loss: 0.7854 - val_acc: 0.6041\n",
            "Epoch 39/40\n",
            "100/100 [==============================] - 38s 376ms/step - loss: 0.4076 - acc: 0.8645 - val_loss: 0.7948 - val_acc: 0.6103\n",
            "Epoch 40/40\n",
            "100/100 [==============================] - 38s 376ms/step - loss: 0.4060 - acc: 0.8585 - val_loss: 0.7858 - val_acc: 0.6124\n"
          ],
          "name": "stdout"
        }
      ]
    },
    {
      "metadata": {
        "id": "HDUSzO14Pun9",
        "colab_type": "code",
        "colab": {
          "base_uri": "https://localhost:8080/",
          "height": 968
        },
        "outputId": "838fc930-f07e-4117-e52a-44436e98613c"
      },
      "cell_type": "code",
      "source": [
        "# test the trained network\n",
        "plot_history(history_vgg16)\n",
        "\n",
        "# test_loss, test_acc = model_vgg16.evaluate_generator(test_gen, steps=50)\n",
        "# print('test acc:', test_acc)\n",
        "\n",
        "\n",
        "Y_pred = model_vgg16.predict_classes(test_gen)\n",
        "\n",
        "print('Confusion Matrix')\n",
        "print(confusion_matrix(test_gen.classes, Y_pred))\n",
        "\n",
        "print('Classification Report')\n",
        "target_names = ['bcc', 'bkl', 'mel']\n",
        "print(classification_report(test_gen.classes, Y_pred, target_names=target_names))"
      ],
      "execution_count": 26,
      "outputs": [
        {
          "output_type": "display_data",
          "data": {
            "image/png": "[encoded data removed]",
            "text/plain": [
              "<matplotlib.figure.Figure at 0x7fc3d9311828>"
            ]
          },
          "metadata": {
            "tags": []
          }
        },
        {
          "output_type": "display_data",
          "data": {
            "image/png": "[encoded data removed]",
            "text/plain": [
              "<matplotlib.figure.Figure at 0x7fc3d8814e48>"
            ]
          },
          "metadata": {
            "tags": []
          }
        },
        {
          "output_type": "stream",
          "text": [
            "Confusion Matrix\n",
            "[[32 15  3]\n",
            " [ 6 77 17]\n",
            " [ 2 22 76]]\n",
            "Classification Report\n",
            "              precision    recall  f1-score   support\n",
            "\n",
            "         bcc       0.80      0.64      0.71        50\n",
            "         bkl       0.68      0.77      0.72       100\n",
            "         mel       0.79      0.76      0.78       100\n",
            "\n",
            "   micro avg       0.74      0.74      0.74       250\n",
            "   macro avg       0.76      0.72      0.74       250\n",
            "weighted avg       0.75      0.74      0.74       250\n",
            "\n"
          ],
          "name": "stdout"
        }
      ]
    },
    {
      "metadata": {
        "id": "xjP6LqZRPxGC",
        "colab_type": "code",
        "colab": {}
      },
      "cell_type": "code",
      "source": [
        "# path_model = 'vgg16_baseline_e40_ch2.h5'\n",
        "# drive_name = 'vgg16_baseline_e40_ch2.h5'\n",
        "# #models.save_model(model, path_model)\n",
        "# # Save entire model to a HDF5 file\n",
        "# model_vgg16.save(path_model)\n",
        "\n",
        "# save_file_to_drive(drive_name, path_model)"
      ],
      "execution_count": 0,
      "outputs": []
    },
    {
      "metadata": {
        "id": "lrMa-1BPZbEh",
        "colab_type": "text"
      },
      "cell_type": "markdown",
      "source": [
        "## Xception"
      ]
    },
    {
      "metadata": {
        "id": "TPKOxcvoZc4S",
        "colab_type": "code",
        "colab": {
          "base_uri": "https://localhost:8080/",
          "height": 4957
        },
        "outputId": "a1426677-ec34-4908-8b1a-7d4418a6f0d2"
      },
      "cell_type": "code",
      "source": [
        "conv_base_xc = Xception(weights='imagenet', include_top=False, input_shape=input_img_shape)\n",
        "\n",
        "conv_base_xc.summary()"
      ],
      "execution_count": 29,
      "outputs": [
        {
          "output_type": "stream",
          "text": [
            "Downloading data from https://github.com/fchollet/deep-learning-models/releases/download/v0.4/xception_weights_tf_dim_ordering_tf_kernels_notop.h5\n",
            "83689472/83683744 [==============================] - 1s 0us/step\n",
            "__________________________________________________________________________________________________\n",
            "Layer (type)                    Output Shape         Param #     Connected to                     \n",
            "==================================================================================================\n",
            "input_2 (InputLayer)            (None, 200, 150, 3)  0                                            \n",
            "__________________________________________________________________________________________________\n",
            "block1_conv1 (Conv2D)           (None, 99, 74, 32)   864         input_2[0][0]                    \n",
            "__________________________________________________________________________________________________\n",
            "block1_conv1_bn (BatchNormaliza (None, 99, 74, 32)   128         block1_conv1[0][0]               \n",
            "__________________________________________________________________________________________________\n",
            "block1_conv1_act (Activation)   (None, 99, 74, 32)   0           block1_conv1_bn[0][0]            \n",
            "__________________________________________________________________________________________________\n",
            "block1_conv2 (Conv2D)           (None, 97, 72, 64)   18432       block1_conv1_act[0][0]           \n",
            "__________________________________________________________________________________________________\n",
            "block1_conv2_bn (BatchNormaliza (None, 97, 72, 64)   256         block1_conv2[0][0]               \n",
            "__________________________________________________________________________________________________\n",
            "block1_conv2_act (Activation)   (None, 97, 72, 64)   0           block1_conv2_bn[0][0]            \n",
            "__________________________________________________________________________________________________\n",
            "block2_sepconv1 (SeparableConv2 (None, 97, 72, 128)  8768        block1_conv2_act[0][0]           \n",
            "__________________________________________________________________________________________________\n",
            "block2_sepconv1_bn (BatchNormal (None, 97, 72, 128)  512         block2_sepconv1[0][0]            \n",
            "__________________________________________________________________________________________________\n",
            "block2_sepconv2_act (Activation (None, 97, 72, 128)  0           block2_sepconv1_bn[0][0]         \n",
            "__________________________________________________________________________________________________\n",
            "block2_sepconv2 (SeparableConv2 (None, 97, 72, 128)  17536       block2_sepconv2_act[0][0]        \n",
            "__________________________________________________________________________________________________\n",
            "block2_sepconv2_bn (BatchNormal (None, 97, 72, 128)  512         block2_sepconv2[0][0]            \n",
            "__________________________________________________________________________________________________\n",
            "conv2d (Conv2D)                 (None, 49, 36, 128)  8192        block1_conv2_act[0][0]           \n",
            "__________________________________________________________________________________________________\n",
            "block2_pool (MaxPooling2D)      (None, 49, 36, 128)  0           block2_sepconv2_bn[0][0]         \n",
            "__________________________________________________________________________________________________\n",
            "batch_normalization (BatchNorma (None, 49, 36, 128)  512         conv2d[0][0]                     \n",
            "__________________________________________________________________________________________________\n",
            "add (Add)                       (None, 49, 36, 128)  0           block2_pool[0][0]                \n",
            "                                                                 batch_normalization[0][0]        \n",
            "__________________________________________________________________________________________________\n",
            "block3_sepconv1_act (Activation (None, 49, 36, 128)  0           add[0][0]                        \n",
            "__________________________________________________________________________________________________\n",
            "block3_sepconv1 (SeparableConv2 (None, 49, 36, 256)  33920       block3_sepconv1_act[0][0]        \n",
            "__________________________________________________________________________________________________\n",
            "block3_sepconv1_bn (BatchNormal (None, 49, 36, 256)  1024        block3_sepconv1[0][0]            \n",
            "__________________________________________________________________________________________________\n",
            "block3_sepconv2_act (Activation (None, 49, 36, 256)  0           block3_sepconv1_bn[0][0]         \n",
            "__________________________________________________________________________________________________\n",
            "block3_sepconv2 (SeparableConv2 (None, 49, 36, 256)  67840       block3_sepconv2_act[0][0]        \n",
            "__________________________________________________________________________________________________\n",
            "block3_sepconv2_bn (BatchNormal (None, 49, 36, 256)  1024        block3_sepconv2[0][0]            \n",
            "__________________________________________________________________________________________________\n",
            "conv2d_1 (Conv2D)               (None, 25, 18, 256)  32768       add[0][0]                        \n",
            "__________________________________________________________________________________________________\n",
            "block3_pool (MaxPooling2D)      (None, 25, 18, 256)  0           block3_sepconv2_bn[0][0]         \n",
            "__________________________________________________________________________________________________\n",
            "batch_normalization_1 (BatchNor (None, 25, 18, 256)  1024        conv2d_1[0][0]                   \n",
            "__________________________________________________________________________________________________\n",
            "add_1 (Add)                     (None, 25, 18, 256)  0           block3_pool[0][0]                \n",
            "                                                                 batch_normalization_1[0][0]      \n",
            "__________________________________________________________________________________________________\n",
            "block4_sepconv1_act (Activation (None, 25, 18, 256)  0           add_1[0][0]                      \n",
            "__________________________________________________________________________________________________\n",
            "block4_sepconv1 (SeparableConv2 (None, 25, 18, 728)  188672      block4_sepconv1_act[0][0]        \n",
            "__________________________________________________________________________________________________\n",
            "block4_sepconv1_bn (BatchNormal (None, 25, 18, 728)  2912        block4_sepconv1[0][0]            \n",
            "__________________________________________________________________________________________________\n",
            "block4_sepconv2_act (Activation (None, 25, 18, 728)  0           block4_sepconv1_bn[0][0]         \n",
            "__________________________________________________________________________________________________\n",
            "block4_sepconv2 (SeparableConv2 (None, 25, 18, 728)  536536      block4_sepconv2_act[0][0]        \n",
            "__________________________________________________________________________________________________\n",
            "block4_sepconv2_bn (BatchNormal (None, 25, 18, 728)  2912        block4_sepconv2[0][0]            \n",
            "__________________________________________________________________________________________________\n",
            "conv2d_2 (Conv2D)               (None, 13, 9, 728)   186368      add_1[0][0]                      \n",
            "__________________________________________________________________________________________________\n",
            "block4_pool (MaxPooling2D)      (None, 13, 9, 728)   0           block4_sepconv2_bn[0][0]         \n",
            "__________________________________________________________________________________________________\n",
            "batch_normalization_2 (BatchNor (None, 13, 9, 728)   2912        conv2d_2[0][0]                   \n",
            "__________________________________________________________________________________________________\n",
            "add_2 (Add)                     (None, 13, 9, 728)   0           block4_pool[0][0]                \n",
            "                                                                 batch_normalization_2[0][0]      \n",
            "__________________________________________________________________________________________________\n",
            "block5_sepconv1_act (Activation (None, 13, 9, 728)   0           add_2[0][0]                      \n",
            "__________________________________________________________________________________________________\n",
            "block5_sepconv1 (SeparableConv2 (None, 13, 9, 728)   536536      block5_sepconv1_act[0][0]        \n",
            "__________________________________________________________________________________________________\n",
            "block5_sepconv1_bn (BatchNormal (None, 13, 9, 728)   2912        block5_sepconv1[0][0]            \n",
            "__________________________________________________________________________________________________\n",
            "block5_sepconv2_act (Activation (None, 13, 9, 728)   0           block5_sepconv1_bn[0][0]         \n",
            "__________________________________________________________________________________________________\n",
            "block5_sepconv2 (SeparableConv2 (None, 13, 9, 728)   536536      block5_sepconv2_act[0][0]        \n",
            "__________________________________________________________________________________________________\n",
            "block5_sepconv2_bn (BatchNormal (None, 13, 9, 728)   2912        block5_sepconv2[0][0]            \n",
            "__________________________________________________________________________________________________\n",
            "block5_sepconv3_act (Activation (None, 13, 9, 728)   0           block5_sepconv2_bn[0][0]         \n",
            "__________________________________________________________________________________________________\n",
            "block5_sepconv3 (SeparableConv2 (None, 13, 9, 728)   536536      block5_sepconv3_act[0][0]        \n",
            "__________________________________________________________________________________________________\n",
            "block5_sepconv3_bn (BatchNormal (None, 13, 9, 728)   2912        block5_sepconv3[0][0]            \n",
            "__________________________________________________________________________________________________\n",
            "add_3 (Add)                     (None, 13, 9, 728)   0           block5_sepconv3_bn[0][0]         \n",
            "                                                                 add_2[0][0]                      \n",
            "__________________________________________________________________________________________________\n",
            "block6_sepconv1_act (Activation (None, 13, 9, 728)   0           add_3[0][0]                      \n",
            "__________________________________________________________________________________________________\n",
            "block6_sepconv1 (SeparableConv2 (None, 13, 9, 728)   536536      block6_sepconv1_act[0][0]        \n",
            "__________________________________________________________________________________________________\n",
            "block6_sepconv1_bn (BatchNormal (None, 13, 9, 728)   2912        block6_sepconv1[0][0]            \n",
            "__________________________________________________________________________________________________\n",
            "block6_sepconv2_act (Activation (None, 13, 9, 728)   0           block6_sepconv1_bn[0][0]         \n",
            "__________________________________________________________________________________________________\n",
            "block6_sepconv2 (SeparableConv2 (None, 13, 9, 728)   536536      block6_sepconv2_act[0][0]        \n",
            "__________________________________________________________________________________________________\n",
            "block6_sepconv2_bn (BatchNormal (None, 13, 9, 728)   2912        block6_sepconv2[0][0]            \n",
            "__________________________________________________________________________________________________\n",
            "block6_sepconv3_act (Activation (None, 13, 9, 728)   0           block6_sepconv2_bn[0][0]         \n",
            "__________________________________________________________________________________________________\n",
            "block6_sepconv3 (SeparableConv2 (None, 13, 9, 728)   536536      block6_sepconv3_act[0][0]        \n",
            "__________________________________________________________________________________________________\n",
            "block6_sepconv3_bn (BatchNormal (None, 13, 9, 728)   2912        block6_sepconv3[0][0]            \n",
            "__________________________________________________________________________________________________\n",
            "add_4 (Add)                     (None, 13, 9, 728)   0           block6_sepconv3_bn[0][0]         \n",
            "                                                                 add_3[0][0]                      \n",
            "__________________________________________________________________________________________________\n",
            "block7_sepconv1_act (Activation (None, 13, 9, 728)   0           add_4[0][0]                      \n",
            "__________________________________________________________________________________________________\n",
            "block7_sepconv1 (SeparableConv2 (None, 13, 9, 728)   536536      block7_sepconv1_act[0][0]        \n",
            "__________________________________________________________________________________________________\n",
            "block7_sepconv1_bn (BatchNormal (None, 13, 9, 728)   2912        block7_sepconv1[0][0]            \n",
            "__________________________________________________________________________________________________\n",
            "block7_sepconv2_act (Activation (None, 13, 9, 728)   0           block7_sepconv1_bn[0][0]         \n",
            "__________________________________________________________________________________________________\n",
            "block7_sepconv2 (SeparableConv2 (None, 13, 9, 728)   536536      block7_sepconv2_act[0][0]        \n",
            "__________________________________________________________________________________________________\n",
            "block7_sepconv2_bn (BatchNormal (None, 13, 9, 728)   2912        block7_sepconv2[0][0]            \n",
            "__________________________________________________________________________________________________\n",
            "block7_sepconv3_act (Activation (None, 13, 9, 728)   0           block7_sepconv2_bn[0][0]         \n",
            "__________________________________________________________________________________________________\n",
            "block7_sepconv3 (SeparableConv2 (None, 13, 9, 728)   536536      block7_sepconv3_act[0][0]        \n",
            "__________________________________________________________________________________________________\n",
            "block7_sepconv3_bn (BatchNormal (None, 13, 9, 728)   2912        block7_sepconv3[0][0]            \n",
            "__________________________________________________________________________________________________\n",
            "add_5 (Add)                     (None, 13, 9, 728)   0           block7_sepconv3_bn[0][0]         \n",
            "                                                                 add_4[0][0]                      \n",
            "__________________________________________________________________________________________________\n",
            "block8_sepconv1_act (Activation (None, 13, 9, 728)   0           add_5[0][0]                      \n",
            "__________________________________________________________________________________________________\n",
            "block8_sepconv1 (SeparableConv2 (None, 13, 9, 728)   536536      block8_sepconv1_act[0][0]        \n",
            "__________________________________________________________________________________________________\n",
            "block8_sepconv1_bn (BatchNormal (None, 13, 9, 728)   2912        block8_sepconv1[0][0]            \n",
            "__________________________________________________________________________________________________\n",
            "block8_sepconv2_act (Activation (None, 13, 9, 728)   0           block8_sepconv1_bn[0][0]         \n",
            "__________________________________________________________________________________________________\n",
            "block8_sepconv2 (SeparableConv2 (None, 13, 9, 728)   536536      block8_sepconv2_act[0][0]        \n",
            "__________________________________________________________________________________________________\n",
            "block8_sepconv2_bn (BatchNormal (None, 13, 9, 728)   2912        block8_sepconv2[0][0]            \n",
            "__________________________________________________________________________________________________\n",
            "block8_sepconv3_act (Activation (None, 13, 9, 728)   0           block8_sepconv2_bn[0][0]         \n",
            "__________________________________________________________________________________________________\n",
            "block8_sepconv3 (SeparableConv2 (None, 13, 9, 728)   536536      block8_sepconv3_act[0][0]        \n",
            "__________________________________________________________________________________________________\n",
            "block8_sepconv3_bn (BatchNormal (None, 13, 9, 728)   2912        block8_sepconv3[0][0]            \n",
            "__________________________________________________________________________________________________\n",
            "add_6 (Add)                     (None, 13, 9, 728)   0           block8_sepconv3_bn[0][0]         \n",
            "                                                                 add_5[0][0]                      \n",
            "__________________________________________________________________________________________________\n",
            "block9_sepconv1_act (Activation (None, 13, 9, 728)   0           add_6[0][0]                      \n",
            "__________________________________________________________________________________________________\n",
            "block9_sepconv1 (SeparableConv2 (None, 13, 9, 728)   536536      block9_sepconv1_act[0][0]        \n",
            "__________________________________________________________________________________________________\n",
            "block9_sepconv1_bn (BatchNormal (None, 13, 9, 728)   2912        block9_sepconv1[0][0]            \n",
            "__________________________________________________________________________________________________\n",
            "block9_sepconv2_act (Activation (None, 13, 9, 728)   0           block9_sepconv1_bn[0][0]         \n",
            "__________________________________________________________________________________________________\n",
            "block9_sepconv2 (SeparableConv2 (None, 13, 9, 728)   536536      block9_sepconv2_act[0][0]        \n",
            "__________________________________________________________________________________________________\n",
            "block9_sepconv2_bn (BatchNormal (None, 13, 9, 728)   2912        block9_sepconv2[0][0]            \n",
            "__________________________________________________________________________________________________\n",
            "block9_sepconv3_act (Activation (None, 13, 9, 728)   0           block9_sepconv2_bn[0][0]         \n",
            "__________________________________________________________________________________________________\n",
            "block9_sepconv3 (SeparableConv2 (None, 13, 9, 728)   536536      block9_sepconv3_act[0][0]        \n",
            "__________________________________________________________________________________________________\n",
            "block9_sepconv3_bn (BatchNormal (None, 13, 9, 728)   2912        block9_sepconv3[0][0]            \n",
            "__________________________________________________________________________________________________\n",
            "add_7 (Add)                     (None, 13, 9, 728)   0           block9_sepconv3_bn[0][0]         \n",
            "                                                                 add_6[0][0]                      \n",
            "__________________________________________________________________________________________________\n",
            "block10_sepconv1_act (Activatio (None, 13, 9, 728)   0           add_7[0][0]                      \n",
            "__________________________________________________________________________________________________\n",
            "block10_sepconv1 (SeparableConv (None, 13, 9, 728)   536536      block10_sepconv1_act[0][0]       \n",
            "__________________________________________________________________________________________________\n",
            "block10_sepconv1_bn (BatchNorma (None, 13, 9, 728)   2912        block10_sepconv1[0][0]           \n",
            "__________________________________________________________________________________________________\n",
            "block10_sepconv2_act (Activatio (None, 13, 9, 728)   0           block10_sepconv1_bn[0][0]        \n",
            "__________________________________________________________________________________________________\n",
            "block10_sepconv2 (SeparableConv (None, 13, 9, 728)   536536      block10_sepconv2_act[0][0]       \n",
            "__________________________________________________________________________________________________\n",
            "block10_sepconv2_bn (BatchNorma (None, 13, 9, 728)   2912        block10_sepconv2[0][0]           \n",
            "__________________________________________________________________________________________________\n",
            "block10_sepconv3_act (Activatio (None, 13, 9, 728)   0           block10_sepconv2_bn[0][0]        \n",
            "__________________________________________________________________________________________________\n",
            "block10_sepconv3 (SeparableConv (None, 13, 9, 728)   536536      block10_sepconv3_act[0][0]       \n",
            "__________________________________________________________________________________________________\n",
            "block10_sepconv3_bn (BatchNorma (None, 13, 9, 728)   2912        block10_sepconv3[0][0]           \n",
            "__________________________________________________________________________________________________\n",
            "add_8 (Add)                     (None, 13, 9, 728)   0           block10_sepconv3_bn[0][0]        \n",
            "                                                                 add_7[0][0]                      \n",
            "__________________________________________________________________________________________________\n",
            "block11_sepconv1_act (Activatio (None, 13, 9, 728)   0           add_8[0][0]                      \n",
            "__________________________________________________________________________________________________\n",
            "block11_sepconv1 (SeparableConv (None, 13, 9, 728)   536536      block11_sepconv1_act[0][0]       \n",
            "__________________________________________________________________________________________________\n",
            "block11_sepconv1_bn (BatchNorma (None, 13, 9, 728)   2912        block11_sepconv1[0][0]           \n",
            "__________________________________________________________________________________________________\n",
            "block11_sepconv2_act (Activatio (None, 13, 9, 728)   0           block11_sepconv1_bn[0][0]        \n",
            "__________________________________________________________________________________________________\n",
            "block11_sepconv2 (SeparableConv (None, 13, 9, 728)   536536      block11_sepconv2_act[0][0]       \n",
            "__________________________________________________________________________________________________\n",
            "block11_sepconv2_bn (BatchNorma (None, 13, 9, 728)   2912        block11_sepconv2[0][0]           \n",
            "__________________________________________________________________________________________________\n",
            "block11_sepconv3_act (Activatio (None, 13, 9, 728)   0           block11_sepconv2_bn[0][0]        \n",
            "__________________________________________________________________________________________________\n",
            "block11_sepconv3 (SeparableConv (None, 13, 9, 728)   536536      block11_sepconv3_act[0][0]       \n",
            "__________________________________________________________________________________________________\n",
            "block11_sepconv3_bn (BatchNorma (None, 13, 9, 728)   2912        block11_sepconv3[0][0]           \n",
            "__________________________________________________________________________________________________\n",
            "add_9 (Add)                     (None, 13, 9, 728)   0           block11_sepconv3_bn[0][0]        \n",
            "                                                                 add_8[0][0]                      \n",
            "__________________________________________________________________________________________________\n",
            "block12_sepconv1_act (Activatio (None, 13, 9, 728)   0           add_9[0][0]                      \n",
            "__________________________________________________________________________________________________\n",
            "block12_sepconv1 (SeparableConv (None, 13, 9, 728)   536536      block12_sepconv1_act[0][0]       \n",
            "__________________________________________________________________________________________________\n",
            "block12_sepconv1_bn (BatchNorma (None, 13, 9, 728)   2912        block12_sepconv1[0][0]           \n",
            "__________________________________________________________________________________________________\n",
            "block12_sepconv2_act (Activatio (None, 13, 9, 728)   0           block12_sepconv1_bn[0][0]        \n",
            "__________________________________________________________________________________________________\n",
            "block12_sepconv2 (SeparableConv (None, 13, 9, 728)   536536      block12_sepconv2_act[0][0]       \n",
            "__________________________________________________________________________________________________\n",
            "block12_sepconv2_bn (BatchNorma (None, 13, 9, 728)   2912        block12_sepconv2[0][0]           \n",
            "__________________________________________________________________________________________________\n",
            "block12_sepconv3_act (Activatio (None, 13, 9, 728)   0           block12_sepconv2_bn[0][0]        \n",
            "__________________________________________________________________________________________________\n",
            "block12_sepconv3 (SeparableConv (None, 13, 9, 728)   536536      block12_sepconv3_act[0][0]       \n",
            "__________________________________________________________________________________________________\n",
            "block12_sepconv3_bn (BatchNorma (None, 13, 9, 728)   2912        block12_sepconv3[0][0]           \n",
            "__________________________________________________________________________________________________\n",
            "add_10 (Add)                    (None, 13, 9, 728)   0           block12_sepconv3_bn[0][0]        \n",
            "                                                                 add_9[0][0]                      \n",
            "__________________________________________________________________________________________________\n",
            "block13_sepconv1_act (Activatio (None, 13, 9, 728)   0           add_10[0][0]                     \n",
            "__________________________________________________________________________________________________\n",
            "block13_sepconv1 (SeparableConv (None, 13, 9, 728)   536536      block13_sepconv1_act[0][0]       \n",
            "__________________________________________________________________________________________________\n",
            "block13_sepconv1_bn (BatchNorma (None, 13, 9, 728)   2912        block13_sepconv1[0][0]           \n",
            "__________________________________________________________________________________________________\n",
            "block13_sepconv2_act (Activatio (None, 13, 9, 728)   0           block13_sepconv1_bn[0][0]        \n",
            "__________________________________________________________________________________________________\n",
            "block13_sepconv2 (SeparableConv (None, 13, 9, 1024)  752024      block13_sepconv2_act[0][0]       \n",
            "__________________________________________________________________________________________________\n",
            "block13_sepconv2_bn (BatchNorma (None, 13, 9, 1024)  4096        block13_sepconv2[0][0]           \n",
            "__________________________________________________________________________________________________\n",
            "conv2d_3 (Conv2D)               (None, 7, 5, 1024)   745472      add_10[0][0]                     \n",
            "__________________________________________________________________________________________________\n",
            "block13_pool (MaxPooling2D)     (None, 7, 5, 1024)   0           block13_sepconv2_bn[0][0]        \n",
            "__________________________________________________________________________________________________\n",
            "batch_normalization_3 (BatchNor (None, 7, 5, 1024)   4096        conv2d_3[0][0]                   \n",
            "__________________________________________________________________________________________________\n",
            "add_11 (Add)                    (None, 7, 5, 1024)   0           block13_pool[0][0]               \n",
            "                                                                 batch_normalization_3[0][0]      \n",
            "__________________________________________________________________________________________________\n",
            "block14_sepconv1 (SeparableConv (None, 7, 5, 1536)   1582080     add_11[0][0]                     \n",
            "__________________________________________________________________________________________________\n",
            "block14_sepconv1_bn (BatchNorma (None, 7, 5, 1536)   6144        block14_sepconv1[0][0]           \n",
            "__________________________________________________________________________________________________\n",
            "block14_sepconv1_act (Activatio (None, 7, 5, 1536)   0           block14_sepconv1_bn[0][0]        \n",
            "__________________________________________________________________________________________________\n",
            "block14_sepconv2 (SeparableConv (None, 7, 5, 2048)   3159552     block14_sepconv1_act[0][0]       \n",
            "__________________________________________________________________________________________________\n",
            "block14_sepconv2_bn (BatchNorma (None, 7, 5, 2048)   8192        block14_sepconv2[0][0]           \n",
            "__________________________________________________________________________________________________\n",
            "block14_sepconv2_act (Activatio (None, 7, 5, 2048)   0           block14_sepconv2_bn[0][0]        \n",
            "==================================================================================================\n",
            "Total params: 20,861,480\n",
            "Trainable params: 20,806,952\n",
            "Non-trainable params: 54,528\n",
            "__________________________________________________________________________________________________\n"
          ],
          "name": "stdout"
        }
      ]
    },
    {
      "metadata": {
        "id": "uZqA6HnBZpeM",
        "colab_type": "code",
        "colab": {
          "base_uri": "https://localhost:8080/",
          "height": 277
        },
        "outputId": "6c60fdaf-f243-48e4-ecfe-a2e94800efec"
      },
      "cell_type": "code",
      "source": [
        "# densely connected classifier on top of the convolutional base\n",
        "model_xc = models.Sequential()\n",
        "model_xc.add(conv_base_xc)\n",
        "model_xc.add(layers.Flatten())\n",
        "model_xc.add(layers.Dense(256, activation='relu'))\n",
        "model_xc.add(layers.Dense(3, activation='softmax'))\n",
        "\n",
        "# freeze convolutional base\n",
        "conv_base_xc.trainable = False\n",
        "\n",
        "model_xc.summary()"
      ],
      "execution_count": 30,
      "outputs": [
        {
          "output_type": "stream",
          "text": [
            "_________________________________________________________________\n",
            "Layer (type)                 Output Shape              Param #   \n",
            "=================================================================\n",
            "xception (Model)             (None, 7, 5, 2048)        20861480  \n",
            "_________________________________________________________________\n",
            "flatten_4 (Flatten)          (None, 71680)             0         \n",
            "_________________________________________________________________\n",
            "dense_8 (Dense)              (None, 256)               18350336  \n",
            "_________________________________________________________________\n",
            "dense_9 (Dense)              (None, 3)                 771       \n",
            "=================================================================\n",
            "Total params: 39,212,587\n",
            "Trainable params: 18,351,107\n",
            "Non-trainable params: 20,861,480\n",
            "_________________________________________________________________\n"
          ],
          "name": "stdout"
        }
      ]
    },
    {
      "metadata": {
        "id": "TdCdMMj8ZvAJ",
        "colab_type": "code",
        "colab": {
          "base_uri": "https://localhost:8080/",
          "height": 1404
        },
        "outputId": "614bbf40-d6aa-4cdf-fea1-4ab245c1d392"
      },
      "cell_type": "code",
      "source": [
        "model_xc.compile(loss='categorical_crossentropy', optimizer=optimizers.RMSprop(lr=2e-5), metrics=['acc'])\n",
        "\n",
        "history_xc = model_xc.fit_generator(train_gen, steps_per_epoch=steps_per_epoch, epochs=no_epochs, validation_data=validation_gen,\n",
        "                              validation_steps=validation_steps)"
      ],
      "execution_count": 31,
      "outputs": [
        {
          "output_type": "stream",
          "text": [
            "Epoch 1/40\n",
            "100/100 [==============================] - 40s 401ms/step - loss: 1.0332 - acc: 0.5205 - val_loss: 0.9192 - val_acc: 0.5629\n",
            "Epoch 2/40\n",
            "100/100 [==============================] - 36s 360ms/step - loss: 0.8215 - acc: 0.6175 - val_loss: 0.8821 - val_acc: 0.5619\n",
            "Epoch 3/40\n",
            "100/100 [==============================] - 36s 358ms/step - loss: 0.6981 - acc: 0.6895 - val_loss: 0.9887 - val_acc: 0.5144\n",
            "Epoch 4/40\n",
            "100/100 [==============================] - 36s 362ms/step - loss: 0.6198 - acc: 0.7465 - val_loss: 0.9309 - val_acc: 0.5773\n",
            "Epoch 5/40\n",
            "100/100 [==============================] - 36s 359ms/step - loss: 0.5715 - acc: 0.7645 - val_loss: 0.9292 - val_acc: 0.5959\n",
            "Epoch 6/40\n",
            "100/100 [==============================] - 36s 360ms/step - loss: 0.5121 - acc: 0.7980 - val_loss: 1.0824 - val_acc: 0.5557\n",
            "Epoch 7/40\n",
            "100/100 [==============================] - 36s 359ms/step - loss: 0.4623 - acc: 0.8145 - val_loss: 0.9799 - val_acc: 0.5887\n",
            "Epoch 8/40\n",
            "100/100 [==============================] - 36s 359ms/step - loss: 0.4201 - acc: 0.8370 - val_loss: 0.9524 - val_acc: 0.5959\n",
            "Epoch 9/40\n",
            "100/100 [==============================] - 36s 362ms/step - loss: 0.3839 - acc: 0.8645 - val_loss: 0.9804 - val_acc: 0.5948\n",
            "Epoch 10/40\n",
            "100/100 [==============================] - 36s 360ms/step - loss: 0.3560 - acc: 0.8715 - val_loss: 1.0306 - val_acc: 0.5794\n",
            "Epoch 11/40\n",
            "100/100 [==============================] - 36s 359ms/step - loss: 0.3187 - acc: 0.8840 - val_loss: 1.0383 - val_acc: 0.6165\n",
            "Epoch 12/40\n",
            "100/100 [==============================] - 36s 361ms/step - loss: 0.2856 - acc: 0.8990 - val_loss: 1.1026 - val_acc: 0.6010\n",
            "Epoch 13/40\n",
            "100/100 [==============================] - 36s 359ms/step - loss: 0.2894 - acc: 0.8965 - val_loss: 1.0465 - val_acc: 0.5753\n",
            "Epoch 14/40\n",
            "100/100 [==============================] - 36s 360ms/step - loss: 0.2543 - acc: 0.9130 - val_loss: 1.0866 - val_acc: 0.5845\n",
            "Epoch 15/40\n",
            "100/100 [==============================] - 36s 359ms/step - loss: 0.2416 - acc: 0.9195 - val_loss: 1.1159 - val_acc: 0.5732\n",
            "Epoch 16/40\n",
            "100/100 [==============================] - 36s 359ms/step - loss: 0.2355 - acc: 0.9215 - val_loss: 1.3662 - val_acc: 0.5660\n",
            "Epoch 17/40\n",
            "100/100 [==============================] - 36s 360ms/step - loss: 0.2096 - acc: 0.9360 - val_loss: 1.1233 - val_acc: 0.5804\n",
            "Epoch 18/40\n",
            "100/100 [==============================] - 36s 358ms/step - loss: 0.2034 - acc: 0.9345 - val_loss: 1.3107 - val_acc: 0.5639\n",
            "Epoch 19/40\n",
            "100/100 [==============================] - 36s 357ms/step - loss: 0.1862 - acc: 0.9470 - val_loss: 1.2167 - val_acc: 0.6031\n",
            "Epoch 20/40\n",
            "100/100 [==============================] - 36s 356ms/step - loss: 0.1717 - acc: 0.9510 - val_loss: 1.2561 - val_acc: 0.6082\n",
            "Epoch 21/40\n",
            "100/100 [==============================] - 36s 359ms/step - loss: 0.1455 - acc: 0.9595 - val_loss: 1.3231 - val_acc: 0.6340\n",
            "Epoch 22/40\n",
            "100/100 [==============================] - 36s 356ms/step - loss: 0.1547 - acc: 0.9515 - val_loss: 1.1784 - val_acc: 0.5825\n",
            "Epoch 23/40\n",
            "100/100 [==============================] - 36s 357ms/step - loss: 0.1557 - acc: 0.9520 - val_loss: 1.1842 - val_acc: 0.6010\n",
            "Epoch 24/40\n",
            "100/100 [==============================] - 36s 360ms/step - loss: 0.1429 - acc: 0.9630 - val_loss: 1.3433 - val_acc: 0.5825\n",
            "Epoch 25/40\n",
            "100/100 [==============================] - 36s 358ms/step - loss: 0.1313 - acc: 0.9700 - val_loss: 1.2343 - val_acc: 0.6010\n",
            "Epoch 26/40\n",
            "100/100 [==============================] - 36s 357ms/step - loss: 0.1081 - acc: 0.9765 - val_loss: 1.4453 - val_acc: 0.5639\n",
            "Epoch 27/40\n",
            "100/100 [==============================] - 36s 356ms/step - loss: 0.1230 - acc: 0.9655 - val_loss: 1.3085 - val_acc: 0.5897\n",
            "Epoch 28/40\n",
            "100/100 [==============================] - 36s 359ms/step - loss: 0.1142 - acc: 0.9645 - val_loss: 1.4585 - val_acc: 0.5979\n",
            "Epoch 29/40\n",
            "100/100 [==============================] - 36s 356ms/step - loss: 0.1206 - acc: 0.9650 - val_loss: 1.3454 - val_acc: 0.5742\n",
            "Epoch 30/40\n",
            "100/100 [==============================] - 36s 358ms/step - loss: 0.1083 - acc: 0.9680 - val_loss: 1.3240 - val_acc: 0.5969\n",
            "Epoch 31/40\n",
            "100/100 [==============================] - 36s 357ms/step - loss: 0.0918 - acc: 0.9790 - val_loss: 1.4194 - val_acc: 0.5948\n",
            "Epoch 32/40\n",
            "100/100 [==============================] - 36s 359ms/step - loss: 0.0901 - acc: 0.9735 - val_loss: 1.3626 - val_acc: 0.6010\n",
            "Epoch 33/40\n",
            "100/100 [==============================] - 36s 360ms/step - loss: 0.0957 - acc: 0.9740 - val_loss: 1.5054 - val_acc: 0.5948\n",
            "Epoch 34/40\n",
            "100/100 [==============================] - 36s 356ms/step - loss: 0.0864 - acc: 0.9750 - val_loss: 1.4181 - val_acc: 0.5784\n",
            "Epoch 35/40\n",
            "100/100 [==============================] - 36s 356ms/step - loss: 0.0880 - acc: 0.9720 - val_loss: 1.3736 - val_acc: 0.6041\n",
            "Epoch 36/40\n",
            "100/100 [==============================] - 36s 356ms/step - loss: 0.0910 - acc: 0.9780 - val_loss: 1.4008 - val_acc: 0.6052\n",
            "Epoch 37/40\n",
            "100/100 [==============================] - 36s 356ms/step - loss: 0.0853 - acc: 0.9750 - val_loss: 1.4239 - val_acc: 0.5979\n",
            "Epoch 38/40\n",
            "100/100 [==============================] - 36s 358ms/step - loss: 0.0603 - acc: 0.9880 - val_loss: 1.4034 - val_acc: 0.6278\n",
            "Epoch 39/40\n",
            "100/100 [==============================] - 36s 356ms/step - loss: 0.0790 - acc: 0.9800 - val_loss: 1.3956 - val_acc: 0.6144\n",
            "Epoch 40/40\n",
            "100/100 [==============================] - 36s 356ms/step - loss: 0.0704 - acc: 0.9825 - val_loss: 1.4507 - val_acc: 0.5928\n"
          ],
          "name": "stdout"
        }
      ]
    },
    {
      "metadata": {
        "id": "tQo3JQ29aCqn",
        "colab_type": "code",
        "colab": {
          "base_uri": "https://localhost:8080/",
          "height": 968
        },
        "outputId": "0aa3ec99-f330-4f61-f0ad-104122f63be0"
      },
      "cell_type": "code",
      "source": [
        "# test the trained network\n",
        "plot_history(history_xc)\n",
        "\n",
        "# test_loss, test_acc = model_vgg16.evaluate_generator(test_gen, steps=50)\n",
        "# print('test acc:', test_acc)\n",
        "\n",
        "\n",
        "Y_pred = model_xc.predict_classes(test_gen)\n",
        "\n",
        "print('Confusion Matrix')\n",
        "print(confusion_matrix(test_gen.classes, Y_pred))\n",
        "\n",
        "print('Classification Report')\n",
        "target_names = ['bcc', 'bkl', 'mel']\n",
        "print(classification_report(test_gen.classes, Y_pred, target_names=target_names))"
      ],
      "execution_count": 34,
      "outputs": [
        {
          "output_type": "display_data",
          "data": {
            "image/png": "[encoded data removed]",
            "text/plain": [
              "<matplotlib.figure.Figure at 0x7fc3d428ccc0>"
            ]
          },
          "metadata": {
            "tags": []
          }
        },
        {
          "output_type": "display_data",
          "data": {
            "image/png": "[encoded data removed]",
            "text/plain": [
              "<matplotlib.figure.Figure at 0x7fc3d41094a8>"
            ]
          },
          "metadata": {
            "tags": []
          }
        },
        {
          "output_type": "stream",
          "text": [
            "Confusion Matrix\n",
            "[[24 16 10]\n",
            " [ 8 70 22]\n",
            " [ 9 22 69]]\n",
            "Classification Report\n",
            "              precision    recall  f1-score   support\n",
            "\n",
            "         bcc       0.59      0.48      0.53        50\n",
            "         bkl       0.65      0.70      0.67       100\n",
            "         mel       0.68      0.69      0.69       100\n",
            "\n",
            "   micro avg       0.65      0.65      0.65       250\n",
            "   macro avg       0.64      0.62      0.63       250\n",
            "weighted avg       0.65      0.65      0.65       250\n",
            "\n"
          ],
          "name": "stdout"
        }
      ]
    },
    {
      "metadata": {
        "id": "KeUxj9LQaC1K",
        "colab_type": "code",
        "colab": {}
      },
      "cell_type": "code",
      "source": [
        "# path_model = 'xception_baseline_e40.h5'\n",
        "# drive_name = 'xception_baseline_e40.h5'\n",
        "# #models.save_model(model, path_model)\n",
        "# # Save entire model to a HDF5 file\n",
        "# model.save(path_model)\n",
        "\n",
        "# save_file_to_drive(drive_name, path_model)"
      ],
      "execution_count": 0,
      "outputs": []
    }
  ]
}