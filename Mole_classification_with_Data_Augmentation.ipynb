{
  "nbformat": 4,
  "nbformat_minor": 0,
  "metadata": {
    "colab": {
      "name": "Mole_classification_with_Data_Augmentation",
      "version": "0.3.2",
      "provenance": [],
      "collapsed_sections": [],
      "include_colab_link": true
    },
    "kernelspec": {
      "name": "python3",
      "display_name": "Python 3"
    },
    "accelerator": "GPU"
  },
  "cells": [
    {
      "cell_type": "markdown",
      "metadata": {
        "id": "view-in-github",
        "colab_type": "text"
      },
      "source": [
        "<a href=\"https://colab.research.google.com/github/OlehKSS/cad-project/blob/master/Mole_classification_with_Data_Augmentation.ipynb\" target=\"_parent\"><img src=\"https://colab.research.google.com/assets/colab-badge.svg\" alt=\"Open In Colab\"/></a>"
      ]
    },
    {
      "metadata": {
        "id": "rpPoCdE0Z_u2",
        "colab_type": "text"
      },
      "cell_type": "markdown",
      "source": [
        "# Mole Classification"
      ]
    },
    {
      "metadata": {
        "id": "rgPQgNnScNIx",
        "colab_type": "code",
        "colab": {}
      },
      "cell_type": "code",
      "source": [
        "import io\n",
        "import os\n",
        "\n",
        "\n",
        "import tensorflow as tf\n",
        "import matplotlib.pyplot as plt\n",
        "import numpy as np"
      ],
      "execution_count": 0,
      "outputs": []
    },
    {
      "metadata": {
        "id": "ThmiC6vzd6Ji",
        "colab_type": "code",
        "outputId": "85265bea-a161-49ed-beaf-f339fb8adc8f",
        "colab": {
          "base_uri": "https://localhost:8080/",
          "height": 34
        }
      },
      "cell_type": "code",
      "source": [
        "tf.test.is_gpu_available()"
      ],
      "execution_count": 0,
      "outputs": [
        {
          "output_type": "execute_result",
          "data": {
            "text/plain": [
              "True"
            ]
          },
          "metadata": {
            "tags": []
          },
          "execution_count": 2
        }
      ]
    },
    {
      "metadata": {
        "id": "6IMswSytBkx-",
        "colab_type": "code",
        "outputId": "6b8c0276-7849-4f84-d32f-2b3ff1b7495f",
        "colab": {
          "base_uri": "https://localhost:8080/",
          "height": 34
        }
      },
      "cell_type": "code",
      "source": [
        "tf.__version__"
      ],
      "execution_count": 0,
      "outputs": [
        {
          "output_type": "execute_result",
          "data": {
            "text/plain": [
              "'1.12.0'"
            ]
          },
          "metadata": {
            "tags": []
          },
          "execution_count": 3
        }
      ]
    },
    {
      "metadata": {
        "id": "a4cyr-X4cOoh",
        "colab_type": "text"
      },
      "cell_type": "markdown",
      "source": [
        "## Google Drive"
      ]
    },
    {
      "metadata": {
        "id": "BePmruVsaGLt",
        "colab_type": "code",
        "colab": {}
      },
      "cell_type": "code",
      "source": [
        "# login to drive\n",
        "from google.colab import auth\n",
        "from googleapiclient.http import MediaFileUpload, MediaIoBaseDownload\n",
        "from googleapiclient.discovery import build\n",
        "\n",
        "\n",
        "auth.authenticate_user()\n",
        "\n",
        "drive_service = build('drive', 'v3')"
      ],
      "execution_count": 0,
      "outputs": []
    },
    {
      "metadata": {
        "id": "Gg1QHxtfaN2H",
        "colab_type": "code",
        "colab": {}
      },
      "cell_type": "code",
      "source": [
        "# helper functions\n",
        "def get_file(file_id, file_name):\n",
        "  '''Get a file from GoogleDrive.'''\n",
        "  request = drive_service.files().get_media(fileId=file_id)\n",
        "  #downloaded = io.BytesIO()\n",
        "  downloaded = io.FileIO(file_name, 'wb')\n",
        "  downloader = MediaIoBaseDownload(downloaded, request)\n",
        "  done = False\n",
        "  \n",
        "  while done is False:\n",
        "    # _ is a placeholder for a progress object that we ignore.\n",
        "    # (Our file is small, so we skip reporting progress.)\n",
        "    status, done = downloader.next_chunk()\n",
        "     \n",
        "    perc = int(100 * status.progress())\n",
        "    print('\\r[%s%s]' % ('=' * perc, ' ' * (50 - perc)))\n",
        "  \n",
        "  #downloaded.seek(0)\n",
        "  #print(os.fstat(downloaded.fileno()).st_size)\n",
        "  downloaded.flush()\n",
        "  os.fsync(downloaded)\n",
        "  downloaded.close()\n",
        "  print('File has been downloaded successfully!')\n",
        "  \n",
        "  #return downloaded\n",
        "  \n",
        "  \n",
        "def save_file_to_drive(name, path):\n",
        "  \"\"\"Save a file to GoogleDrive.\"\"\"\n",
        "  file_metadata = {'name': name, 'mimeType': 'application/octet-stream'}\n",
        "\n",
        "  media = MediaFileUpload(path, mimetype='application/octet-stream', resumable=True)\n",
        "\n",
        "  created = drive_service.files().create(body=file_metadata, media_body=media, fields='id').execute()\n",
        "\n",
        "  return created\n",
        "\n",
        "\n",
        "def unzip_tar(file_path, out_path):\n",
        "  \"\"\"\n",
        "  Unzip tar.gz files.\n",
        "  \n",
        "  Args:\n",
        "    file_path (str): path to the file to unzip.\n",
        "    out_path (str): output path.\n",
        "  \"\"\"\n",
        "  import tarfile\n",
        "  \n",
        "  tar = tarfile.open(file_path, \"r:gz\")\n",
        "  tar.extractall(out_path)\n",
        "  tar.close()\n",
        "  \n",
        "\n",
        "def val_test_split(val_path, test_path, split=0.5):\n",
        "  \"\"\"\n",
        "  Split our validation data into validation/test sets.\n",
        "  \n",
        "  Args:\n",
        "    val_path (str): validation data path.\n",
        "    test_path (str): path where test files will be copied.\n",
        "    spit (float): split ratio, e.g. if split=0.3, it means that 30% of images \n",
        "      from validation set  will be moved to test set.\n",
        "  \"\"\"\n",
        "  from shutil import move\n",
        "  from os import listdir\n",
        "  from os.path import isdir, join\n",
        "  from random import sample\n",
        "  \n",
        "  onlydirs = tuple(f for f in listdir(val_path) if isdir(join(val_path, f)))\n",
        "  \n",
        "  os.mkdir(test_path)\n",
        "  \n",
        "  for dir in onlydirs:\n",
        "    os.mkdir(join(test_path, dir))\n",
        "    files = tuple(f for f in listdir(join(val_path, dir)) if not isdir(join(val_path, dir, f)))\n",
        "    # number of files to choose\n",
        "    k = int(split * len(files))\n",
        "    \n",
        "    files_to_move = sample(files, k)\n",
        "    \n",
        "    for file in files_to_move:\n",
        "      move(join(val_path, dir, file), join(test_path, dir))\n",
        "  \n",
        "  \n",
        "def plot_history(history):\n",
        "    \"\"\"Plots training history of the Keras model.\"\"\"\n",
        "    hist = history.history\n",
        "\n",
        "    acc = hist['acc']\n",
        "    val_acc = hist['val_acc']\n",
        "    loss = hist['loss']\n",
        "    val_loss = hist['val_loss']\n",
        "\n",
        "    epochs = range(1, len(acc) + 1)\n",
        "\n",
        "    plt.plot(epochs, acc, '*-', label='Training acc')\n",
        "    plt.plot(epochs, val_acc, 'b', label='Validation acc')\n",
        "    plt.title('Training and validation accuracy')\n",
        "    plt.legend()\n",
        "\n",
        "    plt.figure()\n",
        "    plt.plot(epochs, loss, '*-', label='Training loss')\n",
        "    plt.plot(epochs, val_loss, 'b', label='Validation loss')\n",
        "    plt.title('Training and validation loss')\n",
        "    plt.legend()\n",
        "    plt.show()"
      ],
      "execution_count": 0,
      "outputs": []
    },
    {
      "metadata": {
        "id": "cO2PbwJ5bQnG",
        "colab_type": "text"
      },
      "cell_type": "markdown",
      "source": [
        "## Get Data"
      ]
    },
    {
      "metadata": {
        "id": "om-H9bfPaeie",
        "colab_type": "code",
        "outputId": "2b008bcd-df76-40be-8e20-77b630db049f",
        "colab": {
          "base_uri": "https://localhost:8080/",
          "height": 340
        }
      },
      "cell_type": "code",
      "source": [
        "# CAD challenge 1, simple classification\n",
        "train_data_id = '1AntSN4wcQ5x48wYXKnXJRzksPZYagQIr'\n",
        "val_data_id = '14WHiW3wfjKKSbqXExzuWzxWwj-mVlA-F'\n",
        "\n",
        "train_file_name = 'train.tar.gz'\n",
        "val_data_name = 'val.tar.gz'\n",
        "\n",
        "get_file(train_data_id, train_file_name)\n",
        "get_file(val_data_id, val_data_name)"
      ],
      "execution_count": 0,
      "outputs": [
        {
          "output_type": "stream",
          "text": [
            "[=======                                           ]\n",
            "[===============                                   ]\n",
            "[=======================                           ]\n",
            "[===============================                   ]\n",
            "[=======================================           ]\n",
            "[===============================================   ]\n",
            "[=======================================================]\n",
            "[==============================================================]\n",
            "[======================================================================]\n",
            "[==============================================================================]\n",
            "[======================================================================================]\n",
            "[==============================================================================================]\n",
            "[====================================================================================================]\n",
            "File has been downloaded successfully!\n",
            "[===============================                   ]\n",
            "[==============================================================]\n",
            "[==============================================================================================]\n",
            "[====================================================================================================]\n",
            "File has been downloaded successfully!\n"
          ],
          "name": "stdout"
        }
      ]
    },
    {
      "metadata": {
        "id": "Dy-12C5hbtzy",
        "colab_type": "code",
        "colab": {}
      },
      "cell_type": "code",
      "source": [
        "#! rm -rf data\n",
        "# !unzip ./data.zip\n",
        "\n",
        "train_path = './train'\n",
        "val_path = './val'\n",
        "test_path = './test'\n",
        "\n",
        "# since archive contains a folder already\n",
        "unzip_tar(train_file_name, './')\n",
        "unzip_tar(val_data_name, './')\n",
        "val_test_split(val_path, test_path)"
      ],
      "execution_count": 0,
      "outputs": []
    },
    {
      "metadata": {
        "id": "b8eu09EjcKDu",
        "colab_type": "text"
      },
      "cell_type": "markdown",
      "source": [
        "\n",
        "## Prepa Data Generator"
      ]
    },
    {
      "metadata": {
        "id": "4QJQC02eb4mt",
        "colab_type": "code",
        "colab": {}
      },
      "cell_type": "code",
      "source": [
        "import tensorflow.keras as keras\n",
        "from tensorflow.keras import models\n",
        "from tensorflow.keras import layers\n",
        "from tensorflow.keras.preprocessing import image\n",
        "from tensorflow.keras.applications import VGG16, Xception\n",
        "from tensorflow.keras.preprocessing.image import ImageDataGenerator\n",
        "from tensorflow.keras import optimizers\n",
        "\n",
        "from sklearn.metrics import classification_report, confusion_matrix"
      ],
      "execution_count": 0,
      "outputs": []
    },
    {
      "metadata": {
        "id": "L-SnDfwIdOPR",
        "colab_type": "code",
        "colab": {}
      },
      "cell_type": "code",
      "source": [
        "input_img_shape = (600, 450, 3)\n",
        "no_epochs = 40\n",
        "steps_per_epoch = 100\n",
        "validation_steps = 50"
      ],
      "execution_count": 0,
      "outputs": []
    },
    {
      "metadata": {
        "id": "H_3IeVAccFaI",
        "colab_type": "code",
        "outputId": "391f5a1e-e5c2-4a03-8309-950a37a0e2f4",
        "colab": {
          "base_uri": "https://localhost:8080/",
          "height": 85
        }
      },
      "cell_type": "code",
      "source": [
        "# with data augentation\n",
        "train_datagen = ImageDataGenerator(rescale=1./255, rotation_range=40,\n",
        "                                   width_shift_range=0.2, height_shift_range=0.2, shear_range=0.2,\n",
        "                                  zoom_range=0.2, horizontal_flip=True, fill_mode='nearest')\n",
        "\n",
        "# without data augmentation\n",
        "# train_datagen = ImageDataGenerator(rescale=1./255)\n",
        "\n",
        "test_datagen = ImageDataGenerator(rescale=1./255)\n",
        "\n",
        "train_gen = train_datagen.flow_from_directory(train_path, target_size=input_img_shape[:2],\n",
        "                                              batch_size=10, class_mode='binary')\n",
        "validation_gen = test_datagen.flow_from_directory(val_path, target_size=input_img_shape[:2],\n",
        "                                              batch_size=10, class_mode='binary')\n",
        "\n",
        "test_gen = test_datagen.flow_from_directory(test_path,\n",
        "                                            target_size=input_img_shape[:2],\n",
        "                                            batch_size=10,\n",
        "                                            #class_mode=None,\n",
        "                                            shuffle=False)\n",
        "\n",
        "train_gen.class_indices"
      ],
      "execution_count": 0,
      "outputs": [
        {
          "output_type": "stream",
          "text": [
            "Found 4800 images belonging to 2 classes.\n",
            "Found 600 images belonging to 2 classes.\n",
            "Found 600 images belonging to 2 classes.\n"
          ],
          "name": "stdout"
        },
        {
          "output_type": "execute_result",
          "data": {
            "text/plain": [
              "{'les': 0, 'nv': 1}"
            ]
          },
          "metadata": {
            "tags": []
          },
          "execution_count": 11
        }
      ]
    },
    {
      "metadata": {
        "id": "kqzhQl5hb2Nj",
        "colab_type": "text"
      },
      "cell_type": "markdown",
      "source": [
        "## Baseline for VGG16"
      ]
    },
    {
      "metadata": {
        "id": "3qhIHq2HcuMp",
        "colab_type": "code",
        "outputId": "add513ff-53f6-4c0e-f2f0-356f603cb921",
        "colab": {
          "base_uri": "https://localhost:8080/",
          "height": 836
        }
      },
      "cell_type": "code",
      "source": [
        "conv_base_vgg16 = VGG16(weights='imagenet', include_top=False, input_shape=input_img_shape)\n",
        "#conv_base = Xception(weights='imagenet', include_top=False, input_shape=input_img_shape)\n",
        "\n",
        "conv_base_vgg16.summary()"
      ],
      "execution_count": 0,
      "outputs": [
        {
          "output_type": "stream",
          "text": [
            "Downloading data from https://github.com/fchollet/deep-learning-models/releases/download/v0.1/vgg16_weights_tf_dim_ordering_tf_kernels_notop.h5\n",
            "58892288/58889256 [==============================] - 1s 0us/step\n",
            "_________________________________________________________________\n",
            "Layer (type)                 Output Shape              Param #   \n",
            "=================================================================\n",
            "input_1 (InputLayer)         (None, 600, 450, 3)       0         \n",
            "_________________________________________________________________\n",
            "block1_conv1 (Conv2D)        (None, 600, 450, 64)      1792      \n",
            "_________________________________________________________________\n",
            "block1_conv2 (Conv2D)        (None, 600, 450, 64)      36928     \n",
            "_________________________________________________________________\n",
            "block1_pool (MaxPooling2D)   (None, 300, 225, 64)      0         \n",
            "_________________________________________________________________\n",
            "block2_conv1 (Conv2D)        (None, 300, 225, 128)     73856     \n",
            "_________________________________________________________________\n",
            "block2_conv2 (Conv2D)        (None, 300, 225, 128)     147584    \n",
            "_________________________________________________________________\n",
            "block2_pool (MaxPooling2D)   (None, 150, 112, 128)     0         \n",
            "_________________________________________________________________\n",
            "block3_conv1 (Conv2D)        (None, 150, 112, 256)     295168    \n",
            "_________________________________________________________________\n",
            "block3_conv2 (Conv2D)        (None, 150, 112, 256)     590080    \n",
            "_________________________________________________________________\n",
            "block3_conv3 (Conv2D)        (None, 150, 112, 256)     590080    \n",
            "_________________________________________________________________\n",
            "block3_pool (MaxPooling2D)   (None, 75, 56, 256)       0         \n",
            "_________________________________________________________________\n",
            "block4_conv1 (Conv2D)        (None, 75, 56, 512)       1180160   \n",
            "_________________________________________________________________\n",
            "block4_conv2 (Conv2D)        (None, 75, 56, 512)       2359808   \n",
            "_________________________________________________________________\n",
            "block4_conv3 (Conv2D)        (None, 75, 56, 512)       2359808   \n",
            "_________________________________________________________________\n",
            "block4_pool (MaxPooling2D)   (None, 37, 28, 512)       0         \n",
            "_________________________________________________________________\n",
            "block5_conv1 (Conv2D)        (None, 37, 28, 512)       2359808   \n",
            "_________________________________________________________________\n",
            "block5_conv2 (Conv2D)        (None, 37, 28, 512)       2359808   \n",
            "_________________________________________________________________\n",
            "block5_conv3 (Conv2D)        (None, 37, 28, 512)       2359808   \n",
            "_________________________________________________________________\n",
            "block5_pool (MaxPooling2D)   (None, 18, 14, 512)       0         \n",
            "=================================================================\n",
            "Total params: 14,714,688\n",
            "Trainable params: 14,714,688\n",
            "Non-trainable params: 0\n",
            "_________________________________________________________________\n"
          ],
          "name": "stdout"
        }
      ]
    },
    {
      "metadata": {
        "id": "eMVOnRQMcwT3",
        "colab_type": "code",
        "outputId": "93b0b0f0-3122-45f9-b20f-30020ad3d83a",
        "colab": {
          "base_uri": "https://localhost:8080/",
          "height": 340
        }
      },
      "cell_type": "code",
      "source": [
        "# densely connected classifier on top of the convolutional base\n",
        "model_vgg16 = models.Sequential()\n",
        "model_vgg16.add(conv_base_vgg16)\n",
        "model_vgg16.add(layers.Flatten())\n",
        "model_vgg16.add(layers.BatchNormalization())\n",
        "model_vgg16.add(layers.Dense(256, activation='relu'))\n",
        "model_vgg16.add(layers.BatchNormalization())\n",
        "model_vgg16.add(layers.Dense(1, activation='sigmoid'))\n",
        "\n",
        "# freeze convolutional base\n",
        "conv_base_vgg16.trainable = False\n",
        "\n",
        "model_vgg16.summary()"
      ],
      "execution_count": 0,
      "outputs": [
        {
          "output_type": "stream",
          "text": [
            "_________________________________________________________________\n",
            "Layer (type)                 Output Shape              Param #   \n",
            "=================================================================\n",
            "vgg16 (Model)                (None, 18, 14, 512)       14714688  \n",
            "_________________________________________________________________\n",
            "flatten (Flatten)            (None, 129024)            0         \n",
            "_________________________________________________________________\n",
            "batch_normalization (BatchNo (None, 129024)            516096    \n",
            "_________________________________________________________________\n",
            "dense (Dense)                (None, 256)               33030400  \n",
            "_________________________________________________________________\n",
            "batch_normalization_1 (Batch (None, 256)               1024      \n",
            "_________________________________________________________________\n",
            "dense_1 (Dense)              (None, 1)                 257       \n",
            "=================================================================\n",
            "Total params: 48,262,465\n",
            "Trainable params: 33,289,217\n",
            "Non-trainable params: 14,973,248\n",
            "_________________________________________________________________\n"
          ],
          "name": "stdout"
        }
      ]
    },
    {
      "metadata": {
        "id": "A1qKXd4UczGk",
        "colab_type": "code",
        "outputId": "aba413c2-c46c-4914-952c-9827c08a39c8",
        "colab": {
          "base_uri": "https://localhost:8080/",
          "height": 1377
        }
      },
      "cell_type": "code",
      "source": [
        "model_vgg16.compile(loss='binary_crossentropy', optimizer=optimizers.RMSprop(lr=2e-5), metrics=['acc'])\n",
        "\n",
        "history_vgg16 = model_vgg16.fit_generator(train_gen, steps_per_epoch=steps_per_epoch, epochs=no_epochs, validation_data=validation_gen,\n",
        "                              validation_steps=validation_steps)"
      ],
      "execution_count": 0,
      "outputs": [
        {
          "output_type": "stream",
          "text": [
            "Epoch 1/40\n",
            "100/100 [==============================] - 144s 1s/step - loss: 0.7877 - acc: 0.6850 - val_loss: 0.7620 - val_acc: 0.5120\n",
            "Epoch 2/40\n",
            "100/100 [==============================] - 121s 1s/step - loss: 0.6563 - acc: 0.7310 - val_loss: 0.5870 - val_acc: 0.7000\n",
            "Epoch 3/40\n",
            "100/100 [==============================] - 115s 1s/step - loss: 0.6097 - acc: 0.7380 - val_loss: 0.5717 - val_acc: 0.7220\n",
            "Epoch 4/40\n",
            "100/100 [==============================] - 115s 1s/step - loss: 0.5622 - acc: 0.7510 - val_loss: 0.5948 - val_acc: 0.7580\n",
            "Epoch 5/40\n",
            "100/100 [==============================] - 118s 1s/step - loss: 0.5957 - acc: 0.7350 - val_loss: 0.6018 - val_acc: 0.7400\n",
            "Epoch 6/40\n",
            "100/100 [==============================] - 118s 1s/step - loss: 0.5540 - acc: 0.7460 - val_loss: 0.5842 - val_acc: 0.7680\n",
            "Epoch 7/40\n",
            "100/100 [==============================] - 118s 1s/step - loss: 0.5361 - acc: 0.7610 - val_loss: 0.5820 - val_acc: 0.7680\n",
            "Epoch 8/40\n",
            "100/100 [==============================] - 120s 1s/step - loss: 0.5552 - acc: 0.7550 - val_loss: 0.5881 - val_acc: 0.7660\n",
            "Epoch 9/40\n",
            "100/100 [==============================] - 121s 1s/step - loss: 0.5954 - acc: 0.7410 - val_loss: 0.6112 - val_acc: 0.7720\n",
            "Epoch 10/40\n",
            "100/100 [==============================] - 120s 1s/step - loss: 0.5019 - acc: 0.7790 - val_loss: 0.5990 - val_acc: 0.7700\n",
            "Epoch 11/40\n",
            "100/100 [==============================] - 132s 1s/step - loss: 0.5525 - acc: 0.7480 - val_loss: 0.5704 - val_acc: 0.7820\n",
            "Epoch 12/40\n",
            "100/100 [==============================] - 132s 1s/step - loss: 0.4962 - acc: 0.7610 - val_loss: 0.5849 - val_acc: 0.7700\n",
            "Epoch 13/40\n",
            "100/100 [==============================] - 132s 1s/step - loss: 0.5343 - acc: 0.7620 - val_loss: 0.5735 - val_acc: 0.7800\n",
            "Epoch 14/40\n",
            "100/100 [==============================] - 132s 1s/step - loss: 0.5033 - acc: 0.7680 - val_loss: 0.5576 - val_acc: 0.7540\n",
            "Epoch 15/40\n",
            "100/100 [==============================] - 131s 1s/step - loss: 0.4985 - acc: 0.7520 - val_loss: 0.5657 - val_acc: 0.7720\n",
            "Epoch 16/40\n",
            "100/100 [==============================] - 132s 1s/step - loss: 0.5245 - acc: 0.7470 - val_loss: 0.5690 - val_acc: 0.7760\n",
            "Epoch 17/40\n",
            "100/100 [==============================] - 131s 1s/step - loss: 0.5211 - acc: 0.7540 - val_loss: 0.5378 - val_acc: 0.7680\n",
            "Epoch 18/40\n",
            "100/100 [==============================] - 131s 1s/step - loss: 0.5036 - acc: 0.7670 - val_loss: 0.5160 - val_acc: 0.7880\n",
            "Epoch 19/40\n",
            "100/100 [==============================] - 130s 1s/step - loss: 0.4480 - acc: 0.8010 - val_loss: 0.5391 - val_acc: 0.7900\n",
            "Epoch 20/40\n",
            "100/100 [==============================] - 132s 1s/step - loss: 0.4884 - acc: 0.7640 - val_loss: 0.5211 - val_acc: 0.7840\n",
            "Epoch 21/40\n",
            "100/100 [==============================] - 131s 1s/step - loss: 0.4774 - acc: 0.7760 - val_loss: 0.5173 - val_acc: 0.7980\n",
            "Epoch 22/40\n",
            "100/100 [==============================] - 132s 1s/step - loss: 0.4665 - acc: 0.7900 - val_loss: 0.5381 - val_acc: 0.8100\n",
            "Epoch 23/40\n",
            "100/100 [==============================] - 133s 1s/step - loss: 0.5313 - acc: 0.7570 - val_loss: 0.5230 - val_acc: 0.7920\n",
            "Epoch 24/40\n",
            "100/100 [==============================] - 131s 1s/step - loss: 0.4592 - acc: 0.7960 - val_loss: 0.5437 - val_acc: 0.8060\n",
            "Epoch 25/40\n",
            "100/100 [==============================] - 131s 1s/step - loss: 0.4907 - acc: 0.7690 - val_loss: 0.5551 - val_acc: 0.7920\n",
            "Epoch 26/40\n",
            "100/100 [==============================] - 130s 1s/step - loss: 0.4733 - acc: 0.7840 - val_loss: 0.5195 - val_acc: 0.8000\n",
            "Epoch 27/40\n",
            "100/100 [==============================] - 131s 1s/step - loss: 0.5020 - acc: 0.7740 - val_loss: 0.5674 - val_acc: 0.7780\n",
            "Epoch 28/40\n",
            "100/100 [==============================] - 132s 1s/step - loss: 0.4514 - acc: 0.8050 - val_loss: 0.4991 - val_acc: 0.7840\n",
            "Epoch 29/40\n",
            "100/100 [==============================] - 132s 1s/step - loss: 0.5212 - acc: 0.7690 - val_loss: 0.5277 - val_acc: 0.7880\n",
            "Epoch 30/40\n",
            "100/100 [==============================] - 132s 1s/step - loss: 0.4816 - acc: 0.7680 - val_loss: 0.5277 - val_acc: 0.7740\n",
            "Epoch 31/40\n",
            "100/100 [==============================] - 131s 1s/step - loss: 0.4841 - acc: 0.7750 - val_loss: 0.5420 - val_acc: 0.7880\n",
            "Epoch 32/40\n",
            "100/100 [==============================] - 131s 1s/step - loss: 0.4397 - acc: 0.7960 - val_loss: 0.5443 - val_acc: 0.7940\n",
            "Epoch 33/40\n",
            "100/100 [==============================] - 132s 1s/step - loss: 0.4989 - acc: 0.7770 - val_loss: 0.4973 - val_acc: 0.8040\n",
            "Epoch 34/40\n",
            "100/100 [==============================] - 131s 1s/step - loss: 0.4485 - acc: 0.7970 - val_loss: 0.5171 - val_acc: 0.7940\n",
            "Epoch 35/40\n",
            "100/100 [==============================] - 131s 1s/step - loss: 0.4612 - acc: 0.7900 - val_loss: 0.4974 - val_acc: 0.7960\n",
            "Epoch 36/40\n",
            "100/100 [==============================] - 131s 1s/step - loss: 0.4869 - acc: 0.7680 - val_loss: 0.4943 - val_acc: 0.7960\n",
            "Epoch 37/40\n",
            "100/100 [==============================] - 131s 1s/step - loss: 0.4768 - acc: 0.7850 - val_loss: 0.4853 - val_acc: 0.8000\n",
            "Epoch 38/40\n",
            "100/100 [==============================] - 132s 1s/step - loss: 0.4484 - acc: 0.7900 - val_loss: 0.4908 - val_acc: 0.8080\n",
            "Epoch 39/40\n",
            "100/100 [==============================] - 132s 1s/step - loss: 0.4789 - acc: 0.7990 - val_loss: 0.5219 - val_acc: 0.7920\n",
            "Epoch 40/40\n",
            "100/100 [==============================] - 131s 1s/step - loss: 0.4799 - acc: 0.7860 - val_loss: 0.5019 - val_acc: 0.8100\n"
          ],
          "name": "stdout"
        }
      ]
    },
    {
      "metadata": {
        "id": "1pq5QUlwhl-n",
        "colab_type": "code",
        "outputId": "6dc3d523-0c39-480c-f9bf-2e7c248e1c6d",
        "colab": {
          "base_uri": "https://localhost:8080/",
          "height": 928
        }
      },
      "cell_type": "code",
      "source": [
        "# test the trained network\n",
        "plot_history(history_vgg16)\n",
        "\n",
        "# test_loss, test_acc = model_vgg16.evaluate_generator(test_gen, steps=50)\n",
        "# print('test acc:', test_acc)\n",
        "\n",
        "\n",
        "Y_pred = model_vgg16.predict_classes(test_gen)\n",
        "y_pred = [p[0] for p in Y_pred]\n",
        "\n",
        "print('Confusion Matrix')\n",
        "print(confusion_matrix(test_gen.classes, y_pred))\n",
        "\n",
        "print('Classification Report')\n",
        "target_names = ['les', 'nv']\n",
        "print(classification_report(test_gen.classes, y_pred, target_names=target_names))"
      ],
      "execution_count": 0,
      "outputs": [
        {
          "output_type": "display_data",
          "data": {
            "image/png": "[encoded data removed]",
            "text/plain": [
              "<matplotlib.figure.Figure at 0x7fcb25067898>"
            ]
          },
          "metadata": {
            "tags": []
          }
        },
        {
          "output_type": "display_data",
          "data": {
            "image/png": "[encoded data removed]",
            "text/plain": [
              "<matplotlib.figure.Figure at 0x7fcb86b2d860>"
            ]
          },
          "metadata": {
            "tags": []
          }
        },
        {
          "output_type": "stream",
          "text": [
            "Confusion Matrix\n",
            "[[250  50]\n",
            " [ 61 239]]\n",
            "Classification Report\n",
            "              precision    recall  f1-score   support\n",
            "\n",
            "         les       0.80      0.83      0.82       300\n",
            "          nv       0.83      0.80      0.81       300\n",
            "\n",
            "   micro avg       0.81      0.81      0.81       600\n",
            "   macro avg       0.82      0.81      0.81       600\n",
            "weighted avg       0.82      0.81      0.81       600\n",
            "\n"
          ],
          "name": "stdout"
        }
      ]
    },
    {
      "metadata": {
        "id": "MMGuK9stc4z9",
        "colab_type": "code",
        "outputId": "d6c8b025-3c5b-4c79-8afd-34dc9e5f3c52",
        "colab": {
          "base_uri": "https://localhost:8080/",
          "height": 35
        }
      },
      "cell_type": "code",
      "source": [
        "path_model = 'vgg16_baseline_e40.h5'\n",
        "drive_name = 'vgg16_baseline_e40.h5'\n",
        "#models.save_model(model, path_model)\n",
        "# Save entire model to a HDF5 file\n",
        "model.save(path_model)\n",
        "\n",
        "save_file_to_drive(drive_name, path_model)"
      ],
      "execution_count": 0,
      "outputs": [
        {
          "output_type": "execute_result",
          "data": {
            "text/plain": [
              "{'id': '10LDLWpsIgTQprqzHNWm07enqtk3hReZj'}"
            ]
          },
          "metadata": {
            "tags": []
          },
          "execution_count": 94
        }
      ]
    },
    {
      "metadata": {
        "id": "VS5yX9hgjRDa",
        "colab_type": "text"
      },
      "cell_type": "markdown",
      "source": [
        "## Xception with Data Augmentation"
      ]
    },
    {
      "metadata": {
        "id": "1OXdL6bniCJc",
        "colab_type": "code",
        "outputId": "4587d2e6-3994-466e-de34-619d87d0467a",
        "colab": {
          "base_uri": "https://localhost:8080/",
          "height": 4882
        }
      },
      "cell_type": "code",
      "source": [
        "conv_base_xc = Xception(weights='imagenet', include_top=False, input_shape=input_img_shape)\n",
        "\n",
        "conv_base_xc.summary()"
      ],
      "execution_count": 0,
      "outputs": [
        {
          "output_type": "stream",
          "text": [
            "Downloading data from https://github.com/fchollet/deep-learning-models/releases/download/v0.4/xception_weights_tf_dim_ordering_tf_kernels_notop.h5\n",
            "83689472/83683744 [==============================] - 1s 0us/step\n",
            "__________________________________________________________________________________________________\n",
            "Layer (type)                    Output Shape         Param #     Connected to                     \n",
            "==================================================================================================\n",
            "input_1 (InputLayer)            (None, 200, 150, 3)  0                                            \n",
            "__________________________________________________________________________________________________\n",
            "block1_conv1 (Conv2D)           (None, 99, 74, 32)   864         input_1[0][0]                    \n",
            "__________________________________________________________________________________________________\n",
            "block1_conv1_bn (BatchNormaliza (None, 99, 74, 32)   128         block1_conv1[0][0]               \n",
            "__________________________________________________________________________________________________\n",
            "block1_conv1_act (Activation)   (None, 99, 74, 32)   0           block1_conv1_bn[0][0]            \n",
            "__________________________________________________________________________________________________\n",
            "block1_conv2 (Conv2D)           (None, 97, 72, 64)   18432       block1_conv1_act[0][0]           \n",
            "__________________________________________________________________________________________________\n",
            "block1_conv2_bn (BatchNormaliza (None, 97, 72, 64)   256         block1_conv2[0][0]               \n",
            "__________________________________________________________________________________________________\n",
            "block1_conv2_act (Activation)   (None, 97, 72, 64)   0           block1_conv2_bn[0][0]            \n",
            "__________________________________________________________________________________________________\n",
            "block2_sepconv1 (SeparableConv2 (None, 97, 72, 128)  8768        block1_conv2_act[0][0]           \n",
            "__________________________________________________________________________________________________\n",
            "block2_sepconv1_bn (BatchNormal (None, 97, 72, 128)  512         block2_sepconv1[0][0]            \n",
            "__________________________________________________________________________________________________\n",
            "block2_sepconv2_act (Activation (None, 97, 72, 128)  0           block2_sepconv1_bn[0][0]         \n",
            "__________________________________________________________________________________________________\n",
            "block2_sepconv2 (SeparableConv2 (None, 97, 72, 128)  17536       block2_sepconv2_act[0][0]        \n",
            "__________________________________________________________________________________________________\n",
            "block2_sepconv2_bn (BatchNormal (None, 97, 72, 128)  512         block2_sepconv2[0][0]            \n",
            "__________________________________________________________________________________________________\n",
            "conv2d (Conv2D)                 (None, 49, 36, 128)  8192        block1_conv2_act[0][0]           \n",
            "__________________________________________________________________________________________________\n",
            "block2_pool (MaxPooling2D)      (None, 49, 36, 128)  0           block2_sepconv2_bn[0][0]         \n",
            "__________________________________________________________________________________________________\n",
            "batch_normalization (BatchNorma (None, 49, 36, 128)  512         conv2d[0][0]                     \n",
            "__________________________________________________________________________________________________\n",
            "add (Add)                       (None, 49, 36, 128)  0           block2_pool[0][0]                \n",
            "                                                                 batch_normalization[0][0]        \n",
            "__________________________________________________________________________________________________\n",
            "block3_sepconv1_act (Activation (None, 49, 36, 128)  0           add[0][0]                        \n",
            "__________________________________________________________________________________________________\n",
            "block3_sepconv1 (SeparableConv2 (None, 49, 36, 256)  33920       block3_sepconv1_act[0][0]        \n",
            "__________________________________________________________________________________________________\n",
            "block3_sepconv1_bn (BatchNormal (None, 49, 36, 256)  1024        block3_sepconv1[0][0]            \n",
            "__________________________________________________________________________________________________\n",
            "block3_sepconv2_act (Activation (None, 49, 36, 256)  0           block3_sepconv1_bn[0][0]         \n",
            "__________________________________________________________________________________________________\n",
            "block3_sepconv2 (SeparableConv2 (None, 49, 36, 256)  67840       block3_sepconv2_act[0][0]        \n",
            "__________________________________________________________________________________________________\n",
            "block3_sepconv2_bn (BatchNormal (None, 49, 36, 256)  1024        block3_sepconv2[0][0]            \n",
            "__________________________________________________________________________________________________\n",
            "conv2d_1 (Conv2D)               (None, 25, 18, 256)  32768       add[0][0]                        \n",
            "__________________________________________________________________________________________________\n",
            "block3_pool (MaxPooling2D)      (None, 25, 18, 256)  0           block3_sepconv2_bn[0][0]         \n",
            "__________________________________________________________________________________________________\n",
            "batch_normalization_1 (BatchNor (None, 25, 18, 256)  1024        conv2d_1[0][0]                   \n",
            "__________________________________________________________________________________________________\n",
            "add_1 (Add)                     (None, 25, 18, 256)  0           block3_pool[0][0]                \n",
            "                                                                 batch_normalization_1[0][0]      \n",
            "__________________________________________________________________________________________________\n",
            "block4_sepconv1_act (Activation (None, 25, 18, 256)  0           add_1[0][0]                      \n",
            "__________________________________________________________________________________________________\n",
            "block4_sepconv1 (SeparableConv2 (None, 25, 18, 728)  188672      block4_sepconv1_act[0][0]        \n",
            "__________________________________________________________________________________________________\n",
            "block4_sepconv1_bn (BatchNormal (None, 25, 18, 728)  2912        block4_sepconv1[0][0]            \n",
            "__________________________________________________________________________________________________\n",
            "block4_sepconv2_act (Activation (None, 25, 18, 728)  0           block4_sepconv1_bn[0][0]         \n",
            "__________________________________________________________________________________________________\n",
            "block4_sepconv2 (SeparableConv2 (None, 25, 18, 728)  536536      block4_sepconv2_act[0][0]        \n",
            "__________________________________________________________________________________________________\n",
            "block4_sepconv2_bn (BatchNormal (None, 25, 18, 728)  2912        block4_sepconv2[0][0]            \n",
            "__________________________________________________________________________________________________\n",
            "conv2d_2 (Conv2D)               (None, 13, 9, 728)   186368      add_1[0][0]                      \n",
            "__________________________________________________________________________________________________\n",
            "block4_pool (MaxPooling2D)      (None, 13, 9, 728)   0           block4_sepconv2_bn[0][0]         \n",
            "__________________________________________________________________________________________________\n",
            "batch_normalization_2 (BatchNor (None, 13, 9, 728)   2912        conv2d_2[0][0]                   \n",
            "__________________________________________________________________________________________________\n",
            "add_2 (Add)                     (None, 13, 9, 728)   0           block4_pool[0][0]                \n",
            "                                                                 batch_normalization_2[0][0]      \n",
            "__________________________________________________________________________________________________\n",
            "block5_sepconv1_act (Activation (None, 13, 9, 728)   0           add_2[0][0]                      \n",
            "__________________________________________________________________________________________________\n",
            "block5_sepconv1 (SeparableConv2 (None, 13, 9, 728)   536536      block5_sepconv1_act[0][0]        \n",
            "__________________________________________________________________________________________________\n",
            "block5_sepconv1_bn (BatchNormal (None, 13, 9, 728)   2912        block5_sepconv1[0][0]            \n",
            "__________________________________________________________________________________________________\n",
            "block5_sepconv2_act (Activation (None, 13, 9, 728)   0           block5_sepconv1_bn[0][0]         \n",
            "__________________________________________________________________________________________________\n",
            "block5_sepconv2 (SeparableConv2 (None, 13, 9, 728)   536536      block5_sepconv2_act[0][0]        \n",
            "__________________________________________________________________________________________________\n",
            "block5_sepconv2_bn (BatchNormal (None, 13, 9, 728)   2912        block5_sepconv2[0][0]            \n",
            "__________________________________________________________________________________________________\n",
            "block5_sepconv3_act (Activation (None, 13, 9, 728)   0           block5_sepconv2_bn[0][0]         \n",
            "__________________________________________________________________________________________________\n",
            "block5_sepconv3 (SeparableConv2 (None, 13, 9, 728)   536536      block5_sepconv3_act[0][0]        \n",
            "__________________________________________________________________________________________________\n",
            "block5_sepconv3_bn (BatchNormal (None, 13, 9, 728)   2912        block5_sepconv3[0][0]            \n",
            "__________________________________________________________________________________________________\n",
            "add_3 (Add)                     (None, 13, 9, 728)   0           block5_sepconv3_bn[0][0]         \n",
            "                                                                 add_2[0][0]                      \n",
            "__________________________________________________________________________________________________\n",
            "block6_sepconv1_act (Activation (None, 13, 9, 728)   0           add_3[0][0]                      \n",
            "__________________________________________________________________________________________________\n",
            "block6_sepconv1 (SeparableConv2 (None, 13, 9, 728)   536536      block6_sepconv1_act[0][0]        \n",
            "__________________________________________________________________________________________________\n",
            "block6_sepconv1_bn (BatchNormal (None, 13, 9, 728)   2912        block6_sepconv1[0][0]            \n",
            "__________________________________________________________________________________________________\n",
            "block6_sepconv2_act (Activation (None, 13, 9, 728)   0           block6_sepconv1_bn[0][0]         \n",
            "__________________________________________________________________________________________________\n",
            "block6_sepconv2 (SeparableConv2 (None, 13, 9, 728)   536536      block6_sepconv2_act[0][0]        \n",
            "__________________________________________________________________________________________________\n",
            "block6_sepconv2_bn (BatchNormal (None, 13, 9, 728)   2912        block6_sepconv2[0][0]            \n",
            "__________________________________________________________________________________________________\n",
            "block6_sepconv3_act (Activation (None, 13, 9, 728)   0           block6_sepconv2_bn[0][0]         \n",
            "__________________________________________________________________________________________________\n",
            "block6_sepconv3 (SeparableConv2 (None, 13, 9, 728)   536536      block6_sepconv3_act[0][0]        \n",
            "__________________________________________________________________________________________________\n",
            "block6_sepconv3_bn (BatchNormal (None, 13, 9, 728)   2912        block6_sepconv3[0][0]            \n",
            "__________________________________________________________________________________________________\n",
            "add_4 (Add)                     (None, 13, 9, 728)   0           block6_sepconv3_bn[0][0]         \n",
            "                                                                 add_3[0][0]                      \n",
            "__________________________________________________________________________________________________\n",
            "block7_sepconv1_act (Activation (None, 13, 9, 728)   0           add_4[0][0]                      \n",
            "__________________________________________________________________________________________________\n",
            "block7_sepconv1 (SeparableConv2 (None, 13, 9, 728)   536536      block7_sepconv1_act[0][0]        \n",
            "__________________________________________________________________________________________________\n",
            "block7_sepconv1_bn (BatchNormal (None, 13, 9, 728)   2912        block7_sepconv1[0][0]            \n",
            "__________________________________________________________________________________________________\n",
            "block7_sepconv2_act (Activation (None, 13, 9, 728)   0           block7_sepconv1_bn[0][0]         \n",
            "__________________________________________________________________________________________________\n",
            "block7_sepconv2 (SeparableConv2 (None, 13, 9, 728)   536536      block7_sepconv2_act[0][0]        \n",
            "__________________________________________________________________________________________________\n",
            "block7_sepconv2_bn (BatchNormal (None, 13, 9, 728)   2912        block7_sepconv2[0][0]            \n",
            "__________________________________________________________________________________________________\n",
            "block7_sepconv3_act (Activation (None, 13, 9, 728)   0           block7_sepconv2_bn[0][0]         \n",
            "__________________________________________________________________________________________________\n",
            "block7_sepconv3 (SeparableConv2 (None, 13, 9, 728)   536536      block7_sepconv3_act[0][0]        \n",
            "__________________________________________________________________________________________________\n",
            "block7_sepconv3_bn (BatchNormal (None, 13, 9, 728)   2912        block7_sepconv3[0][0]            \n",
            "__________________________________________________________________________________________________\n",
            "add_5 (Add)                     (None, 13, 9, 728)   0           block7_sepconv3_bn[0][0]         \n",
            "                                                                 add_4[0][0]                      \n",
            "__________________________________________________________________________________________________\n",
            "block8_sepconv1_act (Activation (None, 13, 9, 728)   0           add_5[0][0]                      \n",
            "__________________________________________________________________________________________________\n",
            "block8_sepconv1 (SeparableConv2 (None, 13, 9, 728)   536536      block8_sepconv1_act[0][0]        \n",
            "__________________________________________________________________________________________________\n",
            "block8_sepconv1_bn (BatchNormal (None, 13, 9, 728)   2912        block8_sepconv1[0][0]            \n",
            "__________________________________________________________________________________________________\n",
            "block8_sepconv2_act (Activation (None, 13, 9, 728)   0           block8_sepconv1_bn[0][0]         \n",
            "__________________________________________________________________________________________________\n",
            "block8_sepconv2 (SeparableConv2 (None, 13, 9, 728)   536536      block8_sepconv2_act[0][0]        \n",
            "__________________________________________________________________________________________________\n",
            "block8_sepconv2_bn (BatchNormal (None, 13, 9, 728)   2912        block8_sepconv2[0][0]            \n",
            "__________________________________________________________________________________________________\n",
            "block8_sepconv3_act (Activation (None, 13, 9, 728)   0           block8_sepconv2_bn[0][0]         \n",
            "__________________________________________________________________________________________________\n",
            "block8_sepconv3 (SeparableConv2 (None, 13, 9, 728)   536536      block8_sepconv3_act[0][0]        \n",
            "__________________________________________________________________________________________________\n",
            "block8_sepconv3_bn (BatchNormal (None, 13, 9, 728)   2912        block8_sepconv3[0][0]            \n",
            "__________________________________________________________________________________________________\n",
            "add_6 (Add)                     (None, 13, 9, 728)   0           block8_sepconv3_bn[0][0]         \n",
            "                                                                 add_5[0][0]                      \n",
            "__________________________________________________________________________________________________\n",
            "block9_sepconv1_act (Activation (None, 13, 9, 728)   0           add_6[0][0]                      \n",
            "__________________________________________________________________________________________________\n",
            "block9_sepconv1 (SeparableConv2 (None, 13, 9, 728)   536536      block9_sepconv1_act[0][0]        \n",
            "__________________________________________________________________________________________________\n",
            "block9_sepconv1_bn (BatchNormal (None, 13, 9, 728)   2912        block9_sepconv1[0][0]            \n",
            "__________________________________________________________________________________________________\n",
            "block9_sepconv2_act (Activation (None, 13, 9, 728)   0           block9_sepconv1_bn[0][0]         \n",
            "__________________________________________________________________________________________________\n",
            "block9_sepconv2 (SeparableConv2 (None, 13, 9, 728)   536536      block9_sepconv2_act[0][0]        \n",
            "__________________________________________________________________________________________________\n",
            "block9_sepconv2_bn (BatchNormal (None, 13, 9, 728)   2912        block9_sepconv2[0][0]            \n",
            "__________________________________________________________________________________________________\n",
            "block9_sepconv3_act (Activation (None, 13, 9, 728)   0           block9_sepconv2_bn[0][0]         \n",
            "__________________________________________________________________________________________________\n",
            "block9_sepconv3 (SeparableConv2 (None, 13, 9, 728)   536536      block9_sepconv3_act[0][0]        \n",
            "__________________________________________________________________________________________________\n",
            "block9_sepconv3_bn (BatchNormal (None, 13, 9, 728)   2912        block9_sepconv3[0][0]            \n",
            "__________________________________________________________________________________________________\n",
            "add_7 (Add)                     (None, 13, 9, 728)   0           block9_sepconv3_bn[0][0]         \n",
            "                                                                 add_6[0][0]                      \n",
            "__________________________________________________________________________________________________\n",
            "block10_sepconv1_act (Activatio (None, 13, 9, 728)   0           add_7[0][0]                      \n",
            "__________________________________________________________________________________________________\n",
            "block10_sepconv1 (SeparableConv (None, 13, 9, 728)   536536      block10_sepconv1_act[0][0]       \n",
            "__________________________________________________________________________________________________\n",
            "block10_sepconv1_bn (BatchNorma (None, 13, 9, 728)   2912        block10_sepconv1[0][0]           \n",
            "__________________________________________________________________________________________________\n",
            "block10_sepconv2_act (Activatio (None, 13, 9, 728)   0           block10_sepconv1_bn[0][0]        \n",
            "__________________________________________________________________________________________________\n",
            "block10_sepconv2 (SeparableConv (None, 13, 9, 728)   536536      block10_sepconv2_act[0][0]       \n",
            "__________________________________________________________________________________________________\n",
            "block10_sepconv2_bn (BatchNorma (None, 13, 9, 728)   2912        block10_sepconv2[0][0]           \n",
            "__________________________________________________________________________________________________\n",
            "block10_sepconv3_act (Activatio (None, 13, 9, 728)   0           block10_sepconv2_bn[0][0]        \n",
            "__________________________________________________________________________________________________\n",
            "block10_sepconv3 (SeparableConv (None, 13, 9, 728)   536536      block10_sepconv3_act[0][0]       \n",
            "__________________________________________________________________________________________________\n",
            "block10_sepconv3_bn (BatchNorma (None, 13, 9, 728)   2912        block10_sepconv3[0][0]           \n",
            "__________________________________________________________________________________________________\n",
            "add_8 (Add)                     (None, 13, 9, 728)   0           block10_sepconv3_bn[0][0]        \n",
            "                                                                 add_7[0][0]                      \n",
            "__________________________________________________________________________________________________\n",
            "block11_sepconv1_act (Activatio (None, 13, 9, 728)   0           add_8[0][0]                      \n",
            "__________________________________________________________________________________________________\n",
            "block11_sepconv1 (SeparableConv (None, 13, 9, 728)   536536      block11_sepconv1_act[0][0]       \n",
            "__________________________________________________________________________________________________\n",
            "block11_sepconv1_bn (BatchNorma (None, 13, 9, 728)   2912        block11_sepconv1[0][0]           \n",
            "__________________________________________________________________________________________________\n",
            "block11_sepconv2_act (Activatio (None, 13, 9, 728)   0           block11_sepconv1_bn[0][0]        \n",
            "__________________________________________________________________________________________________\n",
            "block11_sepconv2 (SeparableConv (None, 13, 9, 728)   536536      block11_sepconv2_act[0][0]       \n",
            "__________________________________________________________________________________________________\n",
            "block11_sepconv2_bn (BatchNorma (None, 13, 9, 728)   2912        block11_sepconv2[0][0]           \n",
            "__________________________________________________________________________________________________\n",
            "block11_sepconv3_act (Activatio (None, 13, 9, 728)   0           block11_sepconv2_bn[0][0]        \n",
            "__________________________________________________________________________________________________\n",
            "block11_sepconv3 (SeparableConv (None, 13, 9, 728)   536536      block11_sepconv3_act[0][0]       \n",
            "__________________________________________________________________________________________________\n",
            "block11_sepconv3_bn (BatchNorma (None, 13, 9, 728)   2912        block11_sepconv3[0][0]           \n",
            "__________________________________________________________________________________________________\n",
            "add_9 (Add)                     (None, 13, 9, 728)   0           block11_sepconv3_bn[0][0]        \n",
            "                                                                 add_8[0][0]                      \n",
            "__________________________________________________________________________________________________\n",
            "block12_sepconv1_act (Activatio (None, 13, 9, 728)   0           add_9[0][0]                      \n",
            "__________________________________________________________________________________________________\n",
            "block12_sepconv1 (SeparableConv (None, 13, 9, 728)   536536      block12_sepconv1_act[0][0]       \n",
            "__________________________________________________________________________________________________\n",
            "block12_sepconv1_bn (BatchNorma (None, 13, 9, 728)   2912        block12_sepconv1[0][0]           \n",
            "__________________________________________________________________________________________________\n",
            "block12_sepconv2_act (Activatio (None, 13, 9, 728)   0           block12_sepconv1_bn[0][0]        \n",
            "__________________________________________________________________________________________________\n",
            "block12_sepconv2 (SeparableConv (None, 13, 9, 728)   536536      block12_sepconv2_act[0][0]       \n",
            "__________________________________________________________________________________________________\n",
            "block12_sepconv2_bn (BatchNorma (None, 13, 9, 728)   2912        block12_sepconv2[0][0]           \n",
            "__________________________________________________________________________________________________\n",
            "block12_sepconv3_act (Activatio (None, 13, 9, 728)   0           block12_sepconv2_bn[0][0]        \n",
            "__________________________________________________________________________________________________\n",
            "block12_sepconv3 (SeparableConv (None, 13, 9, 728)   536536      block12_sepconv3_act[0][0]       \n",
            "__________________________________________________________________________________________________\n",
            "block12_sepconv3_bn (BatchNorma (None, 13, 9, 728)   2912        block12_sepconv3[0][0]           \n",
            "__________________________________________________________________________________________________\n",
            "add_10 (Add)                    (None, 13, 9, 728)   0           block12_sepconv3_bn[0][0]        \n",
            "                                                                 add_9[0][0]                      \n",
            "__________________________________________________________________________________________________\n",
            "block13_sepconv1_act (Activatio (None, 13, 9, 728)   0           add_10[0][0]                     \n",
            "__________________________________________________________________________________________________\n",
            "block13_sepconv1 (SeparableConv (None, 13, 9, 728)   536536      block13_sepconv1_act[0][0]       \n",
            "__________________________________________________________________________________________________\n",
            "block13_sepconv1_bn (BatchNorma (None, 13, 9, 728)   2912        block13_sepconv1[0][0]           \n",
            "__________________________________________________________________________________________________\n",
            "block13_sepconv2_act (Activatio (None, 13, 9, 728)   0           block13_sepconv1_bn[0][0]        \n",
            "__________________________________________________________________________________________________\n",
            "block13_sepconv2 (SeparableConv (None, 13, 9, 1024)  752024      block13_sepconv2_act[0][0]       \n",
            "__________________________________________________________________________________________________\n",
            "block13_sepconv2_bn (BatchNorma (None, 13, 9, 1024)  4096        block13_sepconv2[0][0]           \n",
            "__________________________________________________________________________________________________\n",
            "conv2d_3 (Conv2D)               (None, 7, 5, 1024)   745472      add_10[0][0]                     \n",
            "__________________________________________________________________________________________________\n",
            "block13_pool (MaxPooling2D)     (None, 7, 5, 1024)   0           block13_sepconv2_bn[0][0]        \n",
            "__________________________________________________________________________________________________\n",
            "batch_normalization_3 (BatchNor (None, 7, 5, 1024)   4096        conv2d_3[0][0]                   \n",
            "__________________________________________________________________________________________________\n",
            "add_11 (Add)                    (None, 7, 5, 1024)   0           block13_pool[0][0]               \n",
            "                                                                 batch_normalization_3[0][0]      \n",
            "__________________________________________________________________________________________________\n",
            "block14_sepconv1 (SeparableConv (None, 7, 5, 1536)   1582080     add_11[0][0]                     \n",
            "__________________________________________________________________________________________________\n",
            "block14_sepconv1_bn (BatchNorma (None, 7, 5, 1536)   6144        block14_sepconv1[0][0]           \n",
            "__________________________________________________________________________________________________\n",
            "block14_sepconv1_act (Activatio (None, 7, 5, 1536)   0           block14_sepconv1_bn[0][0]        \n",
            "__________________________________________________________________________________________________\n",
            "block14_sepconv2 (SeparableConv (None, 7, 5, 2048)   3159552     block14_sepconv1_act[0][0]       \n",
            "__________________________________________________________________________________________________\n",
            "block14_sepconv2_bn (BatchNorma (None, 7, 5, 2048)   8192        block14_sepconv2[0][0]           \n",
            "__________________________________________________________________________________________________\n",
            "block14_sepconv2_act (Activatio (None, 7, 5, 2048)   0           block14_sepconv2_bn[0][0]        \n",
            "==================================================================================================\n",
            "Total params: 20,861,480\n",
            "Trainable params: 20,806,952\n",
            "Non-trainable params: 54,528\n",
            "__________________________________________________________________________________________________\n"
          ],
          "name": "stdout"
        }
      ]
    },
    {
      "metadata": {
        "id": "-6f55_I8mMkO",
        "colab_type": "code",
        "outputId": "37789b57-a393-40c1-e115-44089cd9d43e",
        "colab": {
          "base_uri": "https://localhost:8080/",
          "height": 272
        }
      },
      "cell_type": "code",
      "source": [
        "# densely connected classifier on top of the convolutional base\n",
        "model_xc = models.Sequential()\n",
        "model_xc.add(conv_base_xc)\n",
        "model_xc.add(layers.Flatten())\n",
        "model_xc.add(layers.Dense(256, activation='relu'))\n",
        "model_xc.add(layers.Dense(1, activation='sigmoid'))\n",
        "\n",
        "# freeze convolutional base\n",
        "conv_base_xc.trainable = False\n",
        "\n",
        "model_xc.summary()"
      ],
      "execution_count": 0,
      "outputs": [
        {
          "output_type": "stream",
          "text": [
            "_________________________________________________________________\n",
            "Layer (type)                 Output Shape              Param #   \n",
            "=================================================================\n",
            "xception (Model)             (None, 7, 5, 2048)        20861480  \n",
            "_________________________________________________________________\n",
            "flatten (Flatten)            (None, 71680)             0         \n",
            "_________________________________________________________________\n",
            "dense (Dense)                (None, 256)               18350336  \n",
            "_________________________________________________________________\n",
            "dense_1 (Dense)              (None, 1)                 257       \n",
            "=================================================================\n",
            "Total params: 39,212,073\n",
            "Trainable params: 18,350,593\n",
            "Non-trainable params: 20,861,480\n",
            "_________________________________________________________________\n"
          ],
          "name": "stdout"
        }
      ]
    },
    {
      "metadata": {
        "id": "dfUflNEbjrYG",
        "colab_type": "code",
        "outputId": "d911d9b4-2cb0-4bf4-da5c-590d0f3479d1",
        "colab": {
          "base_uri": "https://localhost:8080/",
          "height": 1377
        }
      },
      "cell_type": "code",
      "source": [
        "model_xc.compile(loss='binary_crossentropy', optimizer=optimizers.RMSprop(lr=2e-5), metrics=['acc'])\n",
        "\n",
        "history_xc = model_xc.fit_generator(train_gen, steps_per_epoch=steps_per_epoch, epochs=no_epochs, validation_data=validation_gen,\n",
        "                              validation_steps=validation_steps)"
      ],
      "execution_count": 0,
      "outputs": [
        {
          "output_type": "stream",
          "text": [
            "Epoch 1/40\n",
            "100/100 [==============================] - 55s 554ms/step - loss: 0.5799 - acc: 0.7195 - val_loss: 0.6633 - val_acc: 0.6410\n",
            "Epoch 2/40\n",
            "100/100 [==============================] - 49s 487ms/step - loss: 0.5232 - acc: 0.7660 - val_loss: 0.5126 - val_acc: 0.7780\n",
            "Epoch 3/40\n",
            "100/100 [==============================] - 49s 487ms/step - loss: 0.4955 - acc: 0.7585 - val_loss: 0.4749 - val_acc: 0.7680\n",
            "Epoch 4/40\n",
            "100/100 [==============================] - 49s 490ms/step - loss: 0.5039 - acc: 0.7590 - val_loss: 0.4692 - val_acc: 0.7790\n",
            "Epoch 5/40\n",
            "100/100 [==============================] - 49s 487ms/step - loss: 0.4646 - acc: 0.7810 - val_loss: 0.4843 - val_acc: 0.7640\n",
            "Epoch 6/40\n",
            "100/100 [==============================] - 49s 486ms/step - loss: 0.5089 - acc: 0.7715 - val_loss: 0.4319 - val_acc: 0.7960\n",
            "Epoch 7/40\n",
            "100/100 [==============================] - 49s 488ms/step - loss: 0.4569 - acc: 0.7980 - val_loss: 0.4336 - val_acc: 0.7930\n",
            "Epoch 8/40\n",
            "100/100 [==============================] - 49s 487ms/step - loss: 0.4501 - acc: 0.7935 - val_loss: 0.4429 - val_acc: 0.7840\n",
            "Epoch 9/40\n",
            "100/100 [==============================] - 48s 484ms/step - loss: 0.4800 - acc: 0.7640 - val_loss: 0.4544 - val_acc: 0.7800\n",
            "Epoch 10/40\n",
            "100/100 [==============================] - 49s 487ms/step - loss: 0.4595 - acc: 0.8005 - val_loss: 0.4805 - val_acc: 0.7730\n",
            "Epoch 11/40\n",
            "100/100 [==============================] - 48s 485ms/step - loss: 0.4498 - acc: 0.7905 - val_loss: 0.4311 - val_acc: 0.7940\n",
            "Epoch 12/40\n",
            "100/100 [==============================] - 49s 487ms/step - loss: 0.4562 - acc: 0.7935 - val_loss: 0.4551 - val_acc: 0.7950\n",
            "Epoch 13/40\n",
            "100/100 [==============================] - 49s 486ms/step - loss: 0.4645 - acc: 0.7980 - val_loss: 0.4694 - val_acc: 0.7930\n",
            "Epoch 14/40\n",
            "100/100 [==============================] - 49s 486ms/step - loss: 0.4614 - acc: 0.7940 - val_loss: 0.4480 - val_acc: 0.7990\n",
            "Epoch 15/40\n",
            "100/100 [==============================] - 49s 487ms/step - loss: 0.4480 - acc: 0.7940 - val_loss: 0.4449 - val_acc: 0.7990\n",
            "Epoch 16/40\n",
            "100/100 [==============================] - 49s 488ms/step - loss: 0.4622 - acc: 0.7995 - val_loss: 0.4216 - val_acc: 0.8000\n",
            "Epoch 17/40\n",
            "100/100 [==============================] - 49s 488ms/step - loss: 0.4706 - acc: 0.7900 - val_loss: 0.4261 - val_acc: 0.7990\n",
            "Epoch 18/40\n",
            "100/100 [==============================] - 49s 488ms/step - loss: 0.4450 - acc: 0.7985 - val_loss: 0.4359 - val_acc: 0.7990\n",
            "Epoch 19/40\n",
            "100/100 [==============================] - 49s 490ms/step - loss: 0.4337 - acc: 0.8035 - val_loss: 0.4081 - val_acc: 0.8290\n",
            "Epoch 20/40\n",
            "100/100 [==============================] - 49s 486ms/step - loss: 0.4235 - acc: 0.8040 - val_loss: 0.4065 - val_acc: 0.8270\n",
            "Epoch 21/40\n",
            "100/100 [==============================] - 49s 486ms/step - loss: 0.4512 - acc: 0.7990 - val_loss: 0.4142 - val_acc: 0.8110\n",
            "Epoch 22/40\n",
            "100/100 [==============================] - 49s 487ms/step - loss: 0.4458 - acc: 0.8075 - val_loss: 0.4901 - val_acc: 0.7780\n",
            "Epoch 23/40\n",
            "100/100 [==============================] - 49s 488ms/step - loss: 0.4380 - acc: 0.8110 - val_loss: 0.4395 - val_acc: 0.8140\n",
            "Epoch 24/40\n",
            "100/100 [==============================] - 49s 486ms/step - loss: 0.4379 - acc: 0.8015 - val_loss: 0.4294 - val_acc: 0.7980\n",
            "Epoch 25/40\n",
            "100/100 [==============================] - 49s 486ms/step - loss: 0.4490 - acc: 0.8030 - val_loss: 0.4317 - val_acc: 0.8100\n",
            "Epoch 26/40\n",
            "100/100 [==============================] - 49s 488ms/step - loss: 0.4431 - acc: 0.8135 - val_loss: 0.4531 - val_acc: 0.7930\n",
            "Epoch 27/40\n",
            "100/100 [==============================] - 49s 487ms/step - loss: 0.4350 - acc: 0.8140 - val_loss: 0.4274 - val_acc: 0.8220\n",
            "Epoch 28/40\n",
            "100/100 [==============================] - 49s 485ms/step - loss: 0.4298 - acc: 0.8130 - val_loss: 0.4272 - val_acc: 0.8110\n",
            "Epoch 29/40\n",
            "100/100 [==============================] - 49s 490ms/step - loss: 0.4365 - acc: 0.8125 - val_loss: 0.5041 - val_acc: 0.7700\n",
            "Epoch 30/40\n",
            "100/100 [==============================] - 49s 487ms/step - loss: 0.4206 - acc: 0.8070 - val_loss: 0.4063 - val_acc: 0.8100\n",
            "Epoch 31/40\n",
            "100/100 [==============================] - 49s 489ms/step - loss: 0.4282 - acc: 0.8115 - val_loss: 0.4459 - val_acc: 0.8030\n",
            "Epoch 32/40\n",
            "100/100 [==============================] - 49s 488ms/step - loss: 0.4472 - acc: 0.7985 - val_loss: 0.4144 - val_acc: 0.8160\n",
            "Epoch 33/40\n",
            "100/100 [==============================] - 49s 486ms/step - loss: 0.4370 - acc: 0.8080 - val_loss: 0.4558 - val_acc: 0.7820\n",
            "Epoch 34/40\n",
            "100/100 [==============================] - 49s 489ms/step - loss: 0.4295 - acc: 0.8150 - val_loss: 0.4076 - val_acc: 0.8240\n",
            "Epoch 35/40\n",
            "100/100 [==============================] - 49s 489ms/step - loss: 0.4202 - acc: 0.8195 - val_loss: 0.4499 - val_acc: 0.8140\n",
            "Epoch 36/40\n",
            "100/100 [==============================] - 49s 486ms/step - loss: 0.4451 - acc: 0.8030 - val_loss: 0.4160 - val_acc: 0.8270\n",
            "Epoch 37/40\n",
            "100/100 [==============================] - 49s 487ms/step - loss: 0.4269 - acc: 0.8105 - val_loss: 0.4157 - val_acc: 0.8190\n",
            "Epoch 38/40\n",
            "100/100 [==============================] - 49s 486ms/step - loss: 0.4393 - acc: 0.8080 - val_loss: 0.4453 - val_acc: 0.7910\n",
            "Epoch 39/40\n",
            "100/100 [==============================] - 49s 487ms/step - loss: 0.4291 - acc: 0.8210 - val_loss: 0.4265 - val_acc: 0.8010\n",
            "Epoch 40/40\n",
            "100/100 [==============================] - 49s 486ms/step - loss: 0.4405 - acc: 0.7975 - val_loss: 0.4313 - val_acc: 0.8050\n"
          ],
          "name": "stdout"
        }
      ]
    },
    {
      "metadata": {
        "id": "QGFS5-Uxj0tW",
        "colab_type": "code",
        "outputId": "a6b7d92c-7069-4b3e-d68d-e27ccbd4efe3",
        "colab": {
          "base_uri": "https://localhost:8080/",
          "height": 928
        }
      },
      "cell_type": "code",
      "source": [
        "# test the trained network\n",
        "plot_history(history_xc)\n",
        "\n",
        "# test_loss, test_acc = model_vgg16.evaluate_generator(test_gen, steps=50)\n",
        "# print('test acc:', test_acc)\n",
        "\n",
        "\n",
        "Y_pred = model_xc.predict_classes(test_gen)\n",
        "y_pred = [p[0] for p in Y_pred]\n",
        "\n",
        "print('Confusion Matrix')\n",
        "print(confusion_matrix(test_gen.classes, y_pred))\n",
        "\n",
        "print('Classification Report')\n",
        "target_names = ['les', 'nv']\n",
        "print(classification_report(test_gen.classes, y_pred, target_names=target_names))"
      ],
      "execution_count": 0,
      "outputs": [
        {
          "output_type": "display_data",
          "data": {
            "image/png": "[encoded data removed]",
            "text/plain": [
              "<matplotlib.figure.Figure at 0x7fa24ca6feb8>"
            ]
          },
          "metadata": {
            "tags": []
          }
        },
        {
          "output_type": "display_data",
          "data": {
            "image/png": "[encoded data removed]",
            "text/plain": [
              "<matplotlib.figure.Figure at 0x7fa24df0a780>"
            ]
          },
          "metadata": {
            "tags": []
          }
        },
        {
          "output_type": "stream",
          "text": [
            "Confusion Matrix\n",
            "[[258  42]\n",
            " [ 70 230]]\n",
            "Classification Report\n",
            "              precision    recall  f1-score   support\n",
            "\n",
            "         les       0.79      0.86      0.82       300\n",
            "          nv       0.85      0.77      0.80       300\n",
            "\n",
            "   micro avg       0.81      0.81      0.81       600\n",
            "   macro avg       0.82      0.81      0.81       600\n",
            "weighted avg       0.82      0.81      0.81       600\n",
            "\n"
          ],
          "name": "stdout"
        }
      ]
    },
    {
      "metadata": {
        "id": "MGzO3L2oj54E",
        "colab_type": "code",
        "outputId": "468de0c9-bb3e-443b-8f34-8286af245858",
        "colab": {
          "base_uri": "https://localhost:8080/",
          "height": 35
        }
      },
      "cell_type": "code",
      "source": [
        "path_model = 'xception_baseline_e40.h5'\n",
        "drive_name = 'xception_baseline_e40.h5'\n",
        "#models.save_model(model, path_model)\n",
        "# Save entire model to a HDF5 file\n",
        "model.save(path_model)\n",
        "\n",
        "save_file_to_drive(drive_name, path_model)"
      ],
      "execution_count": 0,
      "outputs": [
        {
          "output_type": "execute_result",
          "data": {
            "text/plain": [
              "{'id': '1CsNcyRxdhSlkBAPNJ9HQfR3BhMIBVl0m'}"
            ]
          },
          "metadata": {
            "tags": []
          },
          "execution_count": 99
        }
      ]
    },
    {
      "metadata": {
        "id": "NRbZOx7SznFv",
        "colab_type": "code",
        "colab": {}
      },
      "cell_type": "code",
      "source": [
        "# import tarfile\n",
        "# tar = tarfile.open(\"test_300.tar.gz\", \"w:gz\")\n",
        "# tar.add(test_path, arcname=\"test_300\")\n",
        "# tar.close()\n",
        "\n",
        "# save_file_to_drive(\"val_300.tar.gz\", \"val_300.tar.gz\")\n",
        "# save_file_to_drive(\"test_300.tar.gz\", \"test_300.tar.gz\")"
      ],
      "execution_count": 0,
      "outputs": []
    },
    {
      "metadata": {
        "id": "PGM730tfjYXk",
        "colab_type": "code",
        "colab": {}
      },
      "cell_type": "code",
      "source": [
        "# test prediction of an image\n",
        "# malignant\n",
        "#img_path = './data/test/malignant/ISIC_0000030.jpg'\n",
        "# benign\n",
        "# img_path = './data/test/benign/ISIC_0000179.jpg'\n",
        "\n",
        "# # fix naming!!!\n",
        "\n",
        "\n",
        "# img = image.load_img(img_path, target_size=(150, 150))\n",
        "# img_tensor = image.img_to_array(img)\n",
        "# img_tensor = np.expand_dims(img_tensor, axis=0)\n",
        "# img_tensor /= 255.\n",
        "\n",
        "# pred = model.predict_classes(img_tensor)\n",
        "\n",
        "# print(pred)"
      ],
      "execution_count": 0,
      "outputs": []
    }
  ]
}